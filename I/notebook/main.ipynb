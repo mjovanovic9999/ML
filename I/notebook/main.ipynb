{
 "cells": [
  {
   "cell_type": "markdown",
   "metadata": {},
   "source": [
    "# Masinsko ucenje - projekat\n",
    "\n",
    "Dataset: https://archive.ics.uci.edu/ml/datasets/Diabetes+130-US+hospitals+for+years+1999-2008\n",
    " \n",
    "Klasifikacija - Predviđanje ponovne hospitalizacije pacijenta sa dijabetesom na osnovu podataka sa inicijalne hospitalizacije\n",
    "\n",
    "1.   Priprema podataka"
   ]
  },
  {
   "cell_type": "code",
   "execution_count": 1,
   "metadata": {},
   "outputs": [],
   "source": [
    "import pandas as pd\n",
    "import sklearn as scikit\n",
    "import numpy as np\n",
    "from sklearn.preprocessing import LabelBinarizer, MultiLabelBinarizer, LabelEncoder\n",
    "import copy\n",
    "import matplotlib.pyplot as plt\n",
    "import category_encoders as ce\n",
    "from sklearn.ensemble import GradientBoostingRegressor\n",
    "from sklearn.metrics import mean_squared_error\n",
    "from sklearn.model_selection import train_test_split\n",
    "from sklearn.inspection import permutation_importance\n",
    "from math import ceil\n",
    "from sklearn.feature_selection import SelectKBest, SelectPercentile, mutual_info_classif, SelectFromModel, VarianceThreshold\n",
    "\n",
    "run_long_tasks = True\n",
    "final_df = True\n"
   ]
  },
  {
   "cell_type": "code",
   "execution_count": 2,
   "metadata": {},
   "outputs": [
    {
     "data": {
      "text/html": [
       "<div>\n",
       "<style scoped>\n",
       "    .dataframe tbody tr th:only-of-type {\n",
       "        vertical-align: middle;\n",
       "    }\n",
       "\n",
       "    .dataframe tbody tr th {\n",
       "        vertical-align: top;\n",
       "    }\n",
       "\n",
       "    .dataframe thead th {\n",
       "        text-align: right;\n",
       "    }\n",
       "</style>\n",
       "<table border=\"1\" class=\"dataframe\">\n",
       "  <thead>\n",
       "    <tr style=\"text-align: right;\">\n",
       "      <th></th>\n",
       "      <th>encounter_id</th>\n",
       "      <th>patient_nbr</th>\n",
       "      <th>race</th>\n",
       "      <th>gender</th>\n",
       "      <th>age</th>\n",
       "      <th>weight</th>\n",
       "      <th>admission_type_id</th>\n",
       "      <th>discharge_disposition_id</th>\n",
       "      <th>admission_source_id</th>\n",
       "      <th>time_in_hospital</th>\n",
       "      <th>payer_code</th>\n",
       "      <th>medical_specialty</th>\n",
       "      <th>num_lab_procedures</th>\n",
       "      <th>num_procedures</th>\n",
       "      <th>num_medications</th>\n",
       "      <th>number_outpatient</th>\n",
       "      <th>number_emergency</th>\n",
       "      <th>number_inpatient</th>\n",
       "      <th>diag_1</th>\n",
       "      <th>diag_2</th>\n",
       "      <th>diag_3</th>\n",
       "      <th>number_diagnoses</th>\n",
       "      <th>max_glu_serum</th>\n",
       "      <th>A1Cresult</th>\n",
       "      <th>metformin</th>\n",
       "      <th>repaglinide</th>\n",
       "      <th>nateglinide</th>\n",
       "      <th>chlorpropamide</th>\n",
       "      <th>glimepiride</th>\n",
       "      <th>acetohexamide</th>\n",
       "      <th>glipizide</th>\n",
       "      <th>glyburide</th>\n",
       "      <th>tolbutamide</th>\n",
       "      <th>pioglitazone</th>\n",
       "      <th>rosiglitazone</th>\n",
       "      <th>acarbose</th>\n",
       "      <th>miglitol</th>\n",
       "      <th>troglitazone</th>\n",
       "      <th>tolazamide</th>\n",
       "      <th>examide</th>\n",
       "      <th>citoglipton</th>\n",
       "      <th>insulin</th>\n",
       "      <th>glyburide-metformin</th>\n",
       "      <th>glipizide-metformin</th>\n",
       "      <th>glimepiride-pioglitazone</th>\n",
       "      <th>metformin-rosiglitazone</th>\n",
       "      <th>metformin-pioglitazone</th>\n",
       "      <th>change</th>\n",
       "      <th>diabetesMed</th>\n",
       "      <th>readmitted</th>\n",
       "    </tr>\n",
       "  </thead>\n",
       "  <tbody>\n",
       "    <tr>\n",
       "      <th>0</th>\n",
       "      <td>2278392</td>\n",
       "      <td>8222157</td>\n",
       "      <td>Caucasian</td>\n",
       "      <td>Female</td>\n",
       "      <td>[0-10)</td>\n",
       "      <td>NaN</td>\n",
       "      <td>6</td>\n",
       "      <td>25</td>\n",
       "      <td>1</td>\n",
       "      <td>1</td>\n",
       "      <td>NaN</td>\n",
       "      <td>Pediatrics-Endocrinology</td>\n",
       "      <td>41</td>\n",
       "      <td>0</td>\n",
       "      <td>1</td>\n",
       "      <td>0</td>\n",
       "      <td>0</td>\n",
       "      <td>0</td>\n",
       "      <td>250.83</td>\n",
       "      <td>NaN</td>\n",
       "      <td>NaN</td>\n",
       "      <td>1</td>\n",
       "      <td>None</td>\n",
       "      <td>None</td>\n",
       "      <td>No</td>\n",
       "      <td>No</td>\n",
       "      <td>No</td>\n",
       "      <td>No</td>\n",
       "      <td>No</td>\n",
       "      <td>No</td>\n",
       "      <td>No</td>\n",
       "      <td>No</td>\n",
       "      <td>No</td>\n",
       "      <td>No</td>\n",
       "      <td>No</td>\n",
       "      <td>No</td>\n",
       "      <td>No</td>\n",
       "      <td>No</td>\n",
       "      <td>No</td>\n",
       "      <td>No</td>\n",
       "      <td>No</td>\n",
       "      <td>No</td>\n",
       "      <td>No</td>\n",
       "      <td>No</td>\n",
       "      <td>No</td>\n",
       "      <td>No</td>\n",
       "      <td>No</td>\n",
       "      <td>No</td>\n",
       "      <td>No</td>\n",
       "      <td>NO</td>\n",
       "    </tr>\n",
       "    <tr>\n",
       "      <th>1</th>\n",
       "      <td>149190</td>\n",
       "      <td>55629189</td>\n",
       "      <td>Caucasian</td>\n",
       "      <td>Female</td>\n",
       "      <td>[10-20)</td>\n",
       "      <td>NaN</td>\n",
       "      <td>1</td>\n",
       "      <td>1</td>\n",
       "      <td>7</td>\n",
       "      <td>3</td>\n",
       "      <td>NaN</td>\n",
       "      <td>NaN</td>\n",
       "      <td>59</td>\n",
       "      <td>0</td>\n",
       "      <td>18</td>\n",
       "      <td>0</td>\n",
       "      <td>0</td>\n",
       "      <td>0</td>\n",
       "      <td>276</td>\n",
       "      <td>250.01</td>\n",
       "      <td>255</td>\n",
       "      <td>9</td>\n",
       "      <td>None</td>\n",
       "      <td>None</td>\n",
       "      <td>No</td>\n",
       "      <td>No</td>\n",
       "      <td>No</td>\n",
       "      <td>No</td>\n",
       "      <td>No</td>\n",
       "      <td>No</td>\n",
       "      <td>No</td>\n",
       "      <td>No</td>\n",
       "      <td>No</td>\n",
       "      <td>No</td>\n",
       "      <td>No</td>\n",
       "      <td>No</td>\n",
       "      <td>No</td>\n",
       "      <td>No</td>\n",
       "      <td>No</td>\n",
       "      <td>No</td>\n",
       "      <td>No</td>\n",
       "      <td>Up</td>\n",
       "      <td>No</td>\n",
       "      <td>No</td>\n",
       "      <td>No</td>\n",
       "      <td>No</td>\n",
       "      <td>No</td>\n",
       "      <td>Ch</td>\n",
       "      <td>Yes</td>\n",
       "      <td>&gt;30</td>\n",
       "    </tr>\n",
       "    <tr>\n",
       "      <th>2</th>\n",
       "      <td>64410</td>\n",
       "      <td>86047875</td>\n",
       "      <td>AfricanAmerican</td>\n",
       "      <td>Female</td>\n",
       "      <td>[20-30)</td>\n",
       "      <td>NaN</td>\n",
       "      <td>1</td>\n",
       "      <td>1</td>\n",
       "      <td>7</td>\n",
       "      <td>2</td>\n",
       "      <td>NaN</td>\n",
       "      <td>NaN</td>\n",
       "      <td>11</td>\n",
       "      <td>5</td>\n",
       "      <td>13</td>\n",
       "      <td>2</td>\n",
       "      <td>0</td>\n",
       "      <td>1</td>\n",
       "      <td>648</td>\n",
       "      <td>250</td>\n",
       "      <td>V27</td>\n",
       "      <td>6</td>\n",
       "      <td>None</td>\n",
       "      <td>None</td>\n",
       "      <td>No</td>\n",
       "      <td>No</td>\n",
       "      <td>No</td>\n",
       "      <td>No</td>\n",
       "      <td>No</td>\n",
       "      <td>No</td>\n",
       "      <td>Steady</td>\n",
       "      <td>No</td>\n",
       "      <td>No</td>\n",
       "      <td>No</td>\n",
       "      <td>No</td>\n",
       "      <td>No</td>\n",
       "      <td>No</td>\n",
       "      <td>No</td>\n",
       "      <td>No</td>\n",
       "      <td>No</td>\n",
       "      <td>No</td>\n",
       "      <td>No</td>\n",
       "      <td>No</td>\n",
       "      <td>No</td>\n",
       "      <td>No</td>\n",
       "      <td>No</td>\n",
       "      <td>No</td>\n",
       "      <td>No</td>\n",
       "      <td>Yes</td>\n",
       "      <td>NO</td>\n",
       "    </tr>\n",
       "    <tr>\n",
       "      <th>3</th>\n",
       "      <td>500364</td>\n",
       "      <td>82442376</td>\n",
       "      <td>Caucasian</td>\n",
       "      <td>Male</td>\n",
       "      <td>[30-40)</td>\n",
       "      <td>NaN</td>\n",
       "      <td>1</td>\n",
       "      <td>1</td>\n",
       "      <td>7</td>\n",
       "      <td>2</td>\n",
       "      <td>NaN</td>\n",
       "      <td>NaN</td>\n",
       "      <td>44</td>\n",
       "      <td>1</td>\n",
       "      <td>16</td>\n",
       "      <td>0</td>\n",
       "      <td>0</td>\n",
       "      <td>0</td>\n",
       "      <td>8</td>\n",
       "      <td>250.43</td>\n",
       "      <td>403</td>\n",
       "      <td>7</td>\n",
       "      <td>None</td>\n",
       "      <td>None</td>\n",
       "      <td>No</td>\n",
       "      <td>No</td>\n",
       "      <td>No</td>\n",
       "      <td>No</td>\n",
       "      <td>No</td>\n",
       "      <td>No</td>\n",
       "      <td>No</td>\n",
       "      <td>No</td>\n",
       "      <td>No</td>\n",
       "      <td>No</td>\n",
       "      <td>No</td>\n",
       "      <td>No</td>\n",
       "      <td>No</td>\n",
       "      <td>No</td>\n",
       "      <td>No</td>\n",
       "      <td>No</td>\n",
       "      <td>No</td>\n",
       "      <td>Up</td>\n",
       "      <td>No</td>\n",
       "      <td>No</td>\n",
       "      <td>No</td>\n",
       "      <td>No</td>\n",
       "      <td>No</td>\n",
       "      <td>Ch</td>\n",
       "      <td>Yes</td>\n",
       "      <td>NO</td>\n",
       "    </tr>\n",
       "    <tr>\n",
       "      <th>4</th>\n",
       "      <td>16680</td>\n",
       "      <td>42519267</td>\n",
       "      <td>Caucasian</td>\n",
       "      <td>Male</td>\n",
       "      <td>[40-50)</td>\n",
       "      <td>NaN</td>\n",
       "      <td>1</td>\n",
       "      <td>1</td>\n",
       "      <td>7</td>\n",
       "      <td>1</td>\n",
       "      <td>NaN</td>\n",
       "      <td>NaN</td>\n",
       "      <td>51</td>\n",
       "      <td>0</td>\n",
       "      <td>8</td>\n",
       "      <td>0</td>\n",
       "      <td>0</td>\n",
       "      <td>0</td>\n",
       "      <td>197</td>\n",
       "      <td>157</td>\n",
       "      <td>250</td>\n",
       "      <td>5</td>\n",
       "      <td>None</td>\n",
       "      <td>None</td>\n",
       "      <td>No</td>\n",
       "      <td>No</td>\n",
       "      <td>No</td>\n",
       "      <td>No</td>\n",
       "      <td>No</td>\n",
       "      <td>No</td>\n",
       "      <td>Steady</td>\n",
       "      <td>No</td>\n",
       "      <td>No</td>\n",
       "      <td>No</td>\n",
       "      <td>No</td>\n",
       "      <td>No</td>\n",
       "      <td>No</td>\n",
       "      <td>No</td>\n",
       "      <td>No</td>\n",
       "      <td>No</td>\n",
       "      <td>No</td>\n",
       "      <td>Steady</td>\n",
       "      <td>No</td>\n",
       "      <td>No</td>\n",
       "      <td>No</td>\n",
       "      <td>No</td>\n",
       "      <td>No</td>\n",
       "      <td>Ch</td>\n",
       "      <td>Yes</td>\n",
       "      <td>NO</td>\n",
       "    </tr>\n",
       "  </tbody>\n",
       "</table>\n",
       "</div>"
      ],
      "text/plain": [
       "   encounter_id  patient_nbr             race  gender      age weight  \\\n",
       "0       2278392      8222157        Caucasian  Female   [0-10)    NaN   \n",
       "1        149190     55629189        Caucasian  Female  [10-20)    NaN   \n",
       "2         64410     86047875  AfricanAmerican  Female  [20-30)    NaN   \n",
       "3        500364     82442376        Caucasian    Male  [30-40)    NaN   \n",
       "4         16680     42519267        Caucasian    Male  [40-50)    NaN   \n",
       "\n",
       "   admission_type_id  discharge_disposition_id  admission_source_id  \\\n",
       "0                  6                        25                    1   \n",
       "1                  1                         1                    7   \n",
       "2                  1                         1                    7   \n",
       "3                  1                         1                    7   \n",
       "4                  1                         1                    7   \n",
       "\n",
       "   time_in_hospital payer_code         medical_specialty  num_lab_procedures  \\\n",
       "0                 1        NaN  Pediatrics-Endocrinology                  41   \n",
       "1                 3        NaN                       NaN                  59   \n",
       "2                 2        NaN                       NaN                  11   \n",
       "3                 2        NaN                       NaN                  44   \n",
       "4                 1        NaN                       NaN                  51   \n",
       "\n",
       "   num_procedures  num_medications  number_outpatient  number_emergency  \\\n",
       "0               0                1                  0                 0   \n",
       "1               0               18                  0                 0   \n",
       "2               5               13                  2                 0   \n",
       "3               1               16                  0                 0   \n",
       "4               0                8                  0                 0   \n",
       "\n",
       "   number_inpatient  diag_1  diag_2 diag_3  number_diagnoses max_glu_serum  \\\n",
       "0                 0  250.83     NaN    NaN                 1          None   \n",
       "1                 0     276  250.01    255                 9          None   \n",
       "2                 1     648     250    V27                 6          None   \n",
       "3                 0       8  250.43    403                 7          None   \n",
       "4                 0     197     157    250                 5          None   \n",
       "\n",
       "  A1Cresult metformin repaglinide nateglinide chlorpropamide glimepiride  \\\n",
       "0      None        No          No          No             No          No   \n",
       "1      None        No          No          No             No          No   \n",
       "2      None        No          No          No             No          No   \n",
       "3      None        No          No          No             No          No   \n",
       "4      None        No          No          No             No          No   \n",
       "\n",
       "  acetohexamide glipizide glyburide tolbutamide pioglitazone rosiglitazone  \\\n",
       "0            No        No        No          No           No            No   \n",
       "1            No        No        No          No           No            No   \n",
       "2            No    Steady        No          No           No            No   \n",
       "3            No        No        No          No           No            No   \n",
       "4            No    Steady        No          No           No            No   \n",
       "\n",
       "  acarbose miglitol troglitazone tolazamide examide citoglipton insulin  \\\n",
       "0       No       No           No         No      No          No      No   \n",
       "1       No       No           No         No      No          No      Up   \n",
       "2       No       No           No         No      No          No      No   \n",
       "3       No       No           No         No      No          No      Up   \n",
       "4       No       No           No         No      No          No  Steady   \n",
       "\n",
       "  glyburide-metformin glipizide-metformin glimepiride-pioglitazone  \\\n",
       "0                  No                  No                       No   \n",
       "1                  No                  No                       No   \n",
       "2                  No                  No                       No   \n",
       "3                  No                  No                       No   \n",
       "4                  No                  No                       No   \n",
       "\n",
       "  metformin-rosiglitazone metformin-pioglitazone change diabetesMed readmitted  \n",
       "0                      No                     No     No          No         NO  \n",
       "1                      No                     No     Ch         Yes        >30  \n",
       "2                      No                     No     No         Yes         NO  \n",
       "3                      No                     No     Ch         Yes         NO  \n",
       "4                      No                     No     Ch         Yes         NO  "
      ]
     },
     "execution_count": 2,
     "metadata": {},
     "output_type": "execute_result"
    }
   ],
   "source": [
    "path = \"../dataset/diabetic_data.csv\"\n",
    "dataframe = pd.read_csv(path, low_memory=False, na_values=[\n",
    "                        \"?\", \"Unknown/Invalid\"])\n",
    "pd.set_option(\"display.max_columns\", None)\n",
    "dataframe.head()\n"
   ]
  },
  {
   "cell_type": "code",
   "execution_count": 3,
   "metadata": {},
   "outputs": [
    {
     "data": {
      "text/plain": [
       "(101766, 50)"
      ]
     },
     "execution_count": 3,
     "metadata": {},
     "output_type": "execute_result"
    }
   ],
   "source": [
    "dataframe.shape"
   ]
  },
  {
   "cell_type": "code",
   "execution_count": 4,
   "metadata": {},
   "outputs": [
    {
     "data": {
      "text/plain": [
       "NO     54864\n",
       ">30    35545\n",
       "<30    11357\n",
       "Name: readmitted, dtype: int64"
      ]
     },
     "execution_count": 4,
     "metadata": {},
     "output_type": "execute_result"
    }
   ],
   "source": [
    "dataframe[\"readmitted\"].value_counts()"
   ]
  },
  {
   "cell_type": "code",
   "execution_count": 5,
   "metadata": {},
   "outputs": [
    {
     "name": "stdout",
     "output_type": "stream",
     "text": [
      "<class 'pandas.core.frame.DataFrame'>\n",
      "RangeIndex: 101766 entries, 0 to 101765\n",
      "Data columns (total 50 columns):\n",
      " #   Column                    Non-Null Count   Dtype \n",
      "---  ------                    --------------   ----- \n",
      " 0   encounter_id              101766 non-null  int64 \n",
      " 1   patient_nbr               101766 non-null  int64 \n",
      " 2   race                      99493 non-null   object\n",
      " 3   gender                    101763 non-null  object\n",
      " 4   age                       101766 non-null  object\n",
      " 5   weight                    3197 non-null    object\n",
      " 6   admission_type_id         101766 non-null  int64 \n",
      " 7   discharge_disposition_id  101766 non-null  int64 \n",
      " 8   admission_source_id       101766 non-null  int64 \n",
      " 9   time_in_hospital          101766 non-null  int64 \n",
      " 10  payer_code                61510 non-null   object\n",
      " 11  medical_specialty         51817 non-null   object\n",
      " 12  num_lab_procedures        101766 non-null  int64 \n",
      " 13  num_procedures            101766 non-null  int64 \n",
      " 14  num_medications           101766 non-null  int64 \n",
      " 15  number_outpatient         101766 non-null  int64 \n",
      " 16  number_emergency          101766 non-null  int64 \n",
      " 17  number_inpatient          101766 non-null  int64 \n",
      " 18  diag_1                    101745 non-null  object\n",
      " 19  diag_2                    101408 non-null  object\n",
      " 20  diag_3                    100343 non-null  object\n",
      " 21  number_diagnoses          101766 non-null  int64 \n",
      " 22  max_glu_serum             101766 non-null  object\n",
      " 23  A1Cresult                 101766 non-null  object\n",
      " 24  metformin                 101766 non-null  object\n",
      " 25  repaglinide               101766 non-null  object\n",
      " 26  nateglinide               101766 non-null  object\n",
      " 27  chlorpropamide            101766 non-null  object\n",
      " 28  glimepiride               101766 non-null  object\n",
      " 29  acetohexamide             101766 non-null  object\n",
      " 30  glipizide                 101766 non-null  object\n",
      " 31  glyburide                 101766 non-null  object\n",
      " 32  tolbutamide               101766 non-null  object\n",
      " 33  pioglitazone              101766 non-null  object\n",
      " 34  rosiglitazone             101766 non-null  object\n",
      " 35  acarbose                  101766 non-null  object\n",
      " 36  miglitol                  101766 non-null  object\n",
      " 37  troglitazone              101766 non-null  object\n",
      " 38  tolazamide                101766 non-null  object\n",
      " 39  examide                   101766 non-null  object\n",
      " 40  citoglipton               101766 non-null  object\n",
      " 41  insulin                   101766 non-null  object\n",
      " 42  glyburide-metformin       101766 non-null  object\n",
      " 43  glipizide-metformin       101766 non-null  object\n",
      " 44  glimepiride-pioglitazone  101766 non-null  object\n",
      " 45  metformin-rosiglitazone   101766 non-null  object\n",
      " 46  metformin-pioglitazone    101766 non-null  object\n",
      " 47  change                    101766 non-null  object\n",
      " 48  diabetesMed               101766 non-null  object\n",
      " 49  readmitted                101766 non-null  object\n",
      "dtypes: int64(13), object(37)\n",
      "memory usage: 38.8+ MB\n"
     ]
    }
   ],
   "source": [
    "dataframe.info()"
   ]
  },
  {
   "cell_type": "code",
   "execution_count": 6,
   "metadata": {},
   "outputs": [
    {
     "name": "stdout",
     "output_type": "stream",
     "text": [
      "weight\n",
      "payer_code\n",
      "medical_specialty\n"
     ]
    }
   ],
   "source": [
    "def get_null_col(df, treshold):\n",
    "    missing = df.isna()\n",
    "    missing_count = missing.sum()\n",
    "    total_rows=df.shape[0]\n",
    "    to_drop = []\n",
    "    for i in range(0, missing_count.count()):\n",
    "        if missing_count[i] / total_rows > treshold:\n",
    "            to_drop.append(i)\n",
    "    return to_drop\n",
    "\n",
    "for i in get_null_col(dataframe, 0.1):\n",
    "    print(dataframe.columns[i])"
   ]
  },
  {
   "cell_type": "code",
   "execution_count": 7,
   "metadata": {},
   "outputs": [
    {
     "data": {
      "text/plain": [
       "[75-100)     1336\n",
       "[50-75)       897\n",
       "[100-125)     625\n",
       "[125-150)     145\n",
       "[25-50)        97\n",
       "[0-25)         48\n",
       "[150-175)      35\n",
       "[175-200)      11\n",
       ">200            3\n",
       "Name: weight, dtype: int64"
      ]
     },
     "execution_count": 7,
     "metadata": {},
     "output_type": "execute_result"
    }
   ],
   "source": [
    "dataframe[\"medical_specialty\"].fillna(\"Unknown\", inplace=True)\n",
    "dataframe[\"payer_code\"].fillna(\"Unknown\", inplace=True)\n",
    "dataframe[\"weight\"].value_counts()"
   ]
  },
  {
   "cell_type": "code",
   "execution_count": 8,
   "metadata": {},
   "outputs": [],
   "source": [
    "weigth_scale_mapper = {\n",
    "    \"[0-25)\": 0 \n",
    "    ,\"[25-50)\": 1\n",
    "    ,\"[50-75)\": 2\n",
    "    ,\"[75-100)\": 3\n",
    "    ,\"[100-125)\": 4\n",
    "    ,\"[125-150)\": 5\n",
    "    ,\"[150-175)\": 6\n",
    "    ,\"[175-200)\": 7\n",
    "    ,\">200\": 8\n",
    "}\n",
    "dataframe[\"weight\"].replace(weigth_scale_mapper, inplace=True)\n",
    "dataframe[\"weight\"].fillna(round(dataframe[\"weight\"].mean()), inplace=True)"
   ]
  },
  {
   "cell_type": "code",
   "execution_count": 9,
   "metadata": {},
   "outputs": [
    {
     "name": "stdout",
     "output_type": "stream",
     "text": [
      "(101766, 50)\n"
     ]
    },
    {
     "data": {
      "text/plain": [
       "(98052, 49)"
      ]
     },
     "execution_count": 9,
     "metadata": {},
     "output_type": "execute_result"
    }
   ],
   "source": [
    "print(dataframe.shape)\n",
    "dataframe.dropna(inplace=True)\n",
    "to_drop = [\"encounter_id\",]\n",
    "dataframe.drop(\n",
    "    dataframe[to_drop],\n",
    "    axis=1,\n",
    "    inplace=True,\n",
    ")\n",
    "dataframe.shape"
   ]
  },
  {
   "cell_type": "code",
   "execution_count": 10,
   "metadata": {},
   "outputs": [
    {
     "name": "stdout",
     "output_type": "stream",
     "text": [
      "examide\n",
      "citoglipton\n",
      "metformin-rosiglitazone\n"
     ]
    }
   ],
   "source": [
    "def get_one_value_cols(df):\n",
    "    to_drop=[]\n",
    "    for col in df.columns:\n",
    "        if len(df[col].unique()) == 1:\n",
    "            print(col)\n",
    "            to_drop.append(col)\n",
    "    return to_drop\n",
    "\n",
    "dataframe.drop(get_one_value_cols(dataframe),axis=1,inplace=True)"
   ]
  },
  {
   "cell_type": "code",
   "execution_count": 11,
   "metadata": {},
   "outputs": [
    {
     "name": "stdout",
     "output_type": "stream",
     "text": [
      "Number Of Rows In The Original DataFrame: 98052\n",
      "Number Of Rows After Deduping: 98052\n"
     ]
    }
   ],
   "source": [
    "print(\"Number Of Rows In The Original DataFrame:\", len(dataframe))\n",
    "print(\"Number Of Rows After Deduping:\", len(dataframe.drop_duplicates()))"
   ]
  },
  {
   "cell_type": "code",
   "execution_count": 12,
   "metadata": {},
   "outputs": [
    {
     "name": "stdout",
     "output_type": "stream",
     "text": [
      "<class 'pandas.core.frame.DataFrame'>\n",
      "Int64Index: 98052 entries, 1 to 101765\n",
      "Data columns (total 46 columns):\n",
      " #   Column                    Non-Null Count  Dtype  \n",
      "---  ------                    --------------  -----  \n",
      " 0   patient_nbr               98052 non-null  int64  \n",
      " 1   race                      98052 non-null  object \n",
      " 2   gender                    98052 non-null  object \n",
      " 3   age                       98052 non-null  object \n",
      " 4   weight                    98052 non-null  float64\n",
      " 5   admission_type_id         98052 non-null  int64  \n",
      " 6   discharge_disposition_id  98052 non-null  int64  \n",
      " 7   admission_source_id       98052 non-null  int64  \n",
      " 8   time_in_hospital          98052 non-null  int64  \n",
      " 9   payer_code                98052 non-null  object \n",
      " 10  medical_specialty         98052 non-null  object \n",
      " 11  num_lab_procedures        98052 non-null  int64  \n",
      " 12  num_procedures            98052 non-null  int64  \n",
      " 13  num_medications           98052 non-null  int64  \n",
      " 14  number_outpatient         98052 non-null  int64  \n",
      " 15  number_emergency          98052 non-null  int64  \n",
      " 16  number_inpatient          98052 non-null  int64  \n",
      " 17  diag_1                    98052 non-null  object \n",
      " 18  diag_2                    98052 non-null  object \n",
      " 19  diag_3                    98052 non-null  object \n",
      " 20  number_diagnoses          98052 non-null  int64  \n",
      " 21  max_glu_serum             98052 non-null  object \n",
      " 22  A1Cresult                 98052 non-null  object \n",
      " 23  metformin                 98052 non-null  object \n",
      " 24  repaglinide               98052 non-null  object \n",
      " 25  nateglinide               98052 non-null  object \n",
      " 26  chlorpropamide            98052 non-null  object \n",
      " 27  glimepiride               98052 non-null  object \n",
      " 28  acetohexamide             98052 non-null  object \n",
      " 29  glipizide                 98052 non-null  object \n",
      " 30  glyburide                 98052 non-null  object \n",
      " 31  tolbutamide               98052 non-null  object \n",
      " 32  pioglitazone              98052 non-null  object \n",
      " 33  rosiglitazone             98052 non-null  object \n",
      " 34  acarbose                  98052 non-null  object \n",
      " 35  miglitol                  98052 non-null  object \n",
      " 36  troglitazone              98052 non-null  object \n",
      " 37  tolazamide                98052 non-null  object \n",
      " 38  insulin                   98052 non-null  object \n",
      " 39  glyburide-metformin       98052 non-null  object \n",
      " 40  glipizide-metformin       98052 non-null  object \n",
      " 41  glimepiride-pioglitazone  98052 non-null  object \n",
      " 42  metformin-pioglitazone    98052 non-null  object \n",
      " 43  change                    98052 non-null  object \n",
      " 44  diabetesMed               98052 non-null  object \n",
      " 45  readmitted                98052 non-null  object \n",
      "dtypes: float64(1), int64(12), object(33)\n",
      "memory usage: 35.2+ MB\n"
     ]
    }
   ],
   "source": [
    "dataframe.info()"
   ]
  },
  {
   "cell_type": "markdown",
   "metadata": {},
   "source": [
    "Diagnose mapping http://icd9cm.chrisendres.com/index.php?action=contents"
   ]
  },
  {
   "cell_type": "code",
   "execution_count": 13,
   "metadata": {},
   "outputs": [],
   "source": [
    "def diag_mapper(value: str) -> int:\n",
    "    try:\n",
    "        int_value = int(float(value))\n",
    "        if int_value <= 139:\n",
    "            return 'Infectious and Parasitic'\n",
    "        elif int_value <= 239:\n",
    "            return 'Neoplasms'\n",
    "        elif int_value <= 279:\n",
    "            return 'Metabolic'\n",
    "        elif int_value <= 289:\n",
    "            return 'Blood'\n",
    "        elif int_value <= 319:\n",
    "            return 'Mental'\n",
    "        elif int_value <= 389:\n",
    "            return 'Nervous System'\n",
    "        elif int_value <= 459:\n",
    "            return 'Circulatory System'\n",
    "        elif int_value <= 519:\n",
    "            return 'Respiratory System'\n",
    "        elif int_value <= 579:\n",
    "            return 'Digestive System'\n",
    "        elif int_value <= 629:\n",
    "            return 'Genitourinary System'\n",
    "        elif int_value <= 679:\n",
    "            return 'Pregnancy'\n",
    "        elif int_value <= 709:\n",
    "            return 'Skin'\n",
    "        elif int_value <= 739:\n",
    "            return 'Musculoskeletal'\n",
    "        elif int_value <= 759:\n",
    "            return 'Congenital'\n",
    "        elif int_value <= 779:\n",
    "            return 'Perinatal Period'\n",
    "        elif int_value <= 799:\n",
    "            return 'Ill Defined'\n",
    "        else:\n",
    "            return 'Injury'\n",
    "    except ValueError:\n",
    "        if value[0] == 'V':\n",
    "            return 'Status'\n",
    "        else:  # E\n",
    "            return 'Cause'\n",
    "\n",
    "\n",
    "dataframe['diag_1_class'] = dataframe['diag_1'].apply(lambda x: diag_mapper(x))\n",
    "dataframe['diag_2_class'] = dataframe['diag_2'].apply(lambda x: diag_mapper(x))\n",
    "dataframe['diag_3_class'] = dataframe['diag_3'].apply(lambda x: diag_mapper(x))\n"
   ]
  },
  {
   "cell_type": "code",
   "execution_count": 14,
   "metadata": {},
   "outputs": [
    {
     "data": {
      "text/html": [
       "<div>\n",
       "<style scoped>\n",
       "    .dataframe tbody tr th:only-of-type {\n",
       "        vertical-align: middle;\n",
       "    }\n",
       "\n",
       "    .dataframe tbody tr th {\n",
       "        vertical-align: top;\n",
       "    }\n",
       "\n",
       "    .dataframe thead th {\n",
       "        text-align: right;\n",
       "    }\n",
       "</style>\n",
       "<table border=\"1\" class=\"dataframe\">\n",
       "  <thead>\n",
       "    <tr style=\"text-align: right;\">\n",
       "      <th></th>\n",
       "      <th>patient_nbr</th>\n",
       "      <th>race</th>\n",
       "      <th>gender</th>\n",
       "      <th>age</th>\n",
       "      <th>weight</th>\n",
       "      <th>admission_type_id</th>\n",
       "      <th>discharge_disposition_id</th>\n",
       "      <th>admission_source_id</th>\n",
       "      <th>time_in_hospital</th>\n",
       "      <th>payer_code</th>\n",
       "      <th>medical_specialty</th>\n",
       "      <th>num_lab_procedures</th>\n",
       "      <th>num_procedures</th>\n",
       "      <th>num_medications</th>\n",
       "      <th>number_outpatient</th>\n",
       "      <th>number_emergency</th>\n",
       "      <th>number_inpatient</th>\n",
       "      <th>diag_1</th>\n",
       "      <th>diag_2</th>\n",
       "      <th>diag_3</th>\n",
       "      <th>number_diagnoses</th>\n",
       "      <th>max_glu_serum</th>\n",
       "      <th>A1Cresult</th>\n",
       "      <th>metformin</th>\n",
       "      <th>repaglinide</th>\n",
       "      <th>nateglinide</th>\n",
       "      <th>chlorpropamide</th>\n",
       "      <th>glimepiride</th>\n",
       "      <th>acetohexamide</th>\n",
       "      <th>glipizide</th>\n",
       "      <th>glyburide</th>\n",
       "      <th>tolbutamide</th>\n",
       "      <th>pioglitazone</th>\n",
       "      <th>rosiglitazone</th>\n",
       "      <th>acarbose</th>\n",
       "      <th>miglitol</th>\n",
       "      <th>troglitazone</th>\n",
       "      <th>tolazamide</th>\n",
       "      <th>insulin</th>\n",
       "      <th>glyburide-metformin</th>\n",
       "      <th>glipizide-metformin</th>\n",
       "      <th>glimepiride-pioglitazone</th>\n",
       "      <th>metformin-pioglitazone</th>\n",
       "      <th>change</th>\n",
       "      <th>diabetesMed</th>\n",
       "      <th>readmitted</th>\n",
       "      <th>diag_1_class</th>\n",
       "      <th>diag_2_class</th>\n",
       "      <th>diag_3_class</th>\n",
       "    </tr>\n",
       "  </thead>\n",
       "  <tbody>\n",
       "    <tr>\n",
       "      <th>1</th>\n",
       "      <td>55629189</td>\n",
       "      <td>Caucasian</td>\n",
       "      <td>0</td>\n",
       "      <td>1</td>\n",
       "      <td>3</td>\n",
       "      <td>1</td>\n",
       "      <td>1</td>\n",
       "      <td>7</td>\n",
       "      <td>3</td>\n",
       "      <td>15</td>\n",
       "      <td>71</td>\n",
       "      <td>59</td>\n",
       "      <td>0</td>\n",
       "      <td>18</td>\n",
       "      <td>0</td>\n",
       "      <td>0</td>\n",
       "      <td>0</td>\n",
       "      <td>143</td>\n",
       "      <td>77</td>\n",
       "      <td>121</td>\n",
       "      <td>9</td>\n",
       "      <td>0</td>\n",
       "      <td>0</td>\n",
       "      <td>1</td>\n",
       "      <td>1</td>\n",
       "      <td>1</td>\n",
       "      <td>1</td>\n",
       "      <td>1</td>\n",
       "      <td>0</td>\n",
       "      <td>1</td>\n",
       "      <td>1</td>\n",
       "      <td>0</td>\n",
       "      <td>1</td>\n",
       "      <td>1</td>\n",
       "      <td>1</td>\n",
       "      <td>1</td>\n",
       "      <td>0</td>\n",
       "      <td>0</td>\n",
       "      <td>3</td>\n",
       "      <td>1</td>\n",
       "      <td>0</td>\n",
       "      <td>0</td>\n",
       "      <td>0</td>\n",
       "      <td>0</td>\n",
       "      <td>1</td>\n",
       "      <td>2</td>\n",
       "      <td>Metabolic</td>\n",
       "      <td>Metabolic</td>\n",
       "      <td>Metabolic</td>\n",
       "    </tr>\n",
       "    <tr>\n",
       "      <th>2</th>\n",
       "      <td>86047875</td>\n",
       "      <td>AfricanAmerican</td>\n",
       "      <td>0</td>\n",
       "      <td>2</td>\n",
       "      <td>3</td>\n",
       "      <td>1</td>\n",
       "      <td>1</td>\n",
       "      <td>7</td>\n",
       "      <td>2</td>\n",
       "      <td>15</td>\n",
       "      <td>71</td>\n",
       "      <td>11</td>\n",
       "      <td>5</td>\n",
       "      <td>13</td>\n",
       "      <td>2</td>\n",
       "      <td>0</td>\n",
       "      <td>1</td>\n",
       "      <td>454</td>\n",
       "      <td>76</td>\n",
       "      <td>763</td>\n",
       "      <td>6</td>\n",
       "      <td>0</td>\n",
       "      <td>0</td>\n",
       "      <td>1</td>\n",
       "      <td>1</td>\n",
       "      <td>1</td>\n",
       "      <td>1</td>\n",
       "      <td>1</td>\n",
       "      <td>0</td>\n",
       "      <td>2</td>\n",
       "      <td>1</td>\n",
       "      <td>0</td>\n",
       "      <td>1</td>\n",
       "      <td>1</td>\n",
       "      <td>1</td>\n",
       "      <td>1</td>\n",
       "      <td>0</td>\n",
       "      <td>0</td>\n",
       "      <td>1</td>\n",
       "      <td>1</td>\n",
       "      <td>0</td>\n",
       "      <td>0</td>\n",
       "      <td>0</td>\n",
       "      <td>1</td>\n",
       "      <td>1</td>\n",
       "      <td>0</td>\n",
       "      <td>Pregnancy</td>\n",
       "      <td>Metabolic</td>\n",
       "      <td>Status</td>\n",
       "    </tr>\n",
       "    <tr>\n",
       "      <th>3</th>\n",
       "      <td>82442376</td>\n",
       "      <td>Caucasian</td>\n",
       "      <td>1</td>\n",
       "      <td>3</td>\n",
       "      <td>3</td>\n",
       "      <td>1</td>\n",
       "      <td>1</td>\n",
       "      <td>7</td>\n",
       "      <td>2</td>\n",
       "      <td>15</td>\n",
       "      <td>71</td>\n",
       "      <td>44</td>\n",
       "      <td>1</td>\n",
       "      <td>16</td>\n",
       "      <td>0</td>\n",
       "      <td>0</td>\n",
       "      <td>0</td>\n",
       "      <td>553</td>\n",
       "      <td>95</td>\n",
       "      <td>248</td>\n",
       "      <td>7</td>\n",
       "      <td>0</td>\n",
       "      <td>0</td>\n",
       "      <td>1</td>\n",
       "      <td>1</td>\n",
       "      <td>1</td>\n",
       "      <td>1</td>\n",
       "      <td>1</td>\n",
       "      <td>0</td>\n",
       "      <td>1</td>\n",
       "      <td>1</td>\n",
       "      <td>0</td>\n",
       "      <td>1</td>\n",
       "      <td>1</td>\n",
       "      <td>1</td>\n",
       "      <td>1</td>\n",
       "      <td>0</td>\n",
       "      <td>0</td>\n",
       "      <td>3</td>\n",
       "      <td>1</td>\n",
       "      <td>0</td>\n",
       "      <td>0</td>\n",
       "      <td>0</td>\n",
       "      <td>0</td>\n",
       "      <td>1</td>\n",
       "      <td>0</td>\n",
       "      <td>Infectious and Parasitic</td>\n",
       "      <td>Metabolic</td>\n",
       "      <td>Circulatory System</td>\n",
       "    </tr>\n",
       "    <tr>\n",
       "      <th>4</th>\n",
       "      <td>42519267</td>\n",
       "      <td>Caucasian</td>\n",
       "      <td>1</td>\n",
       "      <td>4</td>\n",
       "      <td>3</td>\n",
       "      <td>1</td>\n",
       "      <td>1</td>\n",
       "      <td>7</td>\n",
       "      <td>1</td>\n",
       "      <td>15</td>\n",
       "      <td>71</td>\n",
       "      <td>51</td>\n",
       "      <td>0</td>\n",
       "      <td>8</td>\n",
       "      <td>0</td>\n",
       "      <td>0</td>\n",
       "      <td>0</td>\n",
       "      <td>54</td>\n",
       "      <td>23</td>\n",
       "      <td>86</td>\n",
       "      <td>5</td>\n",
       "      <td>0</td>\n",
       "      <td>0</td>\n",
       "      <td>1</td>\n",
       "      <td>1</td>\n",
       "      <td>1</td>\n",
       "      <td>1</td>\n",
       "      <td>1</td>\n",
       "      <td>0</td>\n",
       "      <td>2</td>\n",
       "      <td>1</td>\n",
       "      <td>0</td>\n",
       "      <td>1</td>\n",
       "      <td>1</td>\n",
       "      <td>1</td>\n",
       "      <td>1</td>\n",
       "      <td>0</td>\n",
       "      <td>0</td>\n",
       "      <td>2</td>\n",
       "      <td>1</td>\n",
       "      <td>0</td>\n",
       "      <td>0</td>\n",
       "      <td>0</td>\n",
       "      <td>0</td>\n",
       "      <td>1</td>\n",
       "      <td>0</td>\n",
       "      <td>Neoplasms</td>\n",
       "      <td>Neoplasms</td>\n",
       "      <td>Metabolic</td>\n",
       "    </tr>\n",
       "    <tr>\n",
       "      <th>5</th>\n",
       "      <td>82637451</td>\n",
       "      <td>Caucasian</td>\n",
       "      <td>1</td>\n",
       "      <td>5</td>\n",
       "      <td>3</td>\n",
       "      <td>2</td>\n",
       "      <td>1</td>\n",
       "      <td>2</td>\n",
       "      <td>3</td>\n",
       "      <td>15</td>\n",
       "      <td>71</td>\n",
       "      <td>31</td>\n",
       "      <td>6</td>\n",
       "      <td>16</td>\n",
       "      <td>0</td>\n",
       "      <td>0</td>\n",
       "      <td>0</td>\n",
       "      <td>263</td>\n",
       "      <td>244</td>\n",
       "      <td>86</td>\n",
       "      <td>9</td>\n",
       "      <td>0</td>\n",
       "      <td>0</td>\n",
       "      <td>1</td>\n",
       "      <td>1</td>\n",
       "      <td>1</td>\n",
       "      <td>1</td>\n",
       "      <td>1</td>\n",
       "      <td>0</td>\n",
       "      <td>1</td>\n",
       "      <td>1</td>\n",
       "      <td>0</td>\n",
       "      <td>1</td>\n",
       "      <td>1</td>\n",
       "      <td>1</td>\n",
       "      <td>1</td>\n",
       "      <td>0</td>\n",
       "      <td>0</td>\n",
       "      <td>2</td>\n",
       "      <td>1</td>\n",
       "      <td>0</td>\n",
       "      <td>0</td>\n",
       "      <td>0</td>\n",
       "      <td>1</td>\n",
       "      <td>1</td>\n",
       "      <td>2</td>\n",
       "      <td>Circulatory System</td>\n",
       "      <td>Circulatory System</td>\n",
       "      <td>Metabolic</td>\n",
       "    </tr>\n",
       "  </tbody>\n",
       "</table>\n",
       "</div>"
      ],
      "text/plain": [
       "   patient_nbr             race  gender  age  weight admission_type_id  \\\n",
       "1     55629189        Caucasian       0    1       3                 1   \n",
       "2     86047875  AfricanAmerican       0    2       3                 1   \n",
       "3     82442376        Caucasian       1    3       3                 1   \n",
       "4     42519267        Caucasian       1    4       3                 1   \n",
       "5     82637451        Caucasian       1    5       3                 2   \n",
       "\n",
       "  discharge_disposition_id admission_source_id  time_in_hospital  payer_code  \\\n",
       "1                        1                   7                 3          15   \n",
       "2                        1                   7                 2          15   \n",
       "3                        1                   7                 2          15   \n",
       "4                        1                   7                 1          15   \n",
       "5                        1                   2                 3          15   \n",
       "\n",
       "   medical_specialty  num_lab_procedures  num_procedures  num_medications  \\\n",
       "1                 71                  59               0               18   \n",
       "2                 71                  11               5               13   \n",
       "3                 71                  44               1               16   \n",
       "4                 71                  51               0                8   \n",
       "5                 71                  31               6               16   \n",
       "\n",
       "   number_outpatient  number_emergency  number_inpatient  diag_1  diag_2  \\\n",
       "1                  0                 0                 0     143      77   \n",
       "2                  2                 0                 1     454      76   \n",
       "3                  0                 0                 0     553      95   \n",
       "4                  0                 0                 0      54      23   \n",
       "5                  0                 0                 0     263     244   \n",
       "\n",
       "   diag_3  number_diagnoses  max_glu_serum  A1Cresult  metformin  repaglinide  \\\n",
       "1     121                 9              0          0          1            1   \n",
       "2     763                 6              0          0          1            1   \n",
       "3     248                 7              0          0          1            1   \n",
       "4      86                 5              0          0          1            1   \n",
       "5      86                 9              0          0          1            1   \n",
       "\n",
       "   nateglinide  chlorpropamide  glimepiride  acetohexamide  glipizide  \\\n",
       "1            1               1            1              0          1   \n",
       "2            1               1            1              0          2   \n",
       "3            1               1            1              0          1   \n",
       "4            1               1            1              0          2   \n",
       "5            1               1            1              0          1   \n",
       "\n",
       "   glyburide  tolbutamide  pioglitazone  rosiglitazone  acarbose  miglitol  \\\n",
       "1          1            0             1              1         1         1   \n",
       "2          1            0             1              1         1         1   \n",
       "3          1            0             1              1         1         1   \n",
       "4          1            0             1              1         1         1   \n",
       "5          1            0             1              1         1         1   \n",
       "\n",
       "   troglitazone  tolazamide  insulin  glyburide-metformin  \\\n",
       "1             0           0        3                    1   \n",
       "2             0           0        1                    1   \n",
       "3             0           0        3                    1   \n",
       "4             0           0        2                    1   \n",
       "5             0           0        2                    1   \n",
       "\n",
       "   glipizide-metformin  glimepiride-pioglitazone  metformin-pioglitazone  \\\n",
       "1                    0                         0                       0   \n",
       "2                    0                         0                       0   \n",
       "3                    0                         0                       0   \n",
       "4                    0                         0                       0   \n",
       "5                    0                         0                       0   \n",
       "\n",
       "   change  diabetesMed  readmitted              diag_1_class  \\\n",
       "1       0            1           2                 Metabolic   \n",
       "2       1            1           0                 Pregnancy   \n",
       "3       0            1           0  Infectious and Parasitic   \n",
       "4       0            1           0                 Neoplasms   \n",
       "5       1            1           2        Circulatory System   \n",
       "\n",
       "         diag_2_class        diag_3_class  \n",
       "1           Metabolic           Metabolic  \n",
       "2           Metabolic              Status  \n",
       "3           Metabolic  Circulatory System  \n",
       "4           Neoplasms           Metabolic  \n",
       "5  Circulatory System           Metabolic  "
      ]
     },
     "execution_count": 14,
     "metadata": {},
     "output_type": "execute_result"
    }
   ],
   "source": [
    "glu_scale_mapper = {\n",
    "    'None': 0,\n",
    "    'Norm': 1,\n",
    "    '>200': 2,\n",
    "    '>300': 3\n",
    "}\n",
    "a1_scale_mapper = {\n",
    "    'None': 0,\n",
    "    'Norm': 1,\n",
    "    '>7': 2,\n",
    "    '>8': 3,\n",
    "}\n",
    "class_mapper = {\n",
    "    'NO':0,\n",
    "    '<30':1,\n",
    "    '>30':2\n",
    "}\n",
    "\n",
    "one_hot = LabelBinarizer()\n",
    "lab_enc = LabelEncoder()\n",
    "\n",
    "dataframe['admission_type_id'] = dataframe['admission_type_id'].astype('category')\n",
    "dataframe['discharge_disposition_id'] = dataframe['discharge_disposition_id'].astype('category')\n",
    "dataframe['admission_source_id'] = dataframe['admission_source_id'].astype('category')\n",
    "dataframe['weight'] = dataframe['weight'].astype('int32')\n",
    "\n",
    "dataframe['age']=lab_enc.fit_transform(dataframe['age'])\n",
    "dataframe['gender'] = one_hot.fit_transform(dataframe['gender'])\n",
    "dataframe['max_glu_serum'].replace(glu_scale_mapper, inplace=True)\n",
    "dataframe['A1Cresult'].replace(a1_scale_mapper, inplace=True)\n",
    "dataframe['medical_specialty']=lab_enc.fit_transform(dataframe['medical_specialty'])\n",
    "\n",
    "lab_coded = ['metformin','repaglinide','nateglinide','chlorpropamide','glimepiride','acetohexamide',\n",
    "    'glipizide','glyburide','tolbutamide','pioglitazone','rosiglitazone','acarbose','miglitol','troglitazone',\n",
    "    'tolazamide','insulin','glyburide-metformin','glipizide-metformin','glimepiride-pioglitazone','metformin-pioglitazone'\n",
    "    ,'diag_1','diag_2','diag_3','payer_code']\n",
    "\n",
    "for col in lab_coded:\n",
    "    dataframe[col] = lab_enc.fit_transform(dataframe[col])\n",
    "\n",
    "dataframe['change'] = one_hot.fit_transform(dataframe['change'])\n",
    "dataframe['diabetesMed'] = one_hot.fit_transform(dataframe['diabetesMed'])\n",
    "\n",
    "dataframe['readmitted'].replace(class_mapper, inplace=True)\n",
    "\n",
    "dataframe.head()"
   ]
  },
  {
   "cell_type": "code",
   "execution_count": 15,
   "metadata": {},
   "outputs": [
    {
     "name": "stdout",
     "output_type": "stream",
     "text": [
      "<class 'pandas.core.frame.DataFrame'>\n",
      "Int64Index: 98052 entries, 1 to 101765\n",
      "Data columns (total 49 columns):\n",
      " #   Column                    Non-Null Count  Dtype   \n",
      "---  ------                    --------------  -----   \n",
      " 0   patient_nbr               98052 non-null  int64   \n",
      " 1   race                      98052 non-null  object  \n",
      " 2   gender                    98052 non-null  int32   \n",
      " 3   age                       98052 non-null  int32   \n",
      " 4   weight                    98052 non-null  int32   \n",
      " 5   admission_type_id         98052 non-null  category\n",
      " 6   discharge_disposition_id  98052 non-null  category\n",
      " 7   admission_source_id       98052 non-null  category\n",
      " 8   time_in_hospital          98052 non-null  int64   \n",
      " 9   payer_code                98052 non-null  int32   \n",
      " 10  medical_specialty         98052 non-null  int32   \n",
      " 11  num_lab_procedures        98052 non-null  int64   \n",
      " 12  num_procedures            98052 non-null  int64   \n",
      " 13  num_medications           98052 non-null  int64   \n",
      " 14  number_outpatient         98052 non-null  int64   \n",
      " 15  number_emergency          98052 non-null  int64   \n",
      " 16  number_inpatient          98052 non-null  int64   \n",
      " 17  diag_1                    98052 non-null  int32   \n",
      " 18  diag_2                    98052 non-null  int32   \n",
      " 19  diag_3                    98052 non-null  int32   \n",
      " 20  number_diagnoses          98052 non-null  int64   \n",
      " 21  max_glu_serum             98052 non-null  int64   \n",
      " 22  A1Cresult                 98052 non-null  int64   \n",
      " 23  metformin                 98052 non-null  int32   \n",
      " 24  repaglinide               98052 non-null  int32   \n",
      " 25  nateglinide               98052 non-null  int32   \n",
      " 26  chlorpropamide            98052 non-null  int32   \n",
      " 27  glimepiride               98052 non-null  int32   \n",
      " 28  acetohexamide             98052 non-null  int32   \n",
      " 29  glipizide                 98052 non-null  int32   \n",
      " 30  glyburide                 98052 non-null  int32   \n",
      " 31  tolbutamide               98052 non-null  int32   \n",
      " 32  pioglitazone              98052 non-null  int32   \n",
      " 33  rosiglitazone             98052 non-null  int32   \n",
      " 34  acarbose                  98052 non-null  int32   \n",
      " 35  miglitol                  98052 non-null  int32   \n",
      " 36  troglitazone              98052 non-null  int32   \n",
      " 37  tolazamide                98052 non-null  int32   \n",
      " 38  insulin                   98052 non-null  int32   \n",
      " 39  glyburide-metformin       98052 non-null  int32   \n",
      " 40  glipizide-metformin       98052 non-null  int32   \n",
      " 41  glimepiride-pioglitazone  98052 non-null  int32   \n",
      " 42  metformin-pioglitazone    98052 non-null  int32   \n",
      " 43  change                    98052 non-null  int32   \n",
      " 44  diabetesMed               98052 non-null  int32   \n",
      " 45  readmitted                98052 non-null  int64   \n",
      " 46  diag_1_class              98052 non-null  object  \n",
      " 47  diag_2_class              98052 non-null  object  \n",
      " 48  diag_3_class              98052 non-null  object  \n",
      "dtypes: category(3), int32(30), int64(12), object(4)\n",
      "memory usage: 24.2+ MB\n"
     ]
    }
   ],
   "source": [
    "dataframe_label = dataframe\n",
    "dataframe_onehot = dataframe.copy(deep=True)\n",
    "dataframe_onehot_plus = dataframe.copy(deep=True)\n",
    "dataframe.info()"
   ]
  },
  {
   "cell_type": "code",
   "execution_count": 16,
   "metadata": {},
   "outputs": [
    {
     "name": "stdout",
     "output_type": "stream",
     "text": [
      "(98052, 49)\n",
      "(98052, 152)\n",
      "(98052, 104)\n"
     ]
    }
   ],
   "source": [
    "\n",
    "def df_one_hot(df, columns):\n",
    "    tmp = pd.DataFrame()\n",
    "    for col in columns:\n",
    "        res = one_hot.fit_transform(df[col])\n",
    "        for val in range(0, len(res[0])):\n",
    "            new_col = res[:, val]\n",
    "            tmp_col = pd.DataFrame(\n",
    "                {col + '(' + str(one_hot.classes_[val])+')': new_col})\n",
    "            tmp = pd.concat((tmp, tmp_col), axis=1)\n",
    "    return pd.concat((df.reset_index(drop=True), tmp.reset_index(drop=True)), axis=1, join='inner')\n",
    "\n",
    "for col in ['diag_1_class', 'diag_2_class', 'diag_3_class','race']:\n",
    "    dataframe_label[col] = lab_enc.fit_transform(dataframe_label[col])\n",
    "\n",
    "dataframe_onehot_plus = df_one_hot(dataframe_onehot_plus, ['diag_1_class', 'diag_2_class', 'diag_3_class',\n",
    "                              'admission_type_id', 'discharge_disposition_id', 'admission_source_id', 'race'])\n",
    "dataframe_onehot_plus.drop(['diag_1_class', 'diag_2_class', 'diag_3_class', 'admission_type_id',\n",
    "                      'discharge_disposition_id', 'admission_source_id', 'race'], axis=1, inplace=True)\n",
    "\n",
    "dataframe_onehot = df_one_hot(dataframe_onehot, ['diag_1_class', 'diag_2_class', 'diag_3_class','race'])\n",
    "dataframe_onehot.drop(['diag_1_class', 'diag_2_class', 'diag_3_class','race'], axis=1, inplace=True)\n",
    "\n",
    "\n",
    "print(dataframe_label.shape)\n",
    "print(dataframe_onehot_plus.shape)\n",
    "print(dataframe_onehot.shape)"
   ]
  },
  {
   "cell_type": "code",
   "execution_count": 17,
   "metadata": {},
   "outputs": [],
   "source": [
    "def remove_low_variance_columns(df, target, treshold):\n",
    "\n",
    "    y = df[target]\n",
    "    X_cat = df.drop(columns=[target,])\n",
    "    selector = VarianceThreshold(threshold=treshold)\n",
    "    X_reduced = selector.fit_transform(X_cat, y)\n",
    "    cols = selector.get_support(indices=True)\n",
    "    selected_columns = X_cat.iloc[:, cols].columns.tolist()\n",
    "    selected_columns.append(target)\n",
    "    print(X_reduced.shape)\n",
    "    return selected_columns"
   ]
  },
  {
   "cell_type": "code",
   "execution_count": 18,
   "metadata": {},
   "outputs": [],
   "source": [
    "def select_best_columns(df, target, best_ratio):\n",
    "\n",
    "    y = df[target]\n",
    "    X_cat = df.drop(columns=[target, 'diag_1', 'diag_2', 'diag_3'])\n",
    "    X = X_cat\n",
    "    selector = SelectKBest(mutual_info_classif, k=ceil(X.shape[1]*best_ratio))\n",
    "    X_reduced = selector.fit_transform(X, y)\n",
    "    cols = selector.get_support(indices=True)\n",
    "    selected_columns = X.iloc[:, cols].columns.tolist()\n",
    "    selected_columns.append(target)\n",
    "\n",
    "    print(X_reduced.shape)\n",
    "\n",
    "    return selected_columns"
   ]
  },
  {
   "cell_type": "markdown",
   "metadata": {},
   "source": [
    "2.   Deskriptivna analiza"
   ]
  },
  {
   "cell_type": "code",
   "execution_count": 19,
   "metadata": {},
   "outputs": [
    {
     "data": {
      "text/plain": [
       "<AxesSubplot: ylabel='readmitted'>"
      ]
     },
     "execution_count": 19,
     "metadata": {},
     "output_type": "execute_result"
    },
    {
     "data": {
      "image/png": "[encoded data removed]",
      "text/plain": [
       "<Figure size 640x480 with 1 Axes>"
      ]
     },
     "metadata": {},
     "output_type": "display_data"
    }
   ],
   "source": [
    "dataframe_onehot['readmitted'].value_counts().plot(kind='pie')"
   ]
  },
  {
   "cell_type": "code",
   "execution_count": 20,
   "metadata": {},
   "outputs": [],
   "source": [
    "def feature_importance(df,to_drop=['diag_1', 'diag_2', 'diag_3'],):\n",
    "    target = 'readmitted'\n",
    "    to_drop.append(target)\n",
    "    y = df[target]\n",
    "    X = df.drop(columns=to_drop)\n",
    "    X_train, X_test, y_train, y_test = train_test_split(\n",
    "        X, y, test_size=.2, random_state=1066)\n",
    "    encoder = ce.LeaveOneOutEncoder(return_df=True)\n",
    "    X_train_loo = encoder.fit_transform(X_train, y_train)\n",
    "    X_test_loo = encoder.transform(X_test)\n",
    "    model = GradientBoostingRegressor(\n",
    "        learning_rate=0.05, max_depth=5, n_estimators=500, min_samples_split=5, n_iter_no_change=10)\n",
    "    model.fit(X_train_loo, y_train)\n",
    "\n",
    "    rmse = np.sqrt(mean_squared_error(y_test, model.predict(X_test_loo)))\n",
    "    feature_importance = model.feature_importances_\n",
    "    sorted_idx = np.argsort(feature_importance)\n",
    "    fig = plt.figure(figsize=(20, 30))\n",
    "    plt.barh(range(len(sorted_idx)),\n",
    "             feature_importance[sorted_idx], align='center')\n",
    "    plt.yticks(range(len(sorted_idx)), np.array(X_test.columns)[sorted_idx])\n",
    "    plt.title('Feature Importance')\n",
    "\n",
    "    perm_importance = permutation_importance(\n",
    "        model, X_test_loo, y_test, n_repeats=10, random_state=1066)\n",
    "    sorted_idx = perm_importance.importances_mean.argsort()\n",
    "    fig = plt.figure(figsize=(20, 30))\n",
    "    plt.barh(range(len(sorted_idx)),\n",
    "             perm_importance.importances_mean[sorted_idx], align='center')\n",
    "    plt.yticks(range(len(sorted_idx)), np.array(X_test.columns)[sorted_idx])\n",
    "    plt.title('Permutation Importance')"
   ]
  },
  {
   "cell_type": "code",
   "execution_count": 21,
   "metadata": {},
   "outputs": [
    {
     "data": {
      "text/html": [
       "<div>\n",
       "<style scoped>\n",
       "    .dataframe tbody tr th:only-of-type {\n",
       "        vertical-align: middle;\n",
       "    }\n",
       "\n",
       "    .dataframe tbody tr th {\n",
       "        vertical-align: top;\n",
       "    }\n",
       "\n",
       "    .dataframe thead th {\n",
       "        text-align: right;\n",
       "    }\n",
       "</style>\n",
       "<table border=\"1\" class=\"dataframe\">\n",
       "  <thead>\n",
       "    <tr style=\"text-align: right;\">\n",
       "      <th></th>\n",
       "      <th>patient_nbr</th>\n",
       "      <th>race</th>\n",
       "      <th>gender</th>\n",
       "      <th>age</th>\n",
       "      <th>weight</th>\n",
       "      <th>admission_type_id</th>\n",
       "      <th>discharge_disposition_id</th>\n",
       "      <th>admission_source_id</th>\n",
       "      <th>time_in_hospital</th>\n",
       "      <th>payer_code</th>\n",
       "      <th>medical_specialty</th>\n",
       "      <th>num_lab_procedures</th>\n",
       "      <th>num_procedures</th>\n",
       "      <th>num_medications</th>\n",
       "      <th>number_outpatient</th>\n",
       "      <th>number_emergency</th>\n",
       "      <th>number_inpatient</th>\n",
       "      <th>diag_1</th>\n",
       "      <th>diag_2</th>\n",
       "      <th>diag_3</th>\n",
       "      <th>number_diagnoses</th>\n",
       "      <th>max_glu_serum</th>\n",
       "      <th>A1Cresult</th>\n",
       "      <th>metformin</th>\n",
       "      <th>repaglinide</th>\n",
       "      <th>nateglinide</th>\n",
       "      <th>chlorpropamide</th>\n",
       "      <th>glimepiride</th>\n",
       "      <th>acetohexamide</th>\n",
       "      <th>glipizide</th>\n",
       "      <th>glyburide</th>\n",
       "      <th>tolbutamide</th>\n",
       "      <th>pioglitazone</th>\n",
       "      <th>rosiglitazone</th>\n",
       "      <th>acarbose</th>\n",
       "      <th>miglitol</th>\n",
       "      <th>troglitazone</th>\n",
       "      <th>tolazamide</th>\n",
       "      <th>insulin</th>\n",
       "      <th>glyburide-metformin</th>\n",
       "      <th>glipizide-metformin</th>\n",
       "      <th>glimepiride-pioglitazone</th>\n",
       "      <th>metformin-pioglitazone</th>\n",
       "      <th>change</th>\n",
       "      <th>diabetesMed</th>\n",
       "      <th>readmitted</th>\n",
       "      <th>diag_1_class</th>\n",
       "      <th>diag_2_class</th>\n",
       "      <th>diag_3_class</th>\n",
       "    </tr>\n",
       "  </thead>\n",
       "  <tbody>\n",
       "    <tr>\n",
       "      <th>1</th>\n",
       "      <td>55629189</td>\n",
       "      <td>2</td>\n",
       "      <td>0</td>\n",
       "      <td>1</td>\n",
       "      <td>3</td>\n",
       "      <td>1</td>\n",
       "      <td>1</td>\n",
       "      <td>7</td>\n",
       "      <td>3</td>\n",
       "      <td>15</td>\n",
       "      <td>71</td>\n",
       "      <td>59</td>\n",
       "      <td>0</td>\n",
       "      <td>18</td>\n",
       "      <td>0</td>\n",
       "      <td>0</td>\n",
       "      <td>0</td>\n",
       "      <td>143</td>\n",
       "      <td>77</td>\n",
       "      <td>121</td>\n",
       "      <td>9</td>\n",
       "      <td>0</td>\n",
       "      <td>0</td>\n",
       "      <td>1</td>\n",
       "      <td>1</td>\n",
       "      <td>1</td>\n",
       "      <td>1</td>\n",
       "      <td>1</td>\n",
       "      <td>0</td>\n",
       "      <td>1</td>\n",
       "      <td>1</td>\n",
       "      <td>0</td>\n",
       "      <td>1</td>\n",
       "      <td>1</td>\n",
       "      <td>1</td>\n",
       "      <td>1</td>\n",
       "      <td>0</td>\n",
       "      <td>0</td>\n",
       "      <td>3</td>\n",
       "      <td>1</td>\n",
       "      <td>0</td>\n",
       "      <td>0</td>\n",
       "      <td>0</td>\n",
       "      <td>0</td>\n",
       "      <td>1</td>\n",
       "      <td>2</td>\n",
       "      <td>10</td>\n",
       "      <td>10</td>\n",
       "      <td>10</td>\n",
       "    </tr>\n",
       "    <tr>\n",
       "      <th>2</th>\n",
       "      <td>86047875</td>\n",
       "      <td>0</td>\n",
       "      <td>0</td>\n",
       "      <td>2</td>\n",
       "      <td>3</td>\n",
       "      <td>1</td>\n",
       "      <td>1</td>\n",
       "      <td>7</td>\n",
       "      <td>2</td>\n",
       "      <td>15</td>\n",
       "      <td>71</td>\n",
       "      <td>11</td>\n",
       "      <td>5</td>\n",
       "      <td>13</td>\n",
       "      <td>2</td>\n",
       "      <td>0</td>\n",
       "      <td>1</td>\n",
       "      <td>454</td>\n",
       "      <td>76</td>\n",
       "      <td>763</td>\n",
       "      <td>6</td>\n",
       "      <td>0</td>\n",
       "      <td>0</td>\n",
       "      <td>1</td>\n",
       "      <td>1</td>\n",
       "      <td>1</td>\n",
       "      <td>1</td>\n",
       "      <td>1</td>\n",
       "      <td>0</td>\n",
       "      <td>2</td>\n",
       "      <td>1</td>\n",
       "      <td>0</td>\n",
       "      <td>1</td>\n",
       "      <td>1</td>\n",
       "      <td>1</td>\n",
       "      <td>1</td>\n",
       "      <td>0</td>\n",
       "      <td>0</td>\n",
       "      <td>1</td>\n",
       "      <td>1</td>\n",
       "      <td>0</td>\n",
       "      <td>0</td>\n",
       "      <td>0</td>\n",
       "      <td>1</td>\n",
       "      <td>1</td>\n",
       "      <td>0</td>\n",
       "      <td>14</td>\n",
       "      <td>10</td>\n",
       "      <td>17</td>\n",
       "    </tr>\n",
       "    <tr>\n",
       "      <th>3</th>\n",
       "      <td>82442376</td>\n",
       "      <td>2</td>\n",
       "      <td>1</td>\n",
       "      <td>3</td>\n",
       "      <td>3</td>\n",
       "      <td>1</td>\n",
       "      <td>1</td>\n",
       "      <td>7</td>\n",
       "      <td>2</td>\n",
       "      <td>15</td>\n",
       "      <td>71</td>\n",
       "      <td>44</td>\n",
       "      <td>1</td>\n",
       "      <td>16</td>\n",
       "      <td>0</td>\n",
       "      <td>0</td>\n",
       "      <td>0</td>\n",
       "      <td>553</td>\n",
       "      <td>95</td>\n",
       "      <td>248</td>\n",
       "      <td>7</td>\n",
       "      <td>0</td>\n",
       "      <td>0</td>\n",
       "      <td>1</td>\n",
       "      <td>1</td>\n",
       "      <td>1</td>\n",
       "      <td>1</td>\n",
       "      <td>1</td>\n",
       "      <td>0</td>\n",
       "      <td>1</td>\n",
       "      <td>1</td>\n",
       "      <td>0</td>\n",
       "      <td>1</td>\n",
       "      <td>1</td>\n",
       "      <td>1</td>\n",
       "      <td>1</td>\n",
       "      <td>0</td>\n",
       "      <td>0</td>\n",
       "      <td>3</td>\n",
       "      <td>1</td>\n",
       "      <td>0</td>\n",
       "      <td>0</td>\n",
       "      <td>0</td>\n",
       "      <td>0</td>\n",
       "      <td>1</td>\n",
       "      <td>0</td>\n",
       "      <td>7</td>\n",
       "      <td>10</td>\n",
       "      <td>2</td>\n",
       "    </tr>\n",
       "    <tr>\n",
       "      <th>4</th>\n",
       "      <td>42519267</td>\n",
       "      <td>2</td>\n",
       "      <td>1</td>\n",
       "      <td>4</td>\n",
       "      <td>3</td>\n",
       "      <td>1</td>\n",
       "      <td>1</td>\n",
       "      <td>7</td>\n",
       "      <td>1</td>\n",
       "      <td>15</td>\n",
       "      <td>71</td>\n",
       "      <td>51</td>\n",
       "      <td>0</td>\n",
       "      <td>8</td>\n",
       "      <td>0</td>\n",
       "      <td>0</td>\n",
       "      <td>0</td>\n",
       "      <td>54</td>\n",
       "      <td>23</td>\n",
       "      <td>86</td>\n",
       "      <td>5</td>\n",
       "      <td>0</td>\n",
       "      <td>0</td>\n",
       "      <td>1</td>\n",
       "      <td>1</td>\n",
       "      <td>1</td>\n",
       "      <td>1</td>\n",
       "      <td>1</td>\n",
       "      <td>0</td>\n",
       "      <td>2</td>\n",
       "      <td>1</td>\n",
       "      <td>0</td>\n",
       "      <td>1</td>\n",
       "      <td>1</td>\n",
       "      <td>1</td>\n",
       "      <td>1</td>\n",
       "      <td>0</td>\n",
       "      <td>0</td>\n",
       "      <td>2</td>\n",
       "      <td>1</td>\n",
       "      <td>0</td>\n",
       "      <td>0</td>\n",
       "      <td>0</td>\n",
       "      <td>0</td>\n",
       "      <td>1</td>\n",
       "      <td>0</td>\n",
       "      <td>12</td>\n",
       "      <td>12</td>\n",
       "      <td>10</td>\n",
       "    </tr>\n",
       "    <tr>\n",
       "      <th>5</th>\n",
       "      <td>82637451</td>\n",
       "      <td>2</td>\n",
       "      <td>1</td>\n",
       "      <td>5</td>\n",
       "      <td>3</td>\n",
       "      <td>2</td>\n",
       "      <td>1</td>\n",
       "      <td>2</td>\n",
       "      <td>3</td>\n",
       "      <td>15</td>\n",
       "      <td>71</td>\n",
       "      <td>31</td>\n",
       "      <td>6</td>\n",
       "      <td>16</td>\n",
       "      <td>0</td>\n",
       "      <td>0</td>\n",
       "      <td>0</td>\n",
       "      <td>263</td>\n",
       "      <td>244</td>\n",
       "      <td>86</td>\n",
       "      <td>9</td>\n",
       "      <td>0</td>\n",
       "      <td>0</td>\n",
       "      <td>1</td>\n",
       "      <td>1</td>\n",
       "      <td>1</td>\n",
       "      <td>1</td>\n",
       "      <td>1</td>\n",
       "      <td>0</td>\n",
       "      <td>1</td>\n",
       "      <td>1</td>\n",
       "      <td>0</td>\n",
       "      <td>1</td>\n",
       "      <td>1</td>\n",
       "      <td>1</td>\n",
       "      <td>1</td>\n",
       "      <td>0</td>\n",
       "      <td>0</td>\n",
       "      <td>2</td>\n",
       "      <td>1</td>\n",
       "      <td>0</td>\n",
       "      <td>0</td>\n",
       "      <td>0</td>\n",
       "      <td>1</td>\n",
       "      <td>1</td>\n",
       "      <td>2</td>\n",
       "      <td>2</td>\n",
       "      <td>2</td>\n",
       "      <td>10</td>\n",
       "    </tr>\n",
       "  </tbody>\n",
       "</table>\n",
       "</div>"
      ],
      "text/plain": [
       "   patient_nbr  race  gender  age  weight admission_type_id  \\\n",
       "1     55629189     2       0    1       3                 1   \n",
       "2     86047875     0       0    2       3                 1   \n",
       "3     82442376     2       1    3       3                 1   \n",
       "4     42519267     2       1    4       3                 1   \n",
       "5     82637451     2       1    5       3                 2   \n",
       "\n",
       "  discharge_disposition_id admission_source_id  time_in_hospital  payer_code  \\\n",
       "1                        1                   7                 3          15   \n",
       "2                        1                   7                 2          15   \n",
       "3                        1                   7                 2          15   \n",
       "4                        1                   7                 1          15   \n",
       "5                        1                   2                 3          15   \n",
       "\n",
       "   medical_specialty  num_lab_procedures  num_procedures  num_medications  \\\n",
       "1                 71                  59               0               18   \n",
       "2                 71                  11               5               13   \n",
       "3                 71                  44               1               16   \n",
       "4                 71                  51               0                8   \n",
       "5                 71                  31               6               16   \n",
       "\n",
       "   number_outpatient  number_emergency  number_inpatient  diag_1  diag_2  \\\n",
       "1                  0                 0                 0     143      77   \n",
       "2                  2                 0                 1     454      76   \n",
       "3                  0                 0                 0     553      95   \n",
       "4                  0                 0                 0      54      23   \n",
       "5                  0                 0                 0     263     244   \n",
       "\n",
       "   diag_3  number_diagnoses  max_glu_serum  A1Cresult  metformin  repaglinide  \\\n",
       "1     121                 9              0          0          1            1   \n",
       "2     763                 6              0          0          1            1   \n",
       "3     248                 7              0          0          1            1   \n",
       "4      86                 5              0          0          1            1   \n",
       "5      86                 9              0          0          1            1   \n",
       "\n",
       "   nateglinide  chlorpropamide  glimepiride  acetohexamide  glipizide  \\\n",
       "1            1               1            1              0          1   \n",
       "2            1               1            1              0          2   \n",
       "3            1               1            1              0          1   \n",
       "4            1               1            1              0          2   \n",
       "5            1               1            1              0          1   \n",
       "\n",
       "   glyburide  tolbutamide  pioglitazone  rosiglitazone  acarbose  miglitol  \\\n",
       "1          1            0             1              1         1         1   \n",
       "2          1            0             1              1         1         1   \n",
       "3          1            0             1              1         1         1   \n",
       "4          1            0             1              1         1         1   \n",
       "5          1            0             1              1         1         1   \n",
       "\n",
       "   troglitazone  tolazamide  insulin  glyburide-metformin  \\\n",
       "1             0           0        3                    1   \n",
       "2             0           0        1                    1   \n",
       "3             0           0        3                    1   \n",
       "4             0           0        2                    1   \n",
       "5             0           0        2                    1   \n",
       "\n",
       "   glipizide-metformin  glimepiride-pioglitazone  metformin-pioglitazone  \\\n",
       "1                    0                         0                       0   \n",
       "2                    0                         0                       0   \n",
       "3                    0                         0                       0   \n",
       "4                    0                         0                       0   \n",
       "5                    0                         0                       0   \n",
       "\n",
       "   change  diabetesMed  readmitted  diag_1_class  diag_2_class  diag_3_class  \n",
       "1       0            1           2            10            10            10  \n",
       "2       1            1           0            14            10            17  \n",
       "3       0            1           0             7            10             2  \n",
       "4       0            1           0            12            12            10  \n",
       "5       1            1           2             2             2            10  "
      ]
     },
     "execution_count": 21,
     "metadata": {},
     "output_type": "execute_result"
    }
   ],
   "source": [
    "dataframe.head()"
   ]
  },
  {
   "cell_type": "code",
   "execution_count": 22,
   "metadata": {},
   "outputs": [],
   "source": [
    "non_categorical_cols=['age','weight','time_in_hospital','num_lab_procedures','num_procedures','num_medications',\n",
    "                    'number_outpatient','number_emergency','number_inpatient','number_diagnoses','patient_nbr','diag_1','diag_2','diag_3']\n",
    "\n",
    "def set_cat_dtype(df, non_cat_cols):\n",
    "    for col in df.columns:\n",
    "        if col not in non_cat_cols:\n",
    "            df[col]=df[col].astype('category')\n",
    "\n",
    "set_cat_dtype(dataframe,non_categorical_cols)\n",
    "set_cat_dtype(dataframe_label,non_categorical_cols)\n",
    "set_cat_dtype(dataframe_onehot,non_categorical_cols)\n",
    "set_cat_dtype(dataframe_onehot_plus,non_categorical_cols)"
   ]
  },
  {
   "cell_type": "markdown",
   "metadata": {},
   "source": [
    "3. Algoritmi za klasifikaciju\n",
    "\n",
    "k-Nearest Neighbors.\n",
    "Decision Trees.\n",
    "Naive Bayes.\n",
    "Random Forest.\n",
    "Gradient Boosting."
   ]
  },
  {
   "cell_type": "code",
   "execution_count": 23,
   "metadata": {},
   "outputs": [],
   "source": [
    "from sklearn.model_selection import GridSearchCV,RandomizedSearchCV\n",
    "from sklearn.neighbors import KNeighborsClassifier\n",
    "from sklearn.tree import DecisionTreeClassifier\n",
    "from sklearn.naive_bayes import MultinomialNB\n",
    "from sklearn.ensemble import HistGradientBoostingClassifier\n",
    "from sklearn.ensemble import GradientBoostingClassifier\n",
    "from sklearn.pipeline import Pipeline\n",
    "from sklearn.preprocessing import MinMaxScaler,StandardScaler\n",
    "from sklearn.ensemble import RandomForestClassifier\n",
    "from sklearn.linear_model import LogisticRegression\n",
    "from sklearn.linear_model import SGDClassifier\n",
    "from sklearn.model_selection import train_test_split\n",
    "from timeit import default_timer as timer"
   ]
  },
  {
   "cell_type": "code",
   "execution_count": 24,
   "metadata": {},
   "outputs": [
    {
     "data": {
      "text/html": [
       "<div>\n",
       "<style scoped>\n",
       "    .dataframe tbody tr th:only-of-type {\n",
       "        vertical-align: middle;\n",
       "    }\n",
       "\n",
       "    .dataframe tbody tr th {\n",
       "        vertical-align: top;\n",
       "    }\n",
       "\n",
       "    .dataframe thead th {\n",
       "        text-align: right;\n",
       "    }\n",
       "</style>\n",
       "<table border=\"1\" class=\"dataframe\">\n",
       "  <thead>\n",
       "    <tr style=\"text-align: right;\">\n",
       "      <th></th>\n",
       "      <th>patient_nbr</th>\n",
       "      <th>age</th>\n",
       "      <th>weight</th>\n",
       "      <th>time_in_hospital</th>\n",
       "      <th>num_lab_procedures</th>\n",
       "      <th>num_procedures</th>\n",
       "      <th>num_medications</th>\n",
       "      <th>number_outpatient</th>\n",
       "      <th>number_emergency</th>\n",
       "      <th>number_inpatient</th>\n",
       "      <th>diag_1</th>\n",
       "      <th>diag_2</th>\n",
       "      <th>diag_3</th>\n",
       "      <th>number_diagnoses</th>\n",
       "    </tr>\n",
       "  </thead>\n",
       "  <tbody>\n",
       "    <tr>\n",
       "      <th>count</th>\n",
       "      <td>9.805200e+04</td>\n",
       "      <td>98052.000000</td>\n",
       "      <td>98052.000000</td>\n",
       "      <td>98052.000000</td>\n",
       "      <td>98052.000000</td>\n",
       "      <td>98052.000000</td>\n",
       "      <td>98052.000000</td>\n",
       "      <td>98052.000000</td>\n",
       "      <td>98052.000000</td>\n",
       "      <td>98052.000000</td>\n",
       "      <td>98052.000000</td>\n",
       "      <td>98052.000000</td>\n",
       "      <td>98052.000000</td>\n",
       "      <td>98052.000000</td>\n",
       "    </tr>\n",
       "    <tr>\n",
       "      <th>mean</th>\n",
       "      <td>5.484745e+07</td>\n",
       "      <td>6.126025</td>\n",
       "      <td>2.998613</td>\n",
       "      <td>4.422011</td>\n",
       "      <td>43.148462</td>\n",
       "      <td>1.350712</td>\n",
       "      <td>16.119590</td>\n",
       "      <td>0.376382</td>\n",
       "      <td>0.202464</td>\n",
       "      <td>0.646871</td>\n",
       "      <td>337.624240</td>\n",
       "      <td>274.955085</td>\n",
       "      <td>280.592114</td>\n",
       "      <td>7.512096</td>\n",
       "    </tr>\n",
       "    <tr>\n",
       "      <th>std</th>\n",
       "      <td>3.866167e+07</td>\n",
       "      <td>1.559081</td>\n",
       "      <td>0.182782</td>\n",
       "      <td>2.993070</td>\n",
       "      <td>19.711757</td>\n",
       "      <td>1.708475</td>\n",
       "      <td>8.108496</td>\n",
       "      <td>1.283365</td>\n",
       "      <td>0.942897</td>\n",
       "      <td>1.271025</td>\n",
       "      <td>159.449319</td>\n",
       "      <td>151.144566</td>\n",
       "      <td>175.386124</td>\n",
       "      <td>1.832472</td>\n",
       "    </tr>\n",
       "    <tr>\n",
       "      <th>min</th>\n",
       "      <td>1.350000e+02</td>\n",
       "      <td>0.000000</td>\n",
       "      <td>0.000000</td>\n",
       "      <td>1.000000</td>\n",
       "      <td>1.000000</td>\n",
       "      <td>0.000000</td>\n",
       "      <td>1.000000</td>\n",
       "      <td>0.000000</td>\n",
       "      <td>0.000000</td>\n",
       "      <td>0.000000</td>\n",
       "      <td>0.000000</td>\n",
       "      <td>0.000000</td>\n",
       "      <td>0.000000</td>\n",
       "      <td>3.000000</td>\n",
       "    </tr>\n",
       "    <tr>\n",
       "      <th>25%</th>\n",
       "      <td>2.350234e+07</td>\n",
       "      <td>5.000000</td>\n",
       "      <td>3.000000</td>\n",
       "      <td>2.000000</td>\n",
       "      <td>31.000000</td>\n",
       "      <td>0.000000</td>\n",
       "      <td>11.000000</td>\n",
       "      <td>0.000000</td>\n",
       "      <td>0.000000</td>\n",
       "      <td>0.000000</td>\n",
       "      <td>259.000000</td>\n",
       "      <td>140.000000</td>\n",
       "      <td>139.000000</td>\n",
       "      <td>6.000000</td>\n",
       "    </tr>\n",
       "    <tr>\n",
       "      <th>50%</th>\n",
       "      <td>4.687610e+07</td>\n",
       "      <td>6.000000</td>\n",
       "      <td>3.000000</td>\n",
       "      <td>4.000000</td>\n",
       "      <td>44.000000</td>\n",
       "      <td>1.000000</td>\n",
       "      <td>15.000000</td>\n",
       "      <td>0.000000</td>\n",
       "      <td>0.000000</td>\n",
       "      <td>0.000000</td>\n",
       "      <td>300.000000</td>\n",
       "      <td>258.000000</td>\n",
       "      <td>256.000000</td>\n",
       "      <td>8.000000</td>\n",
       "    </tr>\n",
       "    <tr>\n",
       "      <th>75%</th>\n",
       "      <td>8.800306e+07</td>\n",
       "      <td>7.000000</td>\n",
       "      <td>3.000000</td>\n",
       "      <td>6.000000</td>\n",
       "      <td>57.000000</td>\n",
       "      <td>2.000000</td>\n",
       "      <td>20.000000</td>\n",
       "      <td>0.000000</td>\n",
       "      <td>0.000000</td>\n",
       "      <td>1.000000</td>\n",
       "      <td>435.000000</td>\n",
       "      <td>374.000000</td>\n",
       "      <td>370.000000</td>\n",
       "      <td>9.000000</td>\n",
       "    </tr>\n",
       "    <tr>\n",
       "      <th>max</th>\n",
       "      <td>1.895026e+08</td>\n",
       "      <td>9.000000</td>\n",
       "      <td>8.000000</td>\n",
       "      <td>14.000000</td>\n",
       "      <td>132.000000</td>\n",
       "      <td>6.000000</td>\n",
       "      <td>81.000000</td>\n",
       "      <td>42.000000</td>\n",
       "      <td>76.000000</td>\n",
       "      <td>21.000000</td>\n",
       "      <td>712.000000</td>\n",
       "      <td>739.000000</td>\n",
       "      <td>785.000000</td>\n",
       "      <td>16.000000</td>\n",
       "    </tr>\n",
       "  </tbody>\n",
       "</table>\n",
       "</div>"
      ],
      "text/plain": [
       "        patient_nbr           age        weight  time_in_hospital  \\\n",
       "count  9.805200e+04  98052.000000  98052.000000      98052.000000   \n",
       "mean   5.484745e+07      6.126025      2.998613          4.422011   \n",
       "std    3.866167e+07      1.559081      0.182782          2.993070   \n",
       "min    1.350000e+02      0.000000      0.000000          1.000000   \n",
       "25%    2.350234e+07      5.000000      3.000000          2.000000   \n",
       "50%    4.687610e+07      6.000000      3.000000          4.000000   \n",
       "75%    8.800306e+07      7.000000      3.000000          6.000000   \n",
       "max    1.895026e+08      9.000000      8.000000         14.000000   \n",
       "\n",
       "       num_lab_procedures  num_procedures  num_medications  number_outpatient  \\\n",
       "count        98052.000000    98052.000000     98052.000000       98052.000000   \n",
       "mean            43.148462        1.350712        16.119590           0.376382   \n",
       "std             19.711757        1.708475         8.108496           1.283365   \n",
       "min              1.000000        0.000000         1.000000           0.000000   \n",
       "25%             31.000000        0.000000        11.000000           0.000000   \n",
       "50%             44.000000        1.000000        15.000000           0.000000   \n",
       "75%             57.000000        2.000000        20.000000           0.000000   \n",
       "max            132.000000        6.000000        81.000000          42.000000   \n",
       "\n",
       "       number_emergency  number_inpatient        diag_1        diag_2  \\\n",
       "count      98052.000000      98052.000000  98052.000000  98052.000000   \n",
       "mean           0.202464          0.646871    337.624240    274.955085   \n",
       "std            0.942897          1.271025    159.449319    151.144566   \n",
       "min            0.000000          0.000000      0.000000      0.000000   \n",
       "25%            0.000000          0.000000    259.000000    140.000000   \n",
       "50%            0.000000          0.000000    300.000000    258.000000   \n",
       "75%            0.000000          1.000000    435.000000    374.000000   \n",
       "max           76.000000         21.000000    712.000000    739.000000   \n",
       "\n",
       "             diag_3  number_diagnoses  \n",
       "count  98052.000000      98052.000000  \n",
       "mean     280.592114          7.512096  \n",
       "std      175.386124          1.832472  \n",
       "min        0.000000          3.000000  \n",
       "25%      139.000000          6.000000  \n",
       "50%      256.000000          8.000000  \n",
       "75%      370.000000          9.000000  \n",
       "max      785.000000         16.000000  "
      ]
     },
     "execution_count": 24,
     "metadata": {},
     "output_type": "execute_result"
    }
   ],
   "source": [
    "dataframe_onehot.describe()"
   ]
  },
  {
   "cell_type": "code",
   "execution_count": 100,
   "metadata": {},
   "outputs": [],
   "source": [
    "def gridSearch(df, target, search_space, scorings=['accuracy','f1','f1_micro','f1_macro','roc_auc_ovr','roc_auc_ovo','roc_auc','precision'], metric='f1', folds=2):\n",
    "\n",
    "    np.random.seed(0)\n",
    "    scores = []\n",
    "    models = []\n",
    "    for model_name, mp in search_space.items():\n",
    "        start = timer()\n",
    "        clf = GridSearchCV(mp['model'], mp['params'], scoring=scorings, refit=metric, cv=folds, return_train_score=False, verbose=True, n_jobs=-1)\n",
    "        best=clf.fit(df.drop(columns=[target]).values, df[target].values)\n",
    "        models.append(best)\n",
    "        scores.append({\n",
    "            'model': model_name,\n",
    "            'best_score': clf.best_score_,\n",
    "            'best_params': clf.best_params_\n",
    "        })\n",
    "        print(int(timer() - start))\n",
    "    return scores, models\n",
    "\n",
    "sc=[]\n"
   ]
  },
  {
   "cell_type": "code",
   "execution_count": 26,
   "metadata": {},
   "outputs": [],
   "source": [
    "search_space = {\n",
    "    'random_forest': {\n",
    "        'model': RandomForestClassifier(),\n",
    "        'params': {\n",
    "            'n_estimators': [10, 20]  # [1,5,10]\n",
    "        }\n",
    "    },\n",
    "    # # 'logistic_regression': {\n",
    "    # #     'model': LogisticRegression(solver='liblinear', multi_class='auto'),\n",
    "    # #     'params': {\n",
    "    # #         'penalty': ['l1',],\n",
    "    # #         'C': [1, 5]\n",
    "    # #     }\n",
    "    # # },\n",
    "    # # 'knn': {\n",
    "    # #     'model': KNeighborsClassifier(algorithm='auto'),\n",
    "    # #     'params': {\n",
    "    # #         'n_neighbors': [15,],\n",
    "    # #         'leaf_size': [40,],\n",
    "    # #         'p': [1, 2],\n",
    "    # #         'weights': ['uniform', 'distance']\n",
    "    # #     }\n",
    "    # # },\n",
    "    # # 'decision_tree': {\n",
    "    # #     'model': DecisionTreeClassifier(),\n",
    "    # #     'params': {\n",
    "    # #         'criterion': ['gini'],\n",
    "    # #         'max_depth': [50]\n",
    "    # #     }\n",
    "    # # },\n",
    "    # # 'naive_bayes': {\n",
    "    # #     'model': MultinomialNB(),\n",
    "    # #     'params': {\n",
    "    # #     }\n",
    "    # # },\n",
    "    # 'gradient_boosting': {\n",
    "    #     'model': GradientBoostingClassifier(),\n",
    "    #     'params': {\n",
    "    #         'learning_rate': [0.04],\n",
    "    #         'subsample': [0.5,],\n",
    "    #         'n_estimators': [100],\n",
    "    #         'max_depth': [50]\n",
    "    #     }\n",
    "    # },\n",
    "    'hist_gradient_boosting': {\n",
    "        'model': HistGradientBoostingClassifier(),\n",
    "        'params': {\n",
    "            'max_iter': [100],\n",
    "            'learning_rate': [0.4],\n",
    "            'max_depth': [50],\n",
    "            'l2_regularization': [1.5],\n",
    "        }\n",
    "    },\n",
    "\n",
    "}\n"
   ]
  },
  {
   "cell_type": "code",
   "execution_count": 27,
   "metadata": {},
   "outputs": [
    {
     "name": "stdout",
     "output_type": "stream",
     "text": [
      "Fitting 2 folds for each of 2 candidates, totalling 4 fits\n"
     ]
    },
    {
     "name": "stderr",
     "output_type": "stream",
     "text": [
      "c:\\Users\\PC\\AppData\\Local\\Programs\\Python\\Python310\\lib\\site-packages\\sklearn\\model_selection\\_search.py:953: UserWarning: One or more of the test scores are non-finite: [nan nan]\n",
      "  warnings.warn(\n"
     ]
    },
    {
     "name": "stdout",
     "output_type": "stream",
     "text": [
      "8\n",
      "Fitting 2 folds for each of 1 candidates, totalling 2 fits\n"
     ]
    },
    {
     "name": "stderr",
     "output_type": "stream",
     "text": [
      "c:\\Users\\PC\\AppData\\Local\\Programs\\Python\\Python310\\lib\\site-packages\\sklearn\\model_selection\\_search.py:953: UserWarning: One or more of the test scores are non-finite: [nan]\n",
      "  warnings.warn(\n"
     ]
    },
    {
     "name": "stdout",
     "output_type": "stream",
     "text": [
      "7\n",
      "                    model  best_score  \\\n",
      "0           random_forest         NaN   \n",
      "1  hist_gradient_boosting         NaN   \n",
      "\n",
      "                                         best_params  \n",
      "0                               {'n_estimators': 10}  \n",
      "1  {'l2_regularization': 1.5, 'learning_rate': 0....  \n"
     ]
    }
   ],
   "source": [
    "if run_long_tasks:\n",
    "    scores, models=gridSearch(dataframe_label, 'readmitted', search_space, metric='accuracy')\n",
    "    sc = pd.DataFrame(scores,columns=['model','best_score','best_params'])\n",
    "    print(sc)"
   ]
  },
  {
   "cell_type": "code",
   "execution_count": 28,
   "metadata": {},
   "outputs": [
    {
     "name": "stdout",
     "output_type": "stream",
     "text": [
      "Fitting 2 folds for each of 2 candidates, totalling 4 fits\n"
     ]
    },
    {
     "name": "stderr",
     "output_type": "stream",
     "text": [
      "c:\\Users\\PC\\AppData\\Local\\Programs\\Python\\Python310\\lib\\site-packages\\sklearn\\model_selection\\_search.py:953: UserWarning: One or more of the test scores are non-finite: [nan nan]\n",
      "  warnings.warn(\n"
     ]
    },
    {
     "name": "stdout",
     "output_type": "stream",
     "text": [
      "7\n",
      "Fitting 2 folds for each of 1 candidates, totalling 2 fits\n"
     ]
    },
    {
     "name": "stderr",
     "output_type": "stream",
     "text": [
      "c:\\Users\\PC\\AppData\\Local\\Programs\\Python\\Python310\\lib\\site-packages\\sklearn\\model_selection\\_search.py:953: UserWarning: One or more of the test scores are non-finite: [nan]\n",
      "  warnings.warn(\n"
     ]
    },
    {
     "name": "stdout",
     "output_type": "stream",
     "text": [
      "8\n",
      "                    model  best_score  \\\n",
      "0           random_forest         NaN   \n",
      "1  hist_gradient_boosting         NaN   \n",
      "\n",
      "                                         best_params  \n",
      "0                               {'n_estimators': 10}  \n",
      "1  {'l2_regularization': 1.5, 'learning_rate': 0....  \n"
     ]
    }
   ],
   "source": [
    "if run_long_tasks:\n",
    "    scores, models=gridSearch(dataframe_onehot, 'readmitted', search_space, metric='accuracy')\n",
    "    sc = pd.DataFrame(scores,columns=['model','best_score','best_params'])\n",
    "    print(sc)"
   ]
  },
  {
   "cell_type": "code",
   "execution_count": 29,
   "metadata": {},
   "outputs": [
    {
     "name": "stdout",
     "output_type": "stream",
     "text": [
      "Fitting 2 folds for each of 2 candidates, totalling 4 fits\n"
     ]
    },
    {
     "name": "stderr",
     "output_type": "stream",
     "text": [
      "c:\\Users\\PC\\AppData\\Local\\Programs\\Python\\Python310\\lib\\site-packages\\sklearn\\model_selection\\_search.py:953: UserWarning: One or more of the test scores are non-finite: [nan nan]\n",
      "  warnings.warn(\n"
     ]
    },
    {
     "name": "stdout",
     "output_type": "stream",
     "text": [
      "7\n",
      "Fitting 2 folds for each of 1 candidates, totalling 2 fits\n"
     ]
    },
    {
     "name": "stderr",
     "output_type": "stream",
     "text": [
      "c:\\Users\\PC\\AppData\\Local\\Programs\\Python\\Python310\\lib\\site-packages\\sklearn\\model_selection\\_search.py:953: UserWarning: One or more of the test scores are non-finite: [nan]\n",
      "  warnings.warn(\n"
     ]
    },
    {
     "name": "stdout",
     "output_type": "stream",
     "text": [
      "10\n",
      "                    model  best_score  \\\n",
      "0           random_forest         NaN   \n",
      "1  hist_gradient_boosting         NaN   \n",
      "\n",
      "                                         best_params  \n",
      "0                               {'n_estimators': 10}  \n",
      "1  {'l2_regularization': 1.5, 'learning_rate': 0....  \n"
     ]
    }
   ],
   "source": [
    "if run_long_tasks:\n",
    "    scores, models=gridSearch(dataframe_onehot_plus, 'readmitted', search_space, metric='accuracy')\n",
    "    sc = pd.DataFrame(scores,columns=['model','best_score','best_params'])\n",
    "    print(sc)"
   ]
  },
  {
   "cell_type": "code",
   "execution_count": 30,
   "metadata": {},
   "outputs": [
    {
     "name": "stdout",
     "output_type": "stream",
     "text": [
      "(98052, 87)\n",
      "deleted columns:\n",
      "chlorpropamide\n",
      "acetohexamide\n",
      "tolbutamide\n",
      "acarbose\n",
      "miglitol\n",
      "troglitazone\n",
      "tolazamide\n",
      "glipizide-metformin\n",
      "glimepiride-pioglitazone\n",
      "metformin-pioglitazone\n",
      "diag_1_class(Cause)\n",
      "diag_1_class(Congenital)\n",
      "diag_2_class(Congenital)\n",
      "diag_2_class(Pregnancy)\n",
      "diag_3_class(Congenital)\n",
      "diag_3_class(Pregnancy)\n",
      "Fitting 2 folds for each of 2 candidates, totalling 4 fits\n"
     ]
    },
    {
     "name": "stderr",
     "output_type": "stream",
     "text": [
      "c:\\Users\\PC\\AppData\\Local\\Programs\\Python\\Python310\\lib\\site-packages\\sklearn\\model_selection\\_search.py:953: UserWarning: One or more of the test scores are non-finite: [nan nan]\n",
      "  warnings.warn(\n"
     ]
    },
    {
     "name": "stdout",
     "output_type": "stream",
     "text": [
      "6\n",
      "Fitting 2 folds for each of 1 candidates, totalling 2 fits\n"
     ]
    },
    {
     "name": "stderr",
     "output_type": "stream",
     "text": [
      "c:\\Users\\PC\\AppData\\Local\\Programs\\Python\\Python310\\lib\\site-packages\\sklearn\\model_selection\\_search.py:953: UserWarning: One or more of the test scores are non-finite: [nan]\n",
      "  warnings.warn(\n"
     ]
    },
    {
     "name": "stdout",
     "output_type": "stream",
     "text": [
      "6\n",
      "                    model  best_score  \\\n",
      "0           random_forest         NaN   \n",
      "1  hist_gradient_boosting         NaN   \n",
      "\n",
      "                                         best_params  \n",
      "0                               {'n_estimators': 10}  \n",
      "1  {'l2_regularization': 1.5, 'learning_rate': 0....  \n"
     ]
    }
   ],
   "source": [
    "selected_columns = remove_low_variance_columns(\n",
    "    dataframe_onehot, \"readmitted\", 0.005)\n",
    "\n",
    "to_drop = set()\n",
    "print(\"deleted columns:\")\n",
    "\n",
    "for col in dataframe_onehot.columns:\n",
    "    if col not in selected_columns:\n",
    "        print(col)\n",
    "        to_drop.add(col)\n",
    "\n",
    "if run_long_tasks:\n",
    "    scores, models=gridSearch(dataframe_onehot.drop(dataframe_onehot[list(to_drop)], axis=1), 'readmitted', search_space, metric='accuracy')\n",
    "    sc = pd.DataFrame(scores,columns=['model','best_score','best_params'])\n",
    "    print(sc)"
   ]
  },
  {
   "cell_type": "code",
   "execution_count": 31,
   "metadata": {},
   "outputs": [
    {
     "name": "stdout",
     "output_type": "stream",
     "text": [
      "(98052, 80)\n",
      "deleted columns:\n",
      "gender\n",
      "diag_1\n",
      "diag_2\n",
      "diag_3\n",
      "A1Cresult\n",
      "acetohexamide\n",
      "glipizide-metformin\n",
      "metformin-pioglitazone\n",
      "diag_1_class(Cause)\n",
      "diag_1_class(Congenital)\n",
      "diag_1_class(Genitourinary System)\n",
      "diag_1_class(Ill Defined)\n",
      "diag_1_class(Mental)\n",
      "diag_1_class(Pregnancy)\n",
      "diag_1_class(Respiratory System)\n",
      "diag_2_class(Blood)\n",
      "diag_2_class(Cause)\n",
      "diag_2_class(Circulatory System)\n",
      "diag_2_class(Digestive System)\n",
      "diag_2_class(Metabolic)\n",
      "diag_2_class(Neoplasms)\n",
      "diag_2_class(Nervous System)\n",
      "diag_2_class(Pregnancy)\n",
      "Fitting 2 folds for each of 2 candidates, totalling 4 fits\n"
     ]
    },
    {
     "name": "stderr",
     "output_type": "stream",
     "text": [
      "c:\\Users\\PC\\AppData\\Local\\Programs\\Python\\Python310\\lib\\site-packages\\sklearn\\model_selection\\_search.py:953: UserWarning: One or more of the test scores are non-finite: [nan nan]\n",
      "  warnings.warn(\n"
     ]
    },
    {
     "name": "stdout",
     "output_type": "stream",
     "text": [
      "6\n",
      "Fitting 2 folds for each of 1 candidates, totalling 2 fits\n"
     ]
    },
    {
     "name": "stderr",
     "output_type": "stream",
     "text": [
      "c:\\Users\\PC\\AppData\\Local\\Programs\\Python\\Python310\\lib\\site-packages\\sklearn\\model_selection\\_search.py:953: UserWarning: One or more of the test scores are non-finite: [nan]\n",
      "  warnings.warn(\n"
     ]
    },
    {
     "name": "stdout",
     "output_type": "stream",
     "text": [
      "7\n",
      "                    model  best_score  \\\n",
      "0           random_forest         NaN   \n",
      "1  hist_gradient_boosting         NaN   \n",
      "\n",
      "                                         best_params  \n",
      "0                               {'n_estimators': 10}  \n",
      "1  {'l2_regularization': 1.5, 'learning_rate': 0....  \n"
     ]
    }
   ],
   "source": [
    "if run_long_tasks:\n",
    "    selected = select_best_columns(dataframe_onehot, \"readmitted\", 0.8)\n",
    "    to_drop = set()\n",
    "    print(\"deleted columns:\")\n",
    "\n",
    "    for col in dataframe_onehot.columns:\n",
    "        if col not in selected:\n",
    "            print(col)\n",
    "            to_drop.add(col)\n",
    "\n",
    "    scores, models=gridSearch(dataframe_onehot.drop(dataframe_onehot[list(to_drop)], axis=1), 'readmitted', search_space, metric='accuracy')\n",
    "    sc = pd.DataFrame(scores,columns=['model','best_score','best_params'])\n",
    "    print(sc)"
   ]
  },
  {
   "cell_type": "markdown",
   "metadata": {},
   "source": [
    "Modifikacija dataset-a za binarnu klasifikaciju"
   ]
  },
  {
   "cell_type": "code",
   "execution_count": 32,
   "metadata": {},
   "outputs": [
    {
     "data": {
      "text/plain": [
       "<AxesSubplot: ylabel='readmitted'>"
      ]
     },
     "execution_count": 32,
     "metadata": {},
     "output_type": "execute_result"
    },
    {
     "data": {
      "image/png": "[encoded data removed]",
      "text/plain": [
       "<Figure size 640x480 with 1 Axes>"
      ]
     },
     "metadata": {},
     "output_type": "display_data"
    }
   ],
   "source": [
    "dataframe_label['readmitted'].value_counts().plot(kind='pie')"
   ]
  },
  {
   "cell_type": "code",
   "execution_count": 33,
   "metadata": {},
   "outputs": [
    {
     "name": "stdout",
     "output_type": "stream",
     "text": [
      "<class 'pandas.core.frame.DataFrame'>\n",
      "Int64Index: 98052 entries, 1 to 101765\n",
      "Data columns (total 49 columns):\n",
      " #   Column                    Non-Null Count  Dtype   \n",
      "---  ------                    --------------  -----   \n",
      " 0   patient_nbr               98052 non-null  int64   \n",
      " 1   race                      98052 non-null  category\n",
      " 2   gender                    98052 non-null  category\n",
      " 3   age                       98052 non-null  int32   \n",
      " 4   weight                    98052 non-null  int32   \n",
      " 5   admission_type_id         98052 non-null  category\n",
      " 6   discharge_disposition_id  98052 non-null  category\n",
      " 7   admission_source_id       98052 non-null  category\n",
      " 8   time_in_hospital          98052 non-null  int64   \n",
      " 9   payer_code                98052 non-null  category\n",
      " 10  medical_specialty         98052 non-null  category\n",
      " 11  num_lab_procedures        98052 non-null  int64   \n",
      " 12  num_procedures            98052 non-null  int64   \n",
      " 13  num_medications           98052 non-null  int64   \n",
      " 14  number_outpatient         98052 non-null  int64   \n",
      " 15  number_emergency          98052 non-null  int64   \n",
      " 16  number_inpatient          98052 non-null  int64   \n",
      " 17  diag_1                    98052 non-null  int32   \n",
      " 18  diag_2                    98052 non-null  int32   \n",
      " 19  diag_3                    98052 non-null  int32   \n",
      " 20  number_diagnoses          98052 non-null  int64   \n",
      " 21  max_glu_serum             98052 non-null  category\n",
      " 22  A1Cresult                 98052 non-null  category\n",
      " 23  metformin                 98052 non-null  category\n",
      " 24  repaglinide               98052 non-null  category\n",
      " 25  nateglinide               98052 non-null  category\n",
      " 26  chlorpropamide            98052 non-null  category\n",
      " 27  glimepiride               98052 non-null  category\n",
      " 28  acetohexamide             98052 non-null  category\n",
      " 29  glipizide                 98052 non-null  category\n",
      " 30  glyburide                 98052 non-null  category\n",
      " 31  tolbutamide               98052 non-null  category\n",
      " 32  pioglitazone              98052 non-null  category\n",
      " 33  rosiglitazone             98052 non-null  category\n",
      " 34  acarbose                  98052 non-null  category\n",
      " 35  miglitol                  98052 non-null  category\n",
      " 36  troglitazone              98052 non-null  category\n",
      " 37  tolazamide                98052 non-null  category\n",
      " 38  insulin                   98052 non-null  category\n",
      " 39  glyburide-metformin       98052 non-null  category\n",
      " 40  glipizide-metformin       98052 non-null  category\n",
      " 41  glimepiride-pioglitazone  98052 non-null  category\n",
      " 42  metformin-pioglitazone    98052 non-null  category\n",
      " 43  change                    98052 non-null  category\n",
      " 44  diabetesMed               98052 non-null  category\n",
      " 45  readmitted                98052 non-null  category\n",
      " 46  diag_1_class              98052 non-null  category\n",
      " 47  diag_2_class              98052 non-null  category\n",
      " 48  diag_3_class              98052 non-null  category\n",
      "dtypes: category(35), int32(5), int64(9)\n",
      "memory usage: 12.6 MB\n"
     ]
    }
   ],
   "source": [
    "dataframe_label.info()"
   ]
  },
  {
   "cell_type": "code",
   "execution_count": 34,
   "metadata": {},
   "outputs": [
    {
     "data": {
      "text/plain": [
       "<AxesSubplot: ylabel='readmitted'>"
      ]
     },
     "execution_count": 34,
     "metadata": {},
     "output_type": "execute_result"
    },
    {
     "data": {
      "image/png": "[encoded data removed]",
      "text/plain": [
       "<Figure size 640x480 with 1 Axes>"
      ]
     },
     "metadata": {},
     "output_type": "display_data"
    }
   ],
   "source": [
    "dataframe_label_binary=dataframe_label.copy(deep=True)\n",
    "dataframe_onehot_binary=dataframe_onehot.copy(deep=True)\n",
    "dataframe_onehot_plus_binary=dataframe_onehot_plus.copy(deep=True)\n",
    "\n",
    "dataframe_label_binary['readmitted'].replace(to_replace=2,value=1,inplace=True)\n",
    "dataframe_onehot_binary['readmitted'].replace(to_replace=2,value=1,inplace=True)\n",
    "dataframe_onehot_plus_binary['readmitted'].replace(to_replace=2,value=1,inplace=True)\n",
    "\n",
    "dataframe_label_binary['readmitted'].value_counts().plot(kind='pie')"
   ]
  },
  {
   "cell_type": "code",
   "execution_count": 35,
   "metadata": {},
   "outputs": [
    {
     "name": "stdout",
     "output_type": "stream",
     "text": [
      "Fitting 2 folds for each of 2 candidates, totalling 4 fits\n",
      "7\n",
      "Fitting 2 folds for each of 1 candidates, totalling 2 fits\n",
      "3\n",
      "                    model  best_score  \\\n",
      "0           random_forest    0.593022   \n",
      "1  hist_gradient_boosting    0.611522   \n",
      "\n",
      "                                         best_params  \n",
      "0                               {'n_estimators': 20}  \n",
      "1  {'l2_regularization': 1.5, 'learning_rate': 0....  \n"
     ]
    }
   ],
   "source": [
    "if run_long_tasks:\n",
    "    scores, models=gridSearch(dataframe_label_binary, 'readmitted', search_space, metric='accuracy')\n",
    "    sc = pd.DataFrame(scores,columns=['model','best_score','best_params'])\n",
    "    print(sc)"
   ]
  },
  {
   "cell_type": "code",
   "execution_count": 36,
   "metadata": {},
   "outputs": [
    {
     "name": "stdout",
     "output_type": "stream",
     "text": [
      "Fitting 2 folds for each of 2 candidates, totalling 4 fits\n",
      "9\n",
      "Fitting 2 folds for each of 1 candidates, totalling 2 fits\n",
      "5\n",
      "                    model  best_score  \\\n",
      "0           random_forest    0.595062   \n",
      "1  hist_gradient_boosting    0.611135   \n",
      "\n",
      "                                         best_params  \n",
      "0                               {'n_estimators': 20}  \n",
      "1  {'l2_regularization': 1.5, 'learning_rate': 0....  \n"
     ]
    }
   ],
   "source": [
    "if run_long_tasks:\n",
    "    scores, models=gridSearch(dataframe_onehot_binary, 'readmitted', search_space, metric='accuracy')\n",
    "    sc = pd.DataFrame(scores,columns=['model','best_score','best_params'])\n",
    "    print(sc)"
   ]
  },
  {
   "cell_type": "code",
   "execution_count": 37,
   "metadata": {},
   "outputs": [
    {
     "name": "stdout",
     "output_type": "stream",
     "text": [
      "Fitting 2 folds for each of 2 candidates, totalling 4 fits\n",
      "10\n",
      "Fitting 2 folds for each of 1 candidates, totalling 2 fits\n",
      "7\n",
      "                    model  best_score  \\\n",
      "0           random_forest    0.595969   \n",
      "1  hist_gradient_boosting    0.613256   \n",
      "\n",
      "                                         best_params  \n",
      "0                               {'n_estimators': 20}  \n",
      "1  {'l2_regularization': 1.5, 'learning_rate': 0....  \n"
     ]
    }
   ],
   "source": [
    "if run_long_tasks:\n",
    "    scores, models=gridSearch(dataframe_onehot_plus_binary, 'readmitted', search_space, metric='accuracy')\n",
    "    sc = pd.DataFrame(scores,columns=['model','best_score','best_params'])\n",
    "    print(sc)"
   ]
  },
  {
   "cell_type": "code",
   "execution_count": 38,
   "metadata": {},
   "outputs": [],
   "source": [
    "def randomSearch(df, target, search_space, scorings=['accuracy','f1','f1_micro','f1_macro','roc_auc_ovr','roc_auc_ovo','roc_auc','precision'], metric='f1', folds=2):\n",
    "    np.random.seed(0)\n",
    "    scores = []\n",
    "    models = []\n",
    "    for model_name, mp in search_space.items():\n",
    "        clf = RandomizedSearchCV(mp['model'], mp['params'], scoring=scorings, refit=metric, cv=folds, return_train_score=False, verbose=True,n_jobs=-1)\n",
    "        best=clf.fit(df.drop(columns=[target]).values, df[target].values)\n",
    "        models.append(best)\n",
    "        scores.append({\n",
    "            'model': model_name,\n",
    "            'best_score': clf.best_score_,\n",
    "            'best_params': clf.best_params_\n",
    "        })\n",
    "    return (scores,models)"
   ]
  },
  {
   "cell_type": "code",
   "execution_count": 39,
   "metadata": {},
   "outputs": [],
   "source": [
    "search_space2 = {\n",
    "    'random_forest': {\n",
    "        'model': RandomForestClassifier(),\n",
    "        'params': {\n",
    "            'n_estimators': [int(x) for x in np.linspace(start = 200, stop = 2000, num = 3)],\n",
    "            'max_features': ['auto', 'sqrt'],\n",
    "            'max_depth' : list([int(x) for x in np.linspace(10, 110, num = 3)]),\n",
    "            'min_samples_split': [2, 5, 10],\n",
    "            'min_samples_leaf': [1, 2, 4],\n",
    "            'bootstrap': [True, False]\n",
    "        }\n",
    "    },\n",
    "    'logistic_regression': {\n",
    "        'model': LogisticRegression(solver='liblinear', multi_class='auto'),\n",
    "        'params': {\n",
    "            'penalty': ['l1', 'l2'],\n",
    "            'C': np.logspace(-4, 4, 20),\n",
    "            'solver' : ['liblinear']\n",
    "        }\n",
    "    },\n",
    "    'hist_gradient_boosting': {\n",
    "        'model': HistGradientBoostingClassifier(),\n",
    "        'params': {\n",
    "            'max_iter': [100,1000,1200],  #1500\n",
    "            'learning_rate': [0.4],\n",
    "            'max_depth': [25, 50, 75], #75\n",
    "            'scoring': ['f1_micro'],\n",
    "            'l2_regularization': [1.5]\n",
    "        }\n",
    "    },\n",
    "    'SGD': {\n",
    "        'model': SGDClassifier(),\n",
    "        'params': {\n",
    "            'max_iter': [5, 10, 100, 1000],\n",
    "            \"loss\" : [\"hinge\", \"log\", \"squared_hinge\", \"modified_huber\"],\n",
    "            \"alpha\" : [0.0001, 0.001, 0.01, 0.1],\n",
    "            \"penalty\" : [\"l2\", \"l1\", \"none\"],\n",
    "        }\n",
    "    }\n",
    "}"
   ]
  },
  {
   "cell_type": "code",
   "execution_count": 40,
   "metadata": {},
   "outputs": [],
   "source": [
    "s=set(non_categorical_cols)\n",
    "search_space2['hist_gradient_boosting']['params']['categorical_features']=[[x=='category' for x in dataframe_label_binary.drop(columns=['readmitted']).dtypes],[]]"
   ]
  },
  {
   "cell_type": "code",
   "execution_count": 41,
   "metadata": {},
   "outputs": [],
   "source": [
    "if run_long_tasks and False:\n",
    "    scores, models=gridSearch(dataframe_label_binary, 'readmitted', search_space2, metric='accuracy')\n",
    "    sc = pd.DataFrame(scores,columns=['model','best_score','best_params'])\n",
    "    print(sc)"
   ]
  },
  {
   "cell_type": "code",
   "execution_count": 42,
   "metadata": {},
   "outputs": [],
   "source": [
    "def standardize(df,to_scale):\n",
    "    scaler = MinMaxScaler()\n",
    "    to_transform=df.drop([x for x in df.columns if x not in to_scale], axis=1)\n",
    "    scaled = pd.DataFrame(scaler.fit_transform(to_transform))\n",
    "    new_df = df.copy(deep=True)\n",
    "    for index,col in enumerate(to_scale):\n",
    "        new_df[col]=scaled[index]\n",
    "    new_df.dropna(inplace=True)\n",
    "    return new_df\n",
    "\n",
    "def normalize(df, to_scale):#\tIt is really affected by outliers.\n",
    "    scaler = StandardScaler()\n",
    "    to_transform=df.drop([x for x in df.columns if x not in to_scale], axis=1)\n",
    "    scaled = pd.DataFrame(scaler.fit_transform(to_transform))\n",
    "    new_df = df.copy(deep=True)\n",
    "    for index,col in enumerate(to_scale):\n",
    "        new_df[col]=scaled[index]\n",
    "    new_df.dropna(inplace=True)\n",
    "    return new_df"
   ]
  },
  {
   "cell_type": "code",
   "execution_count": 43,
   "metadata": {},
   "outputs": [],
   "source": [
    "dataframe_label_binary_standard=standardize(dataframe_label_binary,[x for x in non_categorical_cols if x not in ['patient_nbr','diag_1','diag_2','diag_3']])"
   ]
  },
  {
   "cell_type": "code",
   "execution_count": 44,
   "metadata": {},
   "outputs": [
    {
     "name": "stdout",
     "output_type": "stream",
     "text": [
      "Fitting 2 folds for each of 2 candidates, totalling 4 fits\n",
      "7\n",
      "Fitting 2 folds for each of 1 candidates, totalling 2 fits\n",
      "3\n",
      "                    model  best_score  \\\n",
      "0           random_forest    0.554564   \n",
      "1  hist_gradient_boosting    0.571627   \n",
      "\n",
      "                                         best_params  \n",
      "0                               {'n_estimators': 20}  \n",
      "1  {'l2_regularization': 1.5, 'learning_rate': 0....  \n"
     ]
    }
   ],
   "source": [
    "if run_long_tasks:\n",
    "    scores, models=gridSearch(dataframe_label_binary_standard, 'readmitted', search_space, metric='accuracy')\n",
    "    sc = pd.DataFrame(scores,columns=['model','best_score','best_params'])\n",
    "    print(sc)"
   ]
  },
  {
   "cell_type": "code",
   "execution_count": 45,
   "metadata": {},
   "outputs": [],
   "source": [
    "dataframe_label_binary_normal=normalize(dataframe_label_binary,[x for x in non_categorical_cols if x not in ['patient_nbr','diag_1','diag_2','diag_3']])"
   ]
  },
  {
   "cell_type": "code",
   "execution_count": 46,
   "metadata": {},
   "outputs": [
    {
     "name": "stdout",
     "output_type": "stream",
     "text": [
      "Fitting 2 folds for each of 2 candidates, totalling 4 fits\n",
      "7\n",
      "Fitting 2 folds for each of 1 candidates, totalling 2 fits\n",
      "3\n",
      "                    model  best_score  \\\n",
      "0           random_forest    0.555443   \n",
      "1  hist_gradient_boosting    0.571743   \n",
      "\n",
      "                                         best_params  \n",
      "0                               {'n_estimators': 20}  \n",
      "1  {'l2_regularization': 1.5, 'learning_rate': 0....  \n"
     ]
    }
   ],
   "source": [
    "if run_long_tasks:\n",
    "    scores, models=gridSearch(dataframe_label_binary_normal, 'readmitted', search_space, metric='accuracy')\n",
    "    sc = pd.DataFrame(scores,columns=['model','best_score','best_params'])\n",
    "    print(sc)"
   ]
  },
  {
   "attachments": {},
   "cell_type": "markdown",
   "metadata": {},
   "source": [
    "Outliers detection:"
   ]
  },
  {
   "cell_type": "code",
   "execution_count": 47,
   "metadata": {},
   "outputs": [],
   "source": [
    "from sklearn.covariance import EllipticEnvelope"
   ]
  },
  {
   "cell_type": "code",
   "execution_count": 48,
   "metadata": {},
   "outputs": [],
   "source": [
    "def remove_outliers(df, cols, factor=0.1):\n",
    "    standard=standardize(df, cols)\n",
    "    outlier_detector = EllipticEnvelope(contamination=factor)\n",
    "    outlier_detector.fit(standard)\n",
    "    outlier_array= outlier_detector.predict(standard)\n",
    "    to_drop=[]\n",
    "    for index,x in enumerate(outlier_array):\n",
    "        if x==-1:\n",
    "            to_drop.append(index)\n",
    "\n",
    "    standard.drop(standard.index[to_drop],inplace=True)\n",
    "    return standardize(standard, cols)"
   ]
  },
  {
   "cell_type": "code",
   "execution_count": 49,
   "metadata": {},
   "outputs": [
    {
     "data": {
      "text/plain": [
       "<AxesSubplot: >"
      ]
     },
     "execution_count": 49,
     "metadata": {},
     "output_type": "execute_result"
    },
    {
     "data": {
      "image/png": "[encoded data removed]",
      "text/plain": [
       "<Figure size 3000x1000 with 1 Axes>"
      ]
     },
     "metadata": {},
     "output_type": "display_data"
    }
   ],
   "source": [
    "to_plot=[x for x in non_categorical_cols if x not in ['patient_nbr','diag_1','diag_2','diag_3','weight','']]\n",
    "dataframe_label_binary.boxplot(column=to_plot, figsize=(30,10))"
   ]
  },
  {
   "cell_type": "code",
   "execution_count": 50,
   "metadata": {},
   "outputs": [
    {
     "data": {
      "text/plain": [
       "<AxesSubplot: >"
      ]
     },
     "execution_count": 50,
     "metadata": {},
     "output_type": "execute_result"
    },
    {
     "data": {
      "image/png": "[encoded data removed]",
      "text/plain": [
       "<Figure size 3000x1000 with 1 Axes>"
      ]
     },
     "metadata": {},
     "output_type": "display_data"
    }
   ],
   "source": [
    "dataframe_label_binary_normal.boxplot(column=to_plot, figsize=(30,10))"
   ]
  },
  {
   "cell_type": "code",
   "execution_count": 51,
   "metadata": {},
   "outputs": [
    {
     "name": "stderr",
     "output_type": "stream",
     "text": [
      "c:\\Users\\PC\\AppData\\Local\\Programs\\Python\\Python310\\lib\\site-packages\\sklearn\\covariance\\_robust_covariance.py:738: UserWarning: The covariance matrix associated to your dataset is not full rank\n",
      "  warnings.warn(\n"
     ]
    },
    {
     "data": {
      "image/png": "[encoded data removed]",
      "text/plain": [
       "<Figure size 3000x1000 with 1 Axes>"
      ]
     },
     "metadata": {},
     "output_type": "display_data"
    }
   ],
   "source": [
    "if run_long_tasks:\n",
    "    okrascen=remove_outliers(dataframe_label_binary,to_plot)\n",
    "    okrascen.boxplot(column=to_plot, figsize=(30,10))"
   ]
  },
  {
   "cell_type": "code",
   "execution_count": 52,
   "metadata": {},
   "outputs": [],
   "source": [
    "if run_long_tasks:  \n",
    "    okrascen.shape"
   ]
  },
  {
   "cell_type": "code",
   "execution_count": 53,
   "metadata": {},
   "outputs": [
    {
     "name": "stdout",
     "output_type": "stream",
     "text": [
      "Fitting 2 folds for each of 2 candidates, totalling 4 fits\n",
      "5\n",
      "Fitting 2 folds for each of 1 candidates, totalling 2 fits\n",
      "2\n",
      "                    model  best_score  \\\n",
      "0           random_forest    0.554546   \n",
      "1  hist_gradient_boosting    0.562215   \n",
      "\n",
      "                                         best_params  \n",
      "0                               {'n_estimators': 20}  \n",
      "1  {'l2_regularization': 1.5, 'learning_rate': 0....  \n"
     ]
    }
   ],
   "source": [
    "if run_long_tasks:\n",
    "    #s=set(non_categorical_cols)\n",
    "    #search_space2['hist_gradient_boosting']['params']['categorical_features']=[[x=='category' for x in okrascen.drop(columns=['readmitted']).dtypes],[]]\n",
    "    scores, models=gridSearch(okrascen, 'readmitted', search_space, metric='accuracy')\n",
    "    sc = pd.DataFrame(scores,columns=['model','best_score','best_params'])\n",
    "    print(sc)\n"
   ]
  },
  {
   "cell_type": "code",
   "execution_count": 54,
   "metadata": {},
   "outputs": [],
   "source": [
    "if run_long_tasks and False:\n",
    "    s=set(non_categorical_cols)\n",
    "    search_space2['hist_gradient_boosting']['params']['categorical_features']=[[x=='category' for x in dataframe_onehot_binary.drop(columns=['readmitted']).dtypes],[]]\n",
    "    scores, models=randomSearch(dataframe_onehot_binary, 'readmitted', search_space2, metric='accuracy')\n",
    "    sc = pd.DataFrame(scores,columns=['model','best_score','best_params'])\n",
    "    print(sc)"
   ]
  },
  {
   "cell_type": "code",
   "execution_count": 57,
   "metadata": {},
   "outputs": [],
   "source": [
    "if run_long_tasks and False:\n",
    "    from sklearn.metrics import RocCurveDisplay\n",
    "    fig, ax = plt.subplots()\n",
    "    model_displays = {}\n",
    "    for ind,model in enumerate(models):\n",
    "        model_displays[scores[ind]['model']] = RocCurveDisplay.from_estimator(\n",
    "            model.best_estimator_, dataframe_onehot_binary.drop('readmitted',axis=1).values, dataframe_onehot_binary['readmitted'], ax=ax, name=scores[ind]['model']\n",
    "        )\n",
    "    _ = ax.set_title(\"ROC curve\")"
   ]
  },
  {
   "cell_type": "code",
   "execution_count": 58,
   "metadata": {},
   "outputs": [],
   "source": [
    "# forest=models[0].best_estimator_\n",
    "# importances = forest.feature_importances_\n",
    "# std = np.std([tree.feature_importances_ for tree in forest.estimators_], axis=0)\n",
    "# forest_importances = pd.Series(importances, index=dataframe_label_binary_standard.drop('readmitted', axis=1).columns)\n",
    "\n",
    "# fig, ax = plt.subplots()\n",
    "# forest_importances.plot.bar(yerr=std, ax=ax)\n",
    "# ax.set_title(\"Feature importances using MDI\")\n",
    "# ax.set_ylabel(\"Mean decrease in impurity\")\n",
    "# fig.tight_layout()"
   ]
  },
  {
   "cell_type": "code",
   "execution_count": 59,
   "metadata": {},
   "outputs": [
    {
     "data": {
      "text/html": [
       "<div>\n",
       "<style scoped>\n",
       "    .dataframe tbody tr th:only-of-type {\n",
       "        vertical-align: middle;\n",
       "    }\n",
       "\n",
       "    .dataframe tbody tr th {\n",
       "        vertical-align: top;\n",
       "    }\n",
       "\n",
       "    .dataframe thead th {\n",
       "        text-align: right;\n",
       "    }\n",
       "</style>\n",
       "<table border=\"1\" class=\"dataframe\">\n",
       "  <thead>\n",
       "    <tr style=\"text-align: right;\">\n",
       "      <th></th>\n",
       "      <th>patient_nbr</th>\n",
       "      <th>gender</th>\n",
       "      <th>age</th>\n",
       "      <th>weight</th>\n",
       "      <th>admission_type_id</th>\n",
       "      <th>discharge_disposition_id</th>\n",
       "      <th>admission_source_id</th>\n",
       "      <th>time_in_hospital</th>\n",
       "      <th>payer_code</th>\n",
       "      <th>medical_specialty</th>\n",
       "      <th>num_lab_procedures</th>\n",
       "      <th>num_procedures</th>\n",
       "      <th>num_medications</th>\n",
       "      <th>number_outpatient</th>\n",
       "      <th>number_emergency</th>\n",
       "      <th>number_inpatient</th>\n",
       "      <th>diag_1</th>\n",
       "      <th>diag_2</th>\n",
       "      <th>diag_3</th>\n",
       "      <th>number_diagnoses</th>\n",
       "      <th>max_glu_serum</th>\n",
       "      <th>A1Cresult</th>\n",
       "      <th>metformin</th>\n",
       "      <th>repaglinide</th>\n",
       "      <th>nateglinide</th>\n",
       "      <th>chlorpropamide</th>\n",
       "      <th>glimepiride</th>\n",
       "      <th>acetohexamide</th>\n",
       "      <th>glipizide</th>\n",
       "      <th>glyburide</th>\n",
       "      <th>tolbutamide</th>\n",
       "      <th>pioglitazone</th>\n",
       "      <th>rosiglitazone</th>\n",
       "      <th>acarbose</th>\n",
       "      <th>miglitol</th>\n",
       "      <th>troglitazone</th>\n",
       "      <th>tolazamide</th>\n",
       "      <th>insulin</th>\n",
       "      <th>glyburide-metformin</th>\n",
       "      <th>glipizide-metformin</th>\n",
       "      <th>glimepiride-pioglitazone</th>\n",
       "      <th>metformin-pioglitazone</th>\n",
       "      <th>change</th>\n",
       "      <th>diabetesMed</th>\n",
       "      <th>readmitted</th>\n",
       "      <th>diag_1_class(Blood)</th>\n",
       "      <th>diag_1_class(Cause)</th>\n",
       "      <th>diag_1_class(Circulatory System)</th>\n",
       "      <th>diag_1_class(Congenital)</th>\n",
       "      <th>diag_1_class(Digestive System)</th>\n",
       "      <th>diag_1_class(Genitourinary System)</th>\n",
       "      <th>diag_1_class(Ill Defined)</th>\n",
       "      <th>diag_1_class(Infectious and Parasitic)</th>\n",
       "      <th>diag_1_class(Injury)</th>\n",
       "      <th>diag_1_class(Mental)</th>\n",
       "      <th>diag_1_class(Metabolic)</th>\n",
       "      <th>diag_1_class(Musculoskeletal)</th>\n",
       "      <th>diag_1_class(Neoplasms)</th>\n",
       "      <th>diag_1_class(Nervous System)</th>\n",
       "      <th>diag_1_class(Pregnancy)</th>\n",
       "      <th>diag_1_class(Respiratory System)</th>\n",
       "      <th>diag_1_class(Skin)</th>\n",
       "      <th>diag_1_class(Status)</th>\n",
       "      <th>diag_2_class(Blood)</th>\n",
       "      <th>diag_2_class(Cause)</th>\n",
       "      <th>diag_2_class(Circulatory System)</th>\n",
       "      <th>diag_2_class(Congenital)</th>\n",
       "      <th>diag_2_class(Digestive System)</th>\n",
       "      <th>diag_2_class(Genitourinary System)</th>\n",
       "      <th>diag_2_class(Ill Defined)</th>\n",
       "      <th>diag_2_class(Infectious and Parasitic)</th>\n",
       "      <th>diag_2_class(Injury)</th>\n",
       "      <th>diag_2_class(Mental)</th>\n",
       "      <th>diag_2_class(Metabolic)</th>\n",
       "      <th>diag_2_class(Musculoskeletal)</th>\n",
       "      <th>diag_2_class(Neoplasms)</th>\n",
       "      <th>diag_2_class(Nervous System)</th>\n",
       "      <th>diag_2_class(Pregnancy)</th>\n",
       "      <th>diag_2_class(Respiratory System)</th>\n",
       "      <th>diag_2_class(Skin)</th>\n",
       "      <th>diag_2_class(Status)</th>\n",
       "      <th>diag_3_class(Blood)</th>\n",
       "      <th>diag_3_class(Cause)</th>\n",
       "      <th>diag_3_class(Circulatory System)</th>\n",
       "      <th>diag_3_class(Congenital)</th>\n",
       "      <th>diag_3_class(Digestive System)</th>\n",
       "      <th>diag_3_class(Genitourinary System)</th>\n",
       "      <th>diag_3_class(Ill Defined)</th>\n",
       "      <th>diag_3_class(Infectious and Parasitic)</th>\n",
       "      <th>diag_3_class(Injury)</th>\n",
       "      <th>diag_3_class(Mental)</th>\n",
       "      <th>diag_3_class(Metabolic)</th>\n",
       "      <th>diag_3_class(Musculoskeletal)</th>\n",
       "      <th>diag_3_class(Neoplasms)</th>\n",
       "      <th>diag_3_class(Nervous System)</th>\n",
       "      <th>diag_3_class(Pregnancy)</th>\n",
       "      <th>diag_3_class(Respiratory System)</th>\n",
       "      <th>diag_3_class(Skin)</th>\n",
       "      <th>diag_3_class(Status)</th>\n",
       "      <th>race(AfricanAmerican)</th>\n",
       "      <th>race(Asian)</th>\n",
       "      <th>race(Caucasian)</th>\n",
       "      <th>race(Hispanic)</th>\n",
       "      <th>race(Other)</th>\n",
       "    </tr>\n",
       "  </thead>\n",
       "  <tbody>\n",
       "    <tr>\n",
       "      <th>0</th>\n",
       "      <td>55629189</td>\n",
       "      <td>0</td>\n",
       "      <td>1</td>\n",
       "      <td>3</td>\n",
       "      <td>1</td>\n",
       "      <td>1</td>\n",
       "      <td>7</td>\n",
       "      <td>3</td>\n",
       "      <td>15</td>\n",
       "      <td>71</td>\n",
       "      <td>59</td>\n",
       "      <td>0</td>\n",
       "      <td>18</td>\n",
       "      <td>0</td>\n",
       "      <td>0</td>\n",
       "      <td>0</td>\n",
       "      <td>143</td>\n",
       "      <td>77</td>\n",
       "      <td>121</td>\n",
       "      <td>9</td>\n",
       "      <td>0</td>\n",
       "      <td>0</td>\n",
       "      <td>1</td>\n",
       "      <td>1</td>\n",
       "      <td>1</td>\n",
       "      <td>1</td>\n",
       "      <td>1</td>\n",
       "      <td>0</td>\n",
       "      <td>1</td>\n",
       "      <td>1</td>\n",
       "      <td>0</td>\n",
       "      <td>1</td>\n",
       "      <td>1</td>\n",
       "      <td>1</td>\n",
       "      <td>1</td>\n",
       "      <td>0</td>\n",
       "      <td>0</td>\n",
       "      <td>3</td>\n",
       "      <td>1</td>\n",
       "      <td>0</td>\n",
       "      <td>0</td>\n",
       "      <td>0</td>\n",
       "      <td>0</td>\n",
       "      <td>1</td>\n",
       "      <td>1</td>\n",
       "      <td>0</td>\n",
       "      <td>0</td>\n",
       "      <td>0</td>\n",
       "      <td>0</td>\n",
       "      <td>0</td>\n",
       "      <td>0</td>\n",
       "      <td>0</td>\n",
       "      <td>0</td>\n",
       "      <td>0</td>\n",
       "      <td>0</td>\n",
       "      <td>1</td>\n",
       "      <td>0</td>\n",
       "      <td>0</td>\n",
       "      <td>0</td>\n",
       "      <td>0</td>\n",
       "      <td>0</td>\n",
       "      <td>0</td>\n",
       "      <td>0</td>\n",
       "      <td>0</td>\n",
       "      <td>0</td>\n",
       "      <td>0</td>\n",
       "      <td>0</td>\n",
       "      <td>0</td>\n",
       "      <td>0</td>\n",
       "      <td>0</td>\n",
       "      <td>0</td>\n",
       "      <td>0</td>\n",
       "      <td>0</td>\n",
       "      <td>1</td>\n",
       "      <td>0</td>\n",
       "      <td>0</td>\n",
       "      <td>0</td>\n",
       "      <td>0</td>\n",
       "      <td>0</td>\n",
       "      <td>0</td>\n",
       "      <td>0</td>\n",
       "      <td>0</td>\n",
       "      <td>0</td>\n",
       "      <td>0</td>\n",
       "      <td>0</td>\n",
       "      <td>0</td>\n",
       "      <td>0</td>\n",
       "      <td>0</td>\n",
       "      <td>0</td>\n",
       "      <td>0</td>\n",
       "      <td>0</td>\n",
       "      <td>1</td>\n",
       "      <td>0</td>\n",
       "      <td>0</td>\n",
       "      <td>0</td>\n",
       "      <td>0</td>\n",
       "      <td>0</td>\n",
       "      <td>0</td>\n",
       "      <td>0</td>\n",
       "      <td>0</td>\n",
       "      <td>0</td>\n",
       "      <td>1</td>\n",
       "      <td>0</td>\n",
       "      <td>0</td>\n",
       "    </tr>\n",
       "    <tr>\n",
       "      <th>1</th>\n",
       "      <td>86047875</td>\n",
       "      <td>0</td>\n",
       "      <td>2</td>\n",
       "      <td>3</td>\n",
       "      <td>1</td>\n",
       "      <td>1</td>\n",
       "      <td>7</td>\n",
       "      <td>2</td>\n",
       "      <td>15</td>\n",
       "      <td>71</td>\n",
       "      <td>11</td>\n",
       "      <td>5</td>\n",
       "      <td>13</td>\n",
       "      <td>2</td>\n",
       "      <td>0</td>\n",
       "      <td>1</td>\n",
       "      <td>454</td>\n",
       "      <td>76</td>\n",
       "      <td>763</td>\n",
       "      <td>6</td>\n",
       "      <td>0</td>\n",
       "      <td>0</td>\n",
       "      <td>1</td>\n",
       "      <td>1</td>\n",
       "      <td>1</td>\n",
       "      <td>1</td>\n",
       "      <td>1</td>\n",
       "      <td>0</td>\n",
       "      <td>2</td>\n",
       "      <td>1</td>\n",
       "      <td>0</td>\n",
       "      <td>1</td>\n",
       "      <td>1</td>\n",
       "      <td>1</td>\n",
       "      <td>1</td>\n",
       "      <td>0</td>\n",
       "      <td>0</td>\n",
       "      <td>1</td>\n",
       "      <td>1</td>\n",
       "      <td>0</td>\n",
       "      <td>0</td>\n",
       "      <td>0</td>\n",
       "      <td>1</td>\n",
       "      <td>1</td>\n",
       "      <td>0</td>\n",
       "      <td>0</td>\n",
       "      <td>0</td>\n",
       "      <td>0</td>\n",
       "      <td>0</td>\n",
       "      <td>0</td>\n",
       "      <td>0</td>\n",
       "      <td>0</td>\n",
       "      <td>0</td>\n",
       "      <td>0</td>\n",
       "      <td>0</td>\n",
       "      <td>0</td>\n",
       "      <td>0</td>\n",
       "      <td>0</td>\n",
       "      <td>0</td>\n",
       "      <td>1</td>\n",
       "      <td>0</td>\n",
       "      <td>0</td>\n",
       "      <td>0</td>\n",
       "      <td>0</td>\n",
       "      <td>0</td>\n",
       "      <td>0</td>\n",
       "      <td>0</td>\n",
       "      <td>0</td>\n",
       "      <td>0</td>\n",
       "      <td>0</td>\n",
       "      <td>0</td>\n",
       "      <td>0</td>\n",
       "      <td>0</td>\n",
       "      <td>1</td>\n",
       "      <td>0</td>\n",
       "      <td>0</td>\n",
       "      <td>0</td>\n",
       "      <td>0</td>\n",
       "      <td>0</td>\n",
       "      <td>0</td>\n",
       "      <td>0</td>\n",
       "      <td>0</td>\n",
       "      <td>0</td>\n",
       "      <td>0</td>\n",
       "      <td>0</td>\n",
       "      <td>0</td>\n",
       "      <td>0</td>\n",
       "      <td>0</td>\n",
       "      <td>0</td>\n",
       "      <td>0</td>\n",
       "      <td>0</td>\n",
       "      <td>0</td>\n",
       "      <td>0</td>\n",
       "      <td>0</td>\n",
       "      <td>0</td>\n",
       "      <td>0</td>\n",
       "      <td>0</td>\n",
       "      <td>0</td>\n",
       "      <td>1</td>\n",
       "      <td>1</td>\n",
       "      <td>0</td>\n",
       "      <td>0</td>\n",
       "      <td>0</td>\n",
       "      <td>0</td>\n",
       "    </tr>\n",
       "    <tr>\n",
       "      <th>2</th>\n",
       "      <td>82442376</td>\n",
       "      <td>1</td>\n",
       "      <td>3</td>\n",
       "      <td>3</td>\n",
       "      <td>1</td>\n",
       "      <td>1</td>\n",
       "      <td>7</td>\n",
       "      <td>2</td>\n",
       "      <td>15</td>\n",
       "      <td>71</td>\n",
       "      <td>44</td>\n",
       "      <td>1</td>\n",
       "      <td>16</td>\n",
       "      <td>0</td>\n",
       "      <td>0</td>\n",
       "      <td>0</td>\n",
       "      <td>553</td>\n",
       "      <td>95</td>\n",
       "      <td>248</td>\n",
       "      <td>7</td>\n",
       "      <td>0</td>\n",
       "      <td>0</td>\n",
       "      <td>1</td>\n",
       "      <td>1</td>\n",
       "      <td>1</td>\n",
       "      <td>1</td>\n",
       "      <td>1</td>\n",
       "      <td>0</td>\n",
       "      <td>1</td>\n",
       "      <td>1</td>\n",
       "      <td>0</td>\n",
       "      <td>1</td>\n",
       "      <td>1</td>\n",
       "      <td>1</td>\n",
       "      <td>1</td>\n",
       "      <td>0</td>\n",
       "      <td>0</td>\n",
       "      <td>3</td>\n",
       "      <td>1</td>\n",
       "      <td>0</td>\n",
       "      <td>0</td>\n",
       "      <td>0</td>\n",
       "      <td>0</td>\n",
       "      <td>1</td>\n",
       "      <td>0</td>\n",
       "      <td>0</td>\n",
       "      <td>0</td>\n",
       "      <td>0</td>\n",
       "      <td>0</td>\n",
       "      <td>0</td>\n",
       "      <td>0</td>\n",
       "      <td>0</td>\n",
       "      <td>1</td>\n",
       "      <td>0</td>\n",
       "      <td>0</td>\n",
       "      <td>0</td>\n",
       "      <td>0</td>\n",
       "      <td>0</td>\n",
       "      <td>0</td>\n",
       "      <td>0</td>\n",
       "      <td>0</td>\n",
       "      <td>0</td>\n",
       "      <td>0</td>\n",
       "      <td>0</td>\n",
       "      <td>0</td>\n",
       "      <td>0</td>\n",
       "      <td>0</td>\n",
       "      <td>0</td>\n",
       "      <td>0</td>\n",
       "      <td>0</td>\n",
       "      <td>0</td>\n",
       "      <td>0</td>\n",
       "      <td>0</td>\n",
       "      <td>1</td>\n",
       "      <td>0</td>\n",
       "      <td>0</td>\n",
       "      <td>0</td>\n",
       "      <td>0</td>\n",
       "      <td>0</td>\n",
       "      <td>0</td>\n",
       "      <td>0</td>\n",
       "      <td>0</td>\n",
       "      <td>0</td>\n",
       "      <td>1</td>\n",
       "      <td>0</td>\n",
       "      <td>0</td>\n",
       "      <td>0</td>\n",
       "      <td>0</td>\n",
       "      <td>0</td>\n",
       "      <td>0</td>\n",
       "      <td>0</td>\n",
       "      <td>0</td>\n",
       "      <td>0</td>\n",
       "      <td>0</td>\n",
       "      <td>0</td>\n",
       "      <td>0</td>\n",
       "      <td>0</td>\n",
       "      <td>0</td>\n",
       "      <td>0</td>\n",
       "      <td>0</td>\n",
       "      <td>0</td>\n",
       "      <td>1</td>\n",
       "      <td>0</td>\n",
       "      <td>0</td>\n",
       "    </tr>\n",
       "    <tr>\n",
       "      <th>3</th>\n",
       "      <td>42519267</td>\n",
       "      <td>1</td>\n",
       "      <td>4</td>\n",
       "      <td>3</td>\n",
       "      <td>1</td>\n",
       "      <td>1</td>\n",
       "      <td>7</td>\n",
       "      <td>1</td>\n",
       "      <td>15</td>\n",
       "      <td>71</td>\n",
       "      <td>51</td>\n",
       "      <td>0</td>\n",
       "      <td>8</td>\n",
       "      <td>0</td>\n",
       "      <td>0</td>\n",
       "      <td>0</td>\n",
       "      <td>54</td>\n",
       "      <td>23</td>\n",
       "      <td>86</td>\n",
       "      <td>5</td>\n",
       "      <td>0</td>\n",
       "      <td>0</td>\n",
       "      <td>1</td>\n",
       "      <td>1</td>\n",
       "      <td>1</td>\n",
       "      <td>1</td>\n",
       "      <td>1</td>\n",
       "      <td>0</td>\n",
       "      <td>2</td>\n",
       "      <td>1</td>\n",
       "      <td>0</td>\n",
       "      <td>1</td>\n",
       "      <td>1</td>\n",
       "      <td>1</td>\n",
       "      <td>1</td>\n",
       "      <td>0</td>\n",
       "      <td>0</td>\n",
       "      <td>2</td>\n",
       "      <td>1</td>\n",
       "      <td>0</td>\n",
       "      <td>0</td>\n",
       "      <td>0</td>\n",
       "      <td>0</td>\n",
       "      <td>1</td>\n",
       "      <td>0</td>\n",
       "      <td>0</td>\n",
       "      <td>0</td>\n",
       "      <td>0</td>\n",
       "      <td>0</td>\n",
       "      <td>0</td>\n",
       "      <td>0</td>\n",
       "      <td>0</td>\n",
       "      <td>0</td>\n",
       "      <td>0</td>\n",
       "      <td>0</td>\n",
       "      <td>0</td>\n",
       "      <td>0</td>\n",
       "      <td>1</td>\n",
       "      <td>0</td>\n",
       "      <td>0</td>\n",
       "      <td>0</td>\n",
       "      <td>0</td>\n",
       "      <td>0</td>\n",
       "      <td>0</td>\n",
       "      <td>0</td>\n",
       "      <td>0</td>\n",
       "      <td>0</td>\n",
       "      <td>0</td>\n",
       "      <td>0</td>\n",
       "      <td>0</td>\n",
       "      <td>0</td>\n",
       "      <td>0</td>\n",
       "      <td>0</td>\n",
       "      <td>0</td>\n",
       "      <td>0</td>\n",
       "      <td>1</td>\n",
       "      <td>0</td>\n",
       "      <td>0</td>\n",
       "      <td>0</td>\n",
       "      <td>0</td>\n",
       "      <td>0</td>\n",
       "      <td>0</td>\n",
       "      <td>0</td>\n",
       "      <td>0</td>\n",
       "      <td>0</td>\n",
       "      <td>0</td>\n",
       "      <td>0</td>\n",
       "      <td>0</td>\n",
       "      <td>0</td>\n",
       "      <td>0</td>\n",
       "      <td>0</td>\n",
       "      <td>1</td>\n",
       "      <td>0</td>\n",
       "      <td>0</td>\n",
       "      <td>0</td>\n",
       "      <td>0</td>\n",
       "      <td>0</td>\n",
       "      <td>0</td>\n",
       "      <td>0</td>\n",
       "      <td>0</td>\n",
       "      <td>0</td>\n",
       "      <td>1</td>\n",
       "      <td>0</td>\n",
       "      <td>0</td>\n",
       "    </tr>\n",
       "    <tr>\n",
       "      <th>4</th>\n",
       "      <td>82637451</td>\n",
       "      <td>1</td>\n",
       "      <td>5</td>\n",
       "      <td>3</td>\n",
       "      <td>2</td>\n",
       "      <td>1</td>\n",
       "      <td>2</td>\n",
       "      <td>3</td>\n",
       "      <td>15</td>\n",
       "      <td>71</td>\n",
       "      <td>31</td>\n",
       "      <td>6</td>\n",
       "      <td>16</td>\n",
       "      <td>0</td>\n",
       "      <td>0</td>\n",
       "      <td>0</td>\n",
       "      <td>263</td>\n",
       "      <td>244</td>\n",
       "      <td>86</td>\n",
       "      <td>9</td>\n",
       "      <td>0</td>\n",
       "      <td>0</td>\n",
       "      <td>1</td>\n",
       "      <td>1</td>\n",
       "      <td>1</td>\n",
       "      <td>1</td>\n",
       "      <td>1</td>\n",
       "      <td>0</td>\n",
       "      <td>1</td>\n",
       "      <td>1</td>\n",
       "      <td>0</td>\n",
       "      <td>1</td>\n",
       "      <td>1</td>\n",
       "      <td>1</td>\n",
       "      <td>1</td>\n",
       "      <td>0</td>\n",
       "      <td>0</td>\n",
       "      <td>2</td>\n",
       "      <td>1</td>\n",
       "      <td>0</td>\n",
       "      <td>0</td>\n",
       "      <td>0</td>\n",
       "      <td>1</td>\n",
       "      <td>1</td>\n",
       "      <td>1</td>\n",
       "      <td>0</td>\n",
       "      <td>0</td>\n",
       "      <td>1</td>\n",
       "      <td>0</td>\n",
       "      <td>0</td>\n",
       "      <td>0</td>\n",
       "      <td>0</td>\n",
       "      <td>0</td>\n",
       "      <td>0</td>\n",
       "      <td>0</td>\n",
       "      <td>0</td>\n",
       "      <td>0</td>\n",
       "      <td>0</td>\n",
       "      <td>0</td>\n",
       "      <td>0</td>\n",
       "      <td>0</td>\n",
       "      <td>0</td>\n",
       "      <td>0</td>\n",
       "      <td>0</td>\n",
       "      <td>0</td>\n",
       "      <td>1</td>\n",
       "      <td>0</td>\n",
       "      <td>0</td>\n",
       "      <td>0</td>\n",
       "      <td>0</td>\n",
       "      <td>0</td>\n",
       "      <td>0</td>\n",
       "      <td>0</td>\n",
       "      <td>0</td>\n",
       "      <td>0</td>\n",
       "      <td>0</td>\n",
       "      <td>0</td>\n",
       "      <td>0</td>\n",
       "      <td>0</td>\n",
       "      <td>0</td>\n",
       "      <td>0</td>\n",
       "      <td>0</td>\n",
       "      <td>0</td>\n",
       "      <td>0</td>\n",
       "      <td>0</td>\n",
       "      <td>0</td>\n",
       "      <td>0</td>\n",
       "      <td>0</td>\n",
       "      <td>0</td>\n",
       "      <td>0</td>\n",
       "      <td>0</td>\n",
       "      <td>1</td>\n",
       "      <td>0</td>\n",
       "      <td>0</td>\n",
       "      <td>0</td>\n",
       "      <td>0</td>\n",
       "      <td>0</td>\n",
       "      <td>0</td>\n",
       "      <td>0</td>\n",
       "      <td>0</td>\n",
       "      <td>0</td>\n",
       "      <td>1</td>\n",
       "      <td>0</td>\n",
       "      <td>0</td>\n",
       "    </tr>\n",
       "  </tbody>\n",
       "</table>\n",
       "</div>"
      ],
      "text/plain": [
       "   patient_nbr gender  age  weight admission_type_id discharge_disposition_id  \\\n",
       "0     55629189      0    1       3                 1                        1   \n",
       "1     86047875      0    2       3                 1                        1   \n",
       "2     82442376      1    3       3                 1                        1   \n",
       "3     42519267      1    4       3                 1                        1   \n",
       "4     82637451      1    5       3                 2                        1   \n",
       "\n",
       "  admission_source_id  time_in_hospital payer_code medical_specialty  \\\n",
       "0                   7                 3         15                71   \n",
       "1                   7                 2         15                71   \n",
       "2                   7                 2         15                71   \n",
       "3                   7                 1         15                71   \n",
       "4                   2                 3         15                71   \n",
       "\n",
       "   num_lab_procedures  num_procedures  num_medications  number_outpatient  \\\n",
       "0                  59               0               18                  0   \n",
       "1                  11               5               13                  2   \n",
       "2                  44               1               16                  0   \n",
       "3                  51               0                8                  0   \n",
       "4                  31               6               16                  0   \n",
       "\n",
       "   number_emergency  number_inpatient  diag_1  diag_2  diag_3  \\\n",
       "0                 0                 0     143      77     121   \n",
       "1                 0                 1     454      76     763   \n",
       "2                 0                 0     553      95     248   \n",
       "3                 0                 0      54      23      86   \n",
       "4                 0                 0     263     244      86   \n",
       "\n",
       "   number_diagnoses max_glu_serum A1Cresult metformin repaglinide nateglinide  \\\n",
       "0                 9             0         0         1           1           1   \n",
       "1                 6             0         0         1           1           1   \n",
       "2                 7             0         0         1           1           1   \n",
       "3                 5             0         0         1           1           1   \n",
       "4                 9             0         0         1           1           1   \n",
       "\n",
       "  chlorpropamide glimepiride acetohexamide glipizide glyburide tolbutamide  \\\n",
       "0              1           1             0         1         1           0   \n",
       "1              1           1             0         2         1           0   \n",
       "2              1           1             0         1         1           0   \n",
       "3              1           1             0         2         1           0   \n",
       "4              1           1             0         1         1           0   \n",
       "\n",
       "  pioglitazone rosiglitazone acarbose miglitol troglitazone tolazamide  \\\n",
       "0            1             1        1        1            0          0   \n",
       "1            1             1        1        1            0          0   \n",
       "2            1             1        1        1            0          0   \n",
       "3            1             1        1        1            0          0   \n",
       "4            1             1        1        1            0          0   \n",
       "\n",
       "  insulin glyburide-metformin glipizide-metformin glimepiride-pioglitazone  \\\n",
       "0       3                   1                   0                        0   \n",
       "1       1                   1                   0                        0   \n",
       "2       3                   1                   0                        0   \n",
       "3       2                   1                   0                        0   \n",
       "4       2                   1                   0                        0   \n",
       "\n",
       "  metformin-pioglitazone change diabetesMed readmitted diag_1_class(Blood)  \\\n",
       "0                      0      0           1          1                   0   \n",
       "1                      0      1           1          0                   0   \n",
       "2                      0      0           1          0                   0   \n",
       "3                      0      0           1          0                   0   \n",
       "4                      0      1           1          1                   0   \n",
       "\n",
       "  diag_1_class(Cause) diag_1_class(Circulatory System)  \\\n",
       "0                   0                                0   \n",
       "1                   0                                0   \n",
       "2                   0                                0   \n",
       "3                   0                                0   \n",
       "4                   0                                1   \n",
       "\n",
       "  diag_1_class(Congenital) diag_1_class(Digestive System)  \\\n",
       "0                        0                              0   \n",
       "1                        0                              0   \n",
       "2                        0                              0   \n",
       "3                        0                              0   \n",
       "4                        0                              0   \n",
       "\n",
       "  diag_1_class(Genitourinary System) diag_1_class(Ill Defined)  \\\n",
       "0                                  0                         0   \n",
       "1                                  0                         0   \n",
       "2                                  0                         0   \n",
       "3                                  0                         0   \n",
       "4                                  0                         0   \n",
       "\n",
       "  diag_1_class(Infectious and Parasitic) diag_1_class(Injury)  \\\n",
       "0                                      0                    0   \n",
       "1                                      0                    0   \n",
       "2                                      1                    0   \n",
       "3                                      0                    0   \n",
       "4                                      0                    0   \n",
       "\n",
       "  diag_1_class(Mental) diag_1_class(Metabolic) diag_1_class(Musculoskeletal)  \\\n",
       "0                    0                       1                             0   \n",
       "1                    0                       0                             0   \n",
       "2                    0                       0                             0   \n",
       "3                    0                       0                             0   \n",
       "4                    0                       0                             0   \n",
       "\n",
       "  diag_1_class(Neoplasms) diag_1_class(Nervous System)  \\\n",
       "0                       0                            0   \n",
       "1                       0                            0   \n",
       "2                       0                            0   \n",
       "3                       1                            0   \n",
       "4                       0                            0   \n",
       "\n",
       "  diag_1_class(Pregnancy) diag_1_class(Respiratory System) diag_1_class(Skin)  \\\n",
       "0                       0                                0                  0   \n",
       "1                       1                                0                  0   \n",
       "2                       0                                0                  0   \n",
       "3                       0                                0                  0   \n",
       "4                       0                                0                  0   \n",
       "\n",
       "  diag_1_class(Status) diag_2_class(Blood) diag_2_class(Cause)  \\\n",
       "0                    0                   0                   0   \n",
       "1                    0                   0                   0   \n",
       "2                    0                   0                   0   \n",
       "3                    0                   0                   0   \n",
       "4                    0                   0                   0   \n",
       "\n",
       "  diag_2_class(Circulatory System) diag_2_class(Congenital)  \\\n",
       "0                                0                        0   \n",
       "1                                0                        0   \n",
       "2                                0                        0   \n",
       "3                                0                        0   \n",
       "4                                1                        0   \n",
       "\n",
       "  diag_2_class(Digestive System) diag_2_class(Genitourinary System)  \\\n",
       "0                              0                                  0   \n",
       "1                              0                                  0   \n",
       "2                              0                                  0   \n",
       "3                              0                                  0   \n",
       "4                              0                                  0   \n",
       "\n",
       "  diag_2_class(Ill Defined) diag_2_class(Infectious and Parasitic)  \\\n",
       "0                         0                                      0   \n",
       "1                         0                                      0   \n",
       "2                         0                                      0   \n",
       "3                         0                                      0   \n",
       "4                         0                                      0   \n",
       "\n",
       "  diag_2_class(Injury) diag_2_class(Mental) diag_2_class(Metabolic)  \\\n",
       "0                    0                    0                       1   \n",
       "1                    0                    0                       1   \n",
       "2                    0                    0                       1   \n",
       "3                    0                    0                       0   \n",
       "4                    0                    0                       0   \n",
       "\n",
       "  diag_2_class(Musculoskeletal) diag_2_class(Neoplasms)  \\\n",
       "0                             0                       0   \n",
       "1                             0                       0   \n",
       "2                             0                       0   \n",
       "3                             0                       1   \n",
       "4                             0                       0   \n",
       "\n",
       "  diag_2_class(Nervous System) diag_2_class(Pregnancy)  \\\n",
       "0                            0                       0   \n",
       "1                            0                       0   \n",
       "2                            0                       0   \n",
       "3                            0                       0   \n",
       "4                            0                       0   \n",
       "\n",
       "  diag_2_class(Respiratory System) diag_2_class(Skin) diag_2_class(Status)  \\\n",
       "0                                0                  0                    0   \n",
       "1                                0                  0                    0   \n",
       "2                                0                  0                    0   \n",
       "3                                0                  0                    0   \n",
       "4                                0                  0                    0   \n",
       "\n",
       "  diag_3_class(Blood) diag_3_class(Cause) diag_3_class(Circulatory System)  \\\n",
       "0                   0                   0                                0   \n",
       "1                   0                   0                                0   \n",
       "2                   0                   0                                1   \n",
       "3                   0                   0                                0   \n",
       "4                   0                   0                                0   \n",
       "\n",
       "  diag_3_class(Congenital) diag_3_class(Digestive System)  \\\n",
       "0                        0                              0   \n",
       "1                        0                              0   \n",
       "2                        0                              0   \n",
       "3                        0                              0   \n",
       "4                        0                              0   \n",
       "\n",
       "  diag_3_class(Genitourinary System) diag_3_class(Ill Defined)  \\\n",
       "0                                  0                         0   \n",
       "1                                  0                         0   \n",
       "2                                  0                         0   \n",
       "3                                  0                         0   \n",
       "4                                  0                         0   \n",
       "\n",
       "  diag_3_class(Infectious and Parasitic) diag_3_class(Injury)  \\\n",
       "0                                      0                    0   \n",
       "1                                      0                    0   \n",
       "2                                      0                    0   \n",
       "3                                      0                    0   \n",
       "4                                      0                    0   \n",
       "\n",
       "  diag_3_class(Mental) diag_3_class(Metabolic) diag_3_class(Musculoskeletal)  \\\n",
       "0                    0                       1                             0   \n",
       "1                    0                       0                             0   \n",
       "2                    0                       0                             0   \n",
       "3                    0                       1                             0   \n",
       "4                    0                       1                             0   \n",
       "\n",
       "  diag_3_class(Neoplasms) diag_3_class(Nervous System)  \\\n",
       "0                       0                            0   \n",
       "1                       0                            0   \n",
       "2                       0                            0   \n",
       "3                       0                            0   \n",
       "4                       0                            0   \n",
       "\n",
       "  diag_3_class(Pregnancy) diag_3_class(Respiratory System) diag_3_class(Skin)  \\\n",
       "0                       0                                0                  0   \n",
       "1                       0                                0                  0   \n",
       "2                       0                                0                  0   \n",
       "3                       0                                0                  0   \n",
       "4                       0                                0                  0   \n",
       "\n",
       "  diag_3_class(Status) race(AfricanAmerican) race(Asian) race(Caucasian)  \\\n",
       "0                    0                     0           0               1   \n",
       "1                    1                     1           0               0   \n",
       "2                    0                     0           0               1   \n",
       "3                    0                     0           0               1   \n",
       "4                    0                     0           0               1   \n",
       "\n",
       "  race(Hispanic) race(Other)  \n",
       "0              0           0  \n",
       "1              0           0  \n",
       "2              0           0  \n",
       "3              0           0  \n",
       "4              0           0  "
      ]
     },
     "execution_count": 59,
     "metadata": {},
     "output_type": "execute_result"
    }
   ],
   "source": [
    "dataframe_onehot_binary.head()"
   ]
  },
  {
   "cell_type": "code",
   "execution_count": 60,
   "metadata": {},
   "outputs": [
    {
     "name": "stderr",
     "output_type": "stream",
     "text": [
      "c:\\Users\\PC\\AppData\\Local\\Programs\\Python\\Python310\\lib\\site-packages\\sklearn\\model_selection\\_search.py:306: UserWarning: The total space of parameters 2 is smaller than n_iter=10. Running 2 iterations. For exhaustive searches, use GridSearchCV.\n",
      "  warnings.warn(\n"
     ]
    },
    {
     "name": "stdout",
     "output_type": "stream",
     "text": [
      "Fitting 2 folds for each of 2 candidates, totalling 4 fits\n"
     ]
    },
    {
     "name": "stderr",
     "output_type": "stream",
     "text": [
      "c:\\Users\\PC\\AppData\\Local\\Programs\\Python\\Python310\\lib\\site-packages\\sklearn\\model_selection\\_search.py:306: UserWarning: The total space of parameters 1 is smaller than n_iter=10. Running 1 iterations. For exhaustive searches, use GridSearchCV.\n",
      "  warnings.warn(\n"
     ]
    },
    {
     "name": "stdout",
     "output_type": "stream",
     "text": [
      "Fitting 2 folds for each of 1 candidates, totalling 2 fits\n",
      "                    model  best_score  \\\n",
      "0           random_forest    0.546139   \n",
      "1  hist_gradient_boosting    0.564915   \n",
      "\n",
      "                                         best_params  \n",
      "0                               {'n_estimators': 20}  \n",
      "1  {'max_iter': 100, 'max_depth': 50, 'learning_r...  \n"
     ]
    }
   ],
   "source": [
    "sig=['readmitted','race','diag_1','discharge_disposition_id','medical_specialty','age','time_in_hospital','A1Cresult']\n",
    "sig+=([x for x in dataframe_onehot_binary.columns if 'diag_1_' in x])\n",
    "df_test=dataframe_onehot_binary.drop([x for x in dataframe_onehot_binary if x not in sig], axis=1)\n",
    "search_space['hist_gradient_boosting']['params']['categorical_features']=[[]]\n",
    "\n",
    "if run_long_tasks:\n",
    "    scores, models=randomSearch(df_test, 'readmitted', search_space, metric='accuracy')\n",
    "    sc = pd.DataFrame(scores,columns=['model','best_score','best_params'])\n",
    "    print(sc)"
   ]
  },
  {
   "cell_type": "code",
   "execution_count": 61,
   "metadata": {},
   "outputs": [
    {
     "data": {
      "text/plain": [
       "0    52337\n",
       "2    34649\n",
       "1    11066\n",
       "Name: readmitted, dtype: int64"
      ]
     },
     "execution_count": 61,
     "metadata": {},
     "output_type": "execute_result"
    }
   ],
   "source": [
    "dataframe['readmitted'].value_counts()"
   ]
  },
  {
   "attachments": {},
   "cell_type": "markdown",
   "metadata": {},
   "source": [
    "Modifikacija dataset-a"
   ]
  },
  {
   "cell_type": "code",
   "execution_count": 62,
   "metadata": {},
   "outputs": [],
   "source": [
    "from sklearn.metrics import RocCurveDisplay\n",
    "from sklearn.metrics import confusion_matrix, ConfusionMatrixDisplay\n",
    "\n",
    "\n",
    "def roc(scores, models, df):\n",
    "    fig, ax = plt.subplots()\n",
    "    model_displays = {}\n",
    "    for ind,model in enumerate(models):\n",
    "        model_displays[scores[ind]['model']] = RocCurveDisplay.from_estimator(\n",
    "            model.best_estimator_, df.drop('readmitted',axis=1).values, df['readmitted'], ax=ax, name=scores[ind]['model']\n",
    "        )\n",
    "    _ = ax.set_title(\"ROC curve\")\n",
    "    \n",
    "def confusion(models,df):\n",
    "    for ind,model in enumerate(models):\n",
    "        predictions = model.best_estimator_.predict(df.drop('readmitted',axis=1))\n",
    "        cm = confusion_matrix(df['readmitted'], predictions, labels=model.best_estimator_.classes_)\n",
    "        disp = ConfusionMatrixDisplay(confusion_matrix=cm,\n",
    "                                    display_labels=model.best_estimator_.classes_)\n",
    "        disp.plot()\n",
    "        print(model.best_estimator_)\n",
    "        plt.show()\n"
   ]
  },
  {
   "cell_type": "code",
   "execution_count": 63,
   "metadata": {},
   "outputs": [
    {
     "data": {
      "text/plain": [
       "0    86986\n",
       "1    11066\n",
       "Name: readmitted, dtype: int64"
      ]
     },
     "execution_count": 63,
     "metadata": {},
     "output_type": "execute_result"
    },
    {
     "data": {
      "image/png": "[encoded data removed]",
      "text/plain": [
       "<Figure size 640x480 with 1 Axes>"
      ]
     },
     "metadata": {},
     "output_type": "display_data"
    }
   ],
   "source": [
    "dataframe_label_binary2=dataframe_label.copy(deep=True)\n",
    "dataframe_onehot_binary2=dataframe_onehot.copy(deep=True)\n",
    "dataframe_onehot_plus_binary2=dataframe_onehot_plus.copy(deep=True)\n",
    "\n",
    "dataframe_label_binary2['readmitted'].replace(to_replace=2,value=0,inplace=True)\n",
    "dataframe_onehot_binary2['readmitted'].replace(to_replace=2,value=0,inplace=True)\n",
    "dataframe_onehot_plus_binary2['readmitted'].replace(to_replace=2,value=0,inplace=True)\n",
    "\n",
    "dataframe_label_binary2['readmitted'].value_counts().plot(kind='pie')\n",
    "dataframe_label_binary2['readmitted'].value_counts()"
   ]
  },
  {
   "attachments": {},
   "cell_type": "markdown",
   "metadata": {},
   "source": [
    "Osnovni dataset"
   ]
  },
  {
   "cell_type": "code",
   "execution_count": 64,
   "metadata": {},
   "outputs": [
    {
     "name": "stderr",
     "output_type": "stream",
     "text": [
      "c:\\Users\\PC\\AppData\\Local\\Programs\\Python\\Python310\\lib\\site-packages\\sklearn\\model_selection\\_search.py:306: UserWarning: The total space of parameters 2 is smaller than n_iter=10. Running 2 iterations. For exhaustive searches, use GridSearchCV.\n",
      "  warnings.warn(\n"
     ]
    },
    {
     "name": "stdout",
     "output_type": "stream",
     "text": [
      "Fitting 2 folds for each of 2 candidates, totalling 4 fits\n"
     ]
    },
    {
     "name": "stderr",
     "output_type": "stream",
     "text": [
      "c:\\Users\\PC\\AppData\\Local\\Programs\\Python\\Python310\\lib\\site-packages\\sklearn\\model_selection\\_search.py:306: UserWarning: The total space of parameters 1 is smaller than n_iter=10. Running 1 iterations. For exhaustive searches, use GridSearchCV.\n",
      "  warnings.warn(\n"
     ]
    },
    {
     "name": "stdout",
     "output_type": "stream",
     "text": [
      "Fitting 2 folds for each of 1 candidates, totalling 2 fits\n",
      "                    model  best_score  \\\n",
      "0           random_forest    0.021211   \n",
      "1  hist_gradient_boosting    0.060814   \n",
      "\n",
      "                                         best_params  \n",
      "0                               {'n_estimators': 10}  \n",
      "1  {'max_iter': 100, 'max_depth': 50, 'learning_r...  \n"
     ]
    }
   ],
   "source": [
    "if run_long_tasks or final_df:\n",
    "    scores, models=randomSearch(dataframe_onehot_binary2, 'readmitted', search_space, metric='f1')\n",
    "    sc = pd.DataFrame(scores,columns=['model','best_score','best_params'])\n",
    "    print(sc)"
   ]
  },
  {
   "cell_type": "code",
   "execution_count": 65,
   "metadata": {},
   "outputs": [],
   "source": [
    "from imblearn.over_sampling import RandomOverSampler,SMOTE\n",
    "from imblearn.under_sampling import RandomUnderSampler,ClusterCentroids, TomekLinks"
   ]
  },
  {
   "cell_type": "code",
   "execution_count": 66,
   "metadata": {},
   "outputs": [],
   "source": [
    "def get_balanced_dataframe_oversample(df,algorithm=SMOTE,ratio=0.9,target=\"readmitted\",):\n",
    "    new_df=df.copy(deep=True)\n",
    "\n",
    "    #RandomOverSampler,SMOTE\n",
    "    oversample = algorithm(sampling_strategy=ratio)\n",
    "\n",
    "    X_resampled, y_resampled = oversample.fit_resample(new_df.drop(columns=[target,]), new_df[target])\n",
    "\n",
    "    return  pd.concat([X_resampled, y_resampled], axis=1)\n",
    "\n"
   ]
  },
  {
   "attachments": {},
   "cell_type": "markdown",
   "metadata": {},
   "source": [
    "Oversample"
   ]
  },
  {
   "cell_type": "code",
   "execution_count": 103,
   "metadata": {},
   "outputs": [
    {
     "name": "stderr",
     "output_type": "stream",
     "text": [
      "c:\\Users\\PC\\AppData\\Local\\Programs\\Python\\Python310\\lib\\site-packages\\sklearn\\model_selection\\_search.py:306: UserWarning: The total space of parameters 2 is smaller than n_iter=10. Running 2 iterations. For exhaustive searches, use GridSearchCV.\n",
      "  warnings.warn(\n"
     ]
    },
    {
     "name": "stdout",
     "output_type": "stream",
     "text": [
      "Fitting 2 folds for each of 2 candidates, totalling 4 fits\n"
     ]
    },
    {
     "name": "stderr",
     "output_type": "stream",
     "text": [
      "c:\\Users\\PC\\AppData\\Local\\Programs\\Python\\Python310\\lib\\site-packages\\sklearn\\model_selection\\_search.py:306: UserWarning: The total space of parameters 1 is smaller than n_iter=10. Running 1 iterations. For exhaustive searches, use GridSearchCV.\n",
      "  warnings.warn(\n"
     ]
    },
    {
     "name": "stdout",
     "output_type": "stream",
     "text": [
      "Fitting 2 folds for each of 1 candidates, totalling 2 fits\n"
     ]
    },
    {
     "data": {
      "text/html": [
       "<div>\n",
       "<style scoped>\n",
       "    .dataframe tbody tr th:only-of-type {\n",
       "        vertical-align: middle;\n",
       "    }\n",
       "\n",
       "    .dataframe tbody tr th {\n",
       "        vertical-align: top;\n",
       "    }\n",
       "\n",
       "    .dataframe thead th {\n",
       "        text-align: right;\n",
       "    }\n",
       "</style>\n",
       "<table border=\"1\" class=\"dataframe\">\n",
       "  <thead>\n",
       "    <tr style=\"text-align: right;\">\n",
       "      <th></th>\n",
       "      <th>model</th>\n",
       "      <th>best_score</th>\n",
       "      <th>best_params</th>\n",
       "    </tr>\n",
       "  </thead>\n",
       "  <tbody>\n",
       "    <tr>\n",
       "      <th>0</th>\n",
       "      <td>random_forest</td>\n",
       "      <td>0.799207</td>\n",
       "      <td>{'n_estimators': 10}</td>\n",
       "    </tr>\n",
       "    <tr>\n",
       "      <th>1</th>\n",
       "      <td>hist_gradient_boosting</td>\n",
       "      <td>0.801200</td>\n",
       "      <td>{'max_iter': 100, 'max_depth': 50, 'learning_r...</td>\n",
       "    </tr>\n",
       "  </tbody>\n",
       "</table>\n",
       "</div>"
      ],
      "text/plain": [
       "                    model  best_score  \\\n",
       "0           random_forest    0.799207   \n",
       "1  hist_gradient_boosting    0.801200   \n",
       "\n",
       "                                         best_params  \n",
       "0                               {'n_estimators': 10}  \n",
       "1  {'max_iter': 100, 'max_depth': 50, 'learning_r...  "
      ]
     },
     "execution_count": 103,
     "metadata": {},
     "output_type": "execute_result"
    },
    {
     "data": {
      "image/png": "[encoded data removed]",
      "text/plain": [
       "<Figure size 640x480 with 1 Axes>"
      ]
     },
     "metadata": {},
     "output_type": "display_data"
    }
   ],
   "source": [
    "if run_long_tasks or final_df:\n",
    "    new=get_balanced_dataframe_oversample(dataframe_onehot_binary2,algorithm=SMOTE,ratio=0.91)\n",
    "    new['readmitted'].value_counts().plot(kind='pie')\n",
    "\n",
    "    scores, models=randomSearch(new, 'readmitted', search_space, metric='f1')\n",
    "    sc = pd.DataFrame(scores,columns=['model','best_score','best_params'])\n",
    "sc"
   ]
  },
  {
   "cell_type": "code",
   "execution_count": 104,
   "metadata": {},
   "outputs": [],
   "source": [
    "def get_balanced_dataframe_undersample(df,algorithm=RandomUnderSampler,ratio=0.91,target=\"readmitted\"):\n",
    "    new_df=df.copy(deep=True)\n",
    "\n",
    "    #ClusterCentroids,RandomUnderSampler\n",
    "    undersample = algorithm(random_state=0,sampling_strategy=ratio)\n",
    "\n",
    "    X_resampled, y_resampled = undersample.fit_resample(new_df.drop(columns=[target,]), new_df[target])\n",
    "\n",
    "    return  pd.concat([X_resampled, y_resampled], axis=1)\n"
   ]
  },
  {
   "attachments": {},
   "cell_type": "markdown",
   "metadata": {},
   "source": [
    "Undersample"
   ]
  },
  {
   "cell_type": "code",
   "execution_count": 106,
   "metadata": {},
   "outputs": [
    {
     "name": "stdout",
     "output_type": "stream",
     "text": [
      "0    86985\n",
      "1    78287\n",
      "Name: readmitted, dtype: int64\n"
     ]
    },
    {
     "name": "stderr",
     "output_type": "stream",
     "text": [
      "c:\\Users\\PC\\AppData\\Local\\Programs\\Python\\Python310\\lib\\site-packages\\sklearn\\model_selection\\_search.py:306: UserWarning: The total space of parameters 2 is smaller than n_iter=10. Running 2 iterations. For exhaustive searches, use GridSearchCV.\n",
      "  warnings.warn(\n"
     ]
    },
    {
     "name": "stdout",
     "output_type": "stream",
     "text": [
      "Fitting 5 folds for each of 2 candidates, totalling 10 fits\n"
     ]
    },
    {
     "name": "stderr",
     "output_type": "stream",
     "text": [
      "c:\\Users\\PC\\AppData\\Local\\Programs\\Python\\Python310\\lib\\site-packages\\sklearn\\model_selection\\_search.py:306: UserWarning: The total space of parameters 1 is smaller than n_iter=10. Running 1 iterations. For exhaustive searches, use GridSearchCV.\n",
      "  warnings.warn(\n"
     ]
    },
    {
     "name": "stdout",
     "output_type": "stream",
     "text": [
      "Fitting 5 folds for each of 1 candidates, totalling 5 fits\n"
     ]
    },
    {
     "data": {
      "text/html": [
       "<div>\n",
       "<style scoped>\n",
       "    .dataframe tbody tr th:only-of-type {\n",
       "        vertical-align: middle;\n",
       "    }\n",
       "\n",
       "    .dataframe tbody tr th {\n",
       "        vertical-align: top;\n",
       "    }\n",
       "\n",
       "    .dataframe thead th {\n",
       "        text-align: right;\n",
       "    }\n",
       "</style>\n",
       "<table border=\"1\" class=\"dataframe\">\n",
       "  <thead>\n",
       "    <tr style=\"text-align: right;\">\n",
       "      <th></th>\n",
       "      <th>model</th>\n",
       "      <th>best_score</th>\n",
       "      <th>best_params</th>\n",
       "    </tr>\n",
       "  </thead>\n",
       "  <tbody>\n",
       "    <tr>\n",
       "      <th>0</th>\n",
       "      <td>random_forest</td>\n",
       "      <td>0.883641</td>\n",
       "      <td>{'n_estimators': 20}</td>\n",
       "    </tr>\n",
       "    <tr>\n",
       "      <th>1</th>\n",
       "      <td>hist_gradient_boosting</td>\n",
       "      <td>0.883653</td>\n",
       "      <td>{'max_iter': 100, 'max_depth': 50, 'learning_r...</td>\n",
       "    </tr>\n",
       "  </tbody>\n",
       "</table>\n",
       "</div>"
      ],
      "text/plain": [
       "                    model  best_score  \\\n",
       "0           random_forest    0.883641   \n",
       "1  hist_gradient_boosting    0.883653   \n",
       "\n",
       "                                         best_params  \n",
       "0                               {'n_estimators': 20}  \n",
       "1  {'max_iter': 100, 'max_depth': 50, 'learning_r...  "
      ]
     },
     "execution_count": 106,
     "metadata": {},
     "output_type": "execute_result"
    }
   ],
   "source": [
    "if run_long_tasks or final_df:\n",
    "    new=get_balanced_dataframe_undersample(dataframe_onehot_binary2,algorithm=RandomUnderSampler,ratio=0.90)\n",
    "    print(new[\"readmitted\"].value_counts())\n",
    "\n",
    "    scores, models=randomSearch(new, 'readmitted', search_space, metric='f1', folds=5)\n",
    "    sc = pd.DataFrame(scores,columns=['model','best_score','best_params'])\n",
    "sc"
   ]
  },
  {
   "cell_type": "code",
   "execution_count": 70,
   "metadata": {},
   "outputs": [],
   "source": [
    "dataframe_label_binary2=get_balanced_dataframe_oversample(dataframe_label_binary2,algorithm=SMOTE,ratio=0.9)\n",
    "dataframe_onehot_binary2=get_balanced_dataframe_oversample(dataframe_onehot_binary2,algorithm=SMOTE,ratio=0.9)\n",
    "dataframe_onehot_plus_binary2=get_balanced_dataframe_oversample(dataframe_onehot_plus_binary2,algorithm=SMOTE,ratio=0.9)"
   ]
  },
  {
   "cell_type": "code",
   "execution_count": 71,
   "metadata": {},
   "outputs": [],
   "source": [
    "search_space3 = {\n",
    "    'random_forest': { # ~12sec\n",
    "        'model': RandomForestClassifier(),\n",
    "        'params': {\n",
    "            'n_estimators': [10, 20]  # [1,5,10]\n",
    "        }\n",
    "    },\n",
    "    # 'logistic_regression': { # ~4min (0.3)\n",
    "    #     'model': LogisticRegression(solver='saga'),\n",
    "    #     'params': {\n",
    "    #         'penalty': ['l1',],\n",
    "    #         'C': [1, 5],\n",
    "    #         'max_iter': [1000,] # ne konvergira na <1000\n",
    "    #     }\n",
    "    # },\n",
    "    # 'knn': { # ~6min (0.5)\n",
    "    #     'model': KNeighborsClassifier(algorithm='auto'),\n",
    "    #     'params': {\n",
    "    #         'n_neighbors': [5,],\n",
    "    #         'leaf_size': [30,],\n",
    "    #         'p': [2,],\n",
    "    #         'weights': ['uniform',]\n",
    "    #     }\n",
    "    # },\n",
    "    'decision_tree': { # ~7sec\n",
    "        'model': DecisionTreeClassifier(),\n",
    "        'params': {\n",
    "            'criterion': ['gini'],\n",
    "            'max_depth': [50]\n",
    "        }\n",
    "    },\n",
    "    # 'naive_bayes': { # error - negativne vrednosti?????????????\n",
    "    #     'model': MultinomialNB(),\n",
    "    #     'params': {\n",
    "    #     }\n",
    "    # },\n",
    "    # 'gradient_boosting': { # not useful for large datasets.\n",
    "    #     'model': GradientBoostingClassifier(),\n",
    "    #     'params': {\n",
    "    #         'learning_rate': [0.4],\n",
    "    #         'subsample': [0.5,],\n",
    "    #         'n_estimators': [100],\n",
    "    #         'max_depth': [50]\n",
    "    #     }\n",
    "    # },\n",
    "    'hist_gradient_boosting': { # ~15 sec\n",
    "        'model': HistGradientBoostingClassifier(),\n",
    "        'params': {\n",
    "            'max_iter': [100],\n",
    "            'learning_rate': [0.4],\n",
    "            'max_depth': [50],\n",
    "            'l2_regularization': [1.5],\n",
    "        }\n",
    "    },\n",
    "}"
   ]
  },
  {
   "attachments": {},
   "cell_type": "markdown",
   "metadata": {},
   "source": [
    "Label encoded oversample"
   ]
  },
  {
   "cell_type": "code",
   "execution_count": 72,
   "metadata": {},
   "outputs": [
    {
     "name": "stderr",
     "output_type": "stream",
     "text": [
      "c:\\Users\\PC\\AppData\\Local\\Programs\\Python\\Python310\\lib\\site-packages\\sklearn\\model_selection\\_search.py:306: UserWarning: The total space of parameters 2 is smaller than n_iter=10. Running 2 iterations. For exhaustive searches, use GridSearchCV.\n",
      "  warnings.warn(\n"
     ]
    },
    {
     "name": "stdout",
     "output_type": "stream",
     "text": [
      "Fitting 2 folds for each of 2 candidates, totalling 4 fits\n"
     ]
    },
    {
     "name": "stderr",
     "output_type": "stream",
     "text": [
      "c:\\Users\\PC\\AppData\\Local\\Programs\\Python\\Python310\\lib\\site-packages\\sklearn\\model_selection\\_search.py:306: UserWarning: The total space of parameters 1 is smaller than n_iter=10. Running 1 iterations. For exhaustive searches, use GridSearchCV.\n",
      "  warnings.warn(\n"
     ]
    },
    {
     "name": "stdout",
     "output_type": "stream",
     "text": [
      "Fitting 2 folds for each of 1 candidates, totalling 2 fits\n"
     ]
    },
    {
     "name": "stderr",
     "output_type": "stream",
     "text": [
      "c:\\Users\\PC\\AppData\\Local\\Programs\\Python\\Python310\\lib\\site-packages\\sklearn\\model_selection\\_search.py:306: UserWarning: The total space of parameters 1 is smaller than n_iter=10. Running 1 iterations. For exhaustive searches, use GridSearchCV.\n",
      "  warnings.warn(\n"
     ]
    },
    {
     "name": "stdout",
     "output_type": "stream",
     "text": [
      "Fitting 2 folds for each of 1 candidates, totalling 2 fits\n",
      "                    model  best_score  \\\n",
      "0           random_forest    0.739380   \n",
      "1           decision_tree    0.707569   \n",
      "2  hist_gradient_boosting    0.769405   \n",
      "\n",
      "                                         best_params  \n",
      "0                               {'n_estimators': 20}  \n",
      "1             {'max_depth': 50, 'criterion': 'gini'}  \n",
      "2  {'max_iter': 100, 'max_depth': 50, 'learning_r...  \n"
     ]
    }
   ],
   "source": [
    "if run_long_tasks or final_df:\n",
    "    scores, models=randomSearch(dataframe_label_binary2, 'readmitted', search_space3, metric='f1', folds=2)\n",
    "    sc = pd.DataFrame(scores,columns=['model','best_score','best_params'])\n",
    "    print(sc)"
   ]
  },
  {
   "attachments": {},
   "cell_type": "markdown",
   "metadata": {},
   "source": [
    "One-hot oversample"
   ]
  },
  {
   "cell_type": "code",
   "execution_count": 73,
   "metadata": {},
   "outputs": [
    {
     "name": "stderr",
     "output_type": "stream",
     "text": [
      "c:\\Users\\PC\\AppData\\Local\\Programs\\Python\\Python310\\lib\\site-packages\\sklearn\\model_selection\\_search.py:306: UserWarning: The total space of parameters 2 is smaller than n_iter=10. Running 2 iterations. For exhaustive searches, use GridSearchCV.\n",
      "  warnings.warn(\n"
     ]
    },
    {
     "name": "stdout",
     "output_type": "stream",
     "text": [
      "Fitting 2 folds for each of 2 candidates, totalling 4 fits\n"
     ]
    },
    {
     "name": "stderr",
     "output_type": "stream",
     "text": [
      "c:\\Users\\PC\\AppData\\Local\\Programs\\Python\\Python310\\lib\\site-packages\\sklearn\\model_selection\\_search.py:306: UserWarning: The total space of parameters 1 is smaller than n_iter=10. Running 1 iterations. For exhaustive searches, use GridSearchCV.\n",
      "  warnings.warn(\n"
     ]
    },
    {
     "name": "stdout",
     "output_type": "stream",
     "text": [
      "Fitting 2 folds for each of 1 candidates, totalling 2 fits\n"
     ]
    },
    {
     "name": "stderr",
     "output_type": "stream",
     "text": [
      "c:\\Users\\PC\\AppData\\Local\\Programs\\Python\\Python310\\lib\\site-packages\\sklearn\\model_selection\\_search.py:306: UserWarning: The total space of parameters 1 is smaller than n_iter=10. Running 1 iterations. For exhaustive searches, use GridSearchCV.\n",
      "  warnings.warn(\n"
     ]
    },
    {
     "name": "stdout",
     "output_type": "stream",
     "text": [
      "Fitting 2 folds for each of 1 candidates, totalling 2 fits\n",
      "                    model  best_score  \\\n",
      "0           random_forest    0.798916   \n",
      "1           decision_tree    0.739990   \n",
      "2  hist_gradient_boosting    0.805200   \n",
      "\n",
      "                                         best_params  \n",
      "0                               {'n_estimators': 10}  \n",
      "1             {'max_depth': 50, 'criterion': 'gini'}  \n",
      "2  {'max_iter': 100, 'max_depth': 50, 'learning_r...  \n"
     ]
    }
   ],
   "source": [
    "if run_long_tasks or final_df:\n",
    "    scores, models=randomSearch(dataframe_onehot_binary2, 'readmitted', search_space3, metric='f1', folds=2)\n",
    "    sc = pd.DataFrame(scores,columns=['model','best_score','best_params'])\n",
    "    print(sc)"
   ]
  },
  {
   "attachments": {},
   "cell_type": "markdown",
   "metadata": {},
   "source": [
    "One-hot plus oversample"
   ]
  },
  {
   "cell_type": "code",
   "execution_count": 107,
   "metadata": {},
   "outputs": [
    {
     "name": "stderr",
     "output_type": "stream",
     "text": [
      "c:\\Users\\PC\\AppData\\Local\\Programs\\Python\\Python310\\lib\\site-packages\\sklearn\\model_selection\\_search.py:306: UserWarning: The total space of parameters 2 is smaller than n_iter=10. Running 2 iterations. For exhaustive searches, use GridSearchCV.\n",
      "  warnings.warn(\n"
     ]
    },
    {
     "name": "stdout",
     "output_type": "stream",
     "text": [
      "Fitting 2 folds for each of 2 candidates, totalling 4 fits\n"
     ]
    },
    {
     "name": "stderr",
     "output_type": "stream",
     "text": [
      "c:\\Users\\PC\\AppData\\Local\\Programs\\Python\\Python310\\lib\\site-packages\\sklearn\\model_selection\\_search.py:306: UserWarning: The total space of parameters 1 is smaller than n_iter=10. Running 1 iterations. For exhaustive searches, use GridSearchCV.\n",
      "  warnings.warn(\n"
     ]
    },
    {
     "name": "stdout",
     "output_type": "stream",
     "text": [
      "Fitting 2 folds for each of 1 candidates, totalling 2 fits\n"
     ]
    },
    {
     "name": "stderr",
     "output_type": "stream",
     "text": [
      "c:\\Users\\PC\\AppData\\Local\\Programs\\Python\\Python310\\lib\\site-packages\\sklearn\\model_selection\\_search.py:306: UserWarning: The total space of parameters 1 is smaller than n_iter=10. Running 1 iterations. For exhaustive searches, use GridSearchCV.\n",
      "  warnings.warn(\n"
     ]
    },
    {
     "name": "stdout",
     "output_type": "stream",
     "text": [
      "Fitting 2 folds for each of 1 candidates, totalling 2 fits\n"
     ]
    },
    {
     "data": {
      "text/html": [
       "<div>\n",
       "<style scoped>\n",
       "    .dataframe tbody tr th:only-of-type {\n",
       "        vertical-align: middle;\n",
       "    }\n",
       "\n",
       "    .dataframe tbody tr th {\n",
       "        vertical-align: top;\n",
       "    }\n",
       "\n",
       "    .dataframe thead th {\n",
       "        text-align: right;\n",
       "    }\n",
       "</style>\n",
       "<table border=\"1\" class=\"dataframe\">\n",
       "  <thead>\n",
       "    <tr style=\"text-align: right;\">\n",
       "      <th></th>\n",
       "      <th>model</th>\n",
       "      <th>best_score</th>\n",
       "      <th>best_params</th>\n",
       "    </tr>\n",
       "  </thead>\n",
       "  <tbody>\n",
       "    <tr>\n",
       "      <th>0</th>\n",
       "      <td>random_forest</td>\n",
       "      <td>0.802281</td>\n",
       "      <td>{'n_estimators': 10}</td>\n",
       "    </tr>\n",
       "    <tr>\n",
       "      <th>1</th>\n",
       "      <td>decision_tree</td>\n",
       "      <td>0.744190</td>\n",
       "      <td>{'max_depth': 50, 'criterion': 'gini'}</td>\n",
       "    </tr>\n",
       "    <tr>\n",
       "      <th>2</th>\n",
       "      <td>hist_gradient_boosting</td>\n",
       "      <td>0.800627</td>\n",
       "      <td>{'max_iter': 100, 'max_depth': 50, 'learning_r...</td>\n",
       "    </tr>\n",
       "  </tbody>\n",
       "</table>\n",
       "</div>"
      ],
      "text/plain": [
       "                    model  best_score  \\\n",
       "0           random_forest    0.802281   \n",
       "1           decision_tree    0.744190   \n",
       "2  hist_gradient_boosting    0.800627   \n",
       "\n",
       "                                         best_params  \n",
       "0                               {'n_estimators': 10}  \n",
       "1             {'max_depth': 50, 'criterion': 'gini'}  \n",
       "2  {'max_iter': 100, 'max_depth': 50, 'learning_r...  "
      ]
     },
     "execution_count": 107,
     "metadata": {},
     "output_type": "execute_result"
    }
   ],
   "source": [
    "if run_long_tasks or final_df:\n",
    "    scores, models=randomSearch(dataframe_onehot_plus_binary2, 'readmitted', search_space3, metric='f1', folds=2)\n",
    "    sc = pd.DataFrame(scores,columns=['model','best_score','best_params'])\n",
    "sc"
   ]
  },
  {
   "attachments": {},
   "cell_type": "markdown",
   "metadata": {},
   "source": [
    "Normalized"
   ]
  },
  {
   "cell_type": "code",
   "execution_count": 75,
   "metadata": {},
   "outputs": [
    {
     "name": "stderr",
     "output_type": "stream",
     "text": [
      "c:\\Users\\PC\\AppData\\Local\\Programs\\Python\\Python310\\lib\\site-packages\\sklearn\\model_selection\\_search.py:306: UserWarning: The total space of parameters 2 is smaller than n_iter=10. Running 2 iterations. For exhaustive searches, use GridSearchCV.\n",
      "  warnings.warn(\n"
     ]
    },
    {
     "name": "stdout",
     "output_type": "stream",
     "text": [
      "Fitting 2 folds for each of 2 candidates, totalling 4 fits\n"
     ]
    },
    {
     "name": "stderr",
     "output_type": "stream",
     "text": [
      "c:\\Users\\PC\\AppData\\Local\\Programs\\Python\\Python310\\lib\\site-packages\\sklearn\\model_selection\\_search.py:306: UserWarning: The total space of parameters 1 is smaller than n_iter=10. Running 1 iterations. For exhaustive searches, use GridSearchCV.\n",
      "  warnings.warn(\n"
     ]
    },
    {
     "name": "stdout",
     "output_type": "stream",
     "text": [
      "Fitting 2 folds for each of 1 candidates, totalling 2 fits\n"
     ]
    },
    {
     "name": "stderr",
     "output_type": "stream",
     "text": [
      "c:\\Users\\PC\\AppData\\Local\\Programs\\Python\\Python310\\lib\\site-packages\\sklearn\\model_selection\\_search.py:306: UserWarning: The total space of parameters 1 is smaller than n_iter=10. Running 1 iterations. For exhaustive searches, use GridSearchCV.\n",
      "  warnings.warn(\n"
     ]
    },
    {
     "name": "stdout",
     "output_type": "stream",
     "text": [
      "Fitting 2 folds for each of 1 candidates, totalling 2 fits\n",
      "                    model  best_score  \\\n",
      "0           random_forest    0.800153   \n",
      "1           decision_tree    0.745540   \n",
      "2  hist_gradient_boosting    0.801296   \n",
      "\n",
      "                                         best_params  \n",
      "0                               {'n_estimators': 20}  \n",
      "1             {'max_depth': 50, 'criterion': 'gini'}  \n",
      "2  {'max_iter': 100, 'max_depth': 50, 'learning_r...  \n"
     ]
    }
   ],
   "source": [
    "dfohpb2_normal=normalize(dataframe_onehot_plus_binary2,[x for x in non_categorical_cols if x not in ['patient_nbr','diag_1','diag_2','diag_3']])\n",
    "if run_long_tasks or final_df:\n",
    "    scores, models=randomSearch(dfohpb2_normal, 'readmitted', search_space3, metric='f1', folds=2)\n",
    "    sc = pd.DataFrame(scores,columns=['model','best_score','best_params'])\n",
    "    print(sc)"
   ]
  },
  {
   "attachments": {},
   "cell_type": "markdown",
   "metadata": {},
   "source": [
    "Standardized"
   ]
  },
  {
   "cell_type": "code",
   "execution_count": 108,
   "metadata": {},
   "outputs": [
    {
     "name": "stderr",
     "output_type": "stream",
     "text": [
      "c:\\Users\\PC\\AppData\\Local\\Programs\\Python\\Python310\\lib\\site-packages\\sklearn\\model_selection\\_search.py:306: UserWarning: The total space of parameters 2 is smaller than n_iter=10. Running 2 iterations. For exhaustive searches, use GridSearchCV.\n",
      "  warnings.warn(\n"
     ]
    },
    {
     "name": "stdout",
     "output_type": "stream",
     "text": [
      "Fitting 2 folds for each of 2 candidates, totalling 4 fits\n"
     ]
    },
    {
     "name": "stderr",
     "output_type": "stream",
     "text": [
      "c:\\Users\\PC\\AppData\\Local\\Programs\\Python\\Python310\\lib\\site-packages\\sklearn\\model_selection\\_search.py:306: UserWarning: The total space of parameters 1 is smaller than n_iter=10. Running 1 iterations. For exhaustive searches, use GridSearchCV.\n",
      "  warnings.warn(\n"
     ]
    },
    {
     "name": "stdout",
     "output_type": "stream",
     "text": [
      "Fitting 2 folds for each of 1 candidates, totalling 2 fits\n"
     ]
    },
    {
     "name": "stderr",
     "output_type": "stream",
     "text": [
      "c:\\Users\\PC\\AppData\\Local\\Programs\\Python\\Python310\\lib\\site-packages\\sklearn\\model_selection\\_search.py:306: UserWarning: The total space of parameters 1 is smaller than n_iter=10. Running 1 iterations. For exhaustive searches, use GridSearchCV.\n",
      "  warnings.warn(\n"
     ]
    },
    {
     "name": "stdout",
     "output_type": "stream",
     "text": [
      "Fitting 2 folds for each of 1 candidates, totalling 2 fits\n"
     ]
    },
    {
     "data": {
      "text/html": [
       "<div>\n",
       "<style scoped>\n",
       "    .dataframe tbody tr th:only-of-type {\n",
       "        vertical-align: middle;\n",
       "    }\n",
       "\n",
       "    .dataframe tbody tr th {\n",
       "        vertical-align: top;\n",
       "    }\n",
       "\n",
       "    .dataframe thead th {\n",
       "        text-align: right;\n",
       "    }\n",
       "</style>\n",
       "<table border=\"1\" class=\"dataframe\">\n",
       "  <thead>\n",
       "    <tr style=\"text-align: right;\">\n",
       "      <th></th>\n",
       "      <th>model</th>\n",
       "      <th>best_score</th>\n",
       "      <th>best_params</th>\n",
       "    </tr>\n",
       "  </thead>\n",
       "  <tbody>\n",
       "    <tr>\n",
       "      <th>0</th>\n",
       "      <td>random_forest</td>\n",
       "      <td>0.799582</td>\n",
       "      <td>{'n_estimators': 20}</td>\n",
       "    </tr>\n",
       "    <tr>\n",
       "      <th>1</th>\n",
       "      <td>decision_tree</td>\n",
       "      <td>0.745215</td>\n",
       "      <td>{'max_depth': 50, 'criterion': 'gini'}</td>\n",
       "    </tr>\n",
       "    <tr>\n",
       "      <th>2</th>\n",
       "      <td>hist_gradient_boosting</td>\n",
       "      <td>0.804809</td>\n",
       "      <td>{'max_iter': 100, 'max_depth': 50, 'learning_r...</td>\n",
       "    </tr>\n",
       "  </tbody>\n",
       "</table>\n",
       "</div>"
      ],
      "text/plain": [
       "                    model  best_score  \\\n",
       "0           random_forest    0.799582   \n",
       "1           decision_tree    0.745215   \n",
       "2  hist_gradient_boosting    0.804809   \n",
       "\n",
       "                                         best_params  \n",
       "0                               {'n_estimators': 20}  \n",
       "1             {'max_depth': 50, 'criterion': 'gini'}  \n",
       "2  {'max_iter': 100, 'max_depth': 50, 'learning_r...  "
      ]
     },
     "execution_count": 108,
     "metadata": {},
     "output_type": "execute_result"
    }
   ],
   "source": [
    "dfohpb2_standard=standardize(dataframe_onehot_plus_binary2,[x for x in non_categorical_cols if x not in ['patient_nbr','diag_1','diag_2','diag_3']])\n",
    "if run_long_tasks or final_df:\n",
    "    scores, models=randomSearch(dfohpb2_standard, 'readmitted', search_space3, metric='f1', folds=2)\n",
    "    sc = pd.DataFrame(scores,columns=['model','best_score','best_params'])\n",
    "sc"
   ]
  },
  {
   "attachments": {},
   "cell_type": "markdown",
   "metadata": {},
   "source": [
    "Outlier removal"
   ]
  },
  {
   "cell_type": "code",
   "execution_count": 77,
   "metadata": {},
   "outputs": [
    {
     "name": "stderr",
     "output_type": "stream",
     "text": [
      "c:\\Users\\PC\\AppData\\Local\\Programs\\Python\\Python310\\lib\\site-packages\\sklearn\\model_selection\\_search.py:306: UserWarning: The total space of parameters 2 is smaller than n_iter=10. Running 2 iterations. For exhaustive searches, use GridSearchCV.\n",
      "  warnings.warn(\n"
     ]
    },
    {
     "name": "stdout",
     "output_type": "stream",
     "text": [
      "Fitting 2 folds for each of 2 candidates, totalling 4 fits\n"
     ]
    },
    {
     "name": "stderr",
     "output_type": "stream",
     "text": [
      "c:\\Users\\PC\\AppData\\Local\\Programs\\Python\\Python310\\lib\\site-packages\\sklearn\\model_selection\\_search.py:306: UserWarning: The total space of parameters 1 is smaller than n_iter=10. Running 1 iterations. For exhaustive searches, use GridSearchCV.\n",
      "  warnings.warn(\n"
     ]
    },
    {
     "name": "stdout",
     "output_type": "stream",
     "text": [
      "Fitting 2 folds for each of 1 candidates, totalling 2 fits\n"
     ]
    },
    {
     "name": "stderr",
     "output_type": "stream",
     "text": [
      "c:\\Users\\PC\\AppData\\Local\\Programs\\Python\\Python310\\lib\\site-packages\\sklearn\\model_selection\\_search.py:306: UserWarning: The total space of parameters 1 is smaller than n_iter=10. Running 1 iterations. For exhaustive searches, use GridSearchCV.\n",
      "  warnings.warn(\n"
     ]
    },
    {
     "name": "stdout",
     "output_type": "stream",
     "text": [
      "Fitting 2 folds for each of 1 candidates, totalling 2 fits\n",
      "                    model  best_score  \\\n",
      "0           random_forest    0.756456   \n",
      "1           decision_tree    0.712288   \n",
      "2  hist_gradient_boosting    0.773611   \n",
      "\n",
      "                                         best_params  \n",
      "0                               {'n_estimators': 20}  \n",
      "1             {'max_depth': 50, 'criterion': 'gini'}  \n",
      "2  {'max_iter': 100, 'max_depth': 50, 'learning_r...  \n"
     ]
    }
   ],
   "source": [
    "if run_long_tasks:\n",
    "    dfohpb2_out=remove_outliers(dataframe_onehot_plus_binary2,[x for x in non_categorical_cols if x not in ['patient_nbr','diag_1','diag_2','diag_3','weight']])\n",
    "    #~5min\n",
    "    scores, models=randomSearch(dfohpb2_out, 'readmitted', search_space3, metric='f1', folds=2)\n",
    "    sc = pd.DataFrame(scores,columns=['model','best_score','best_params'])\n",
    "    print(sc)"
   ]
  },
  {
   "attachments": {},
   "cell_type": "markdown",
   "metadata": {},
   "source": [
    "Standadrized + normalized"
   ]
  },
  {
   "cell_type": "code",
   "execution_count": 78,
   "metadata": {},
   "outputs": [
    {
     "name": "stderr",
     "output_type": "stream",
     "text": [
      "c:\\Users\\PC\\AppData\\Local\\Programs\\Python\\Python310\\lib\\site-packages\\sklearn\\model_selection\\_search.py:306: UserWarning: The total space of parameters 2 is smaller than n_iter=10. Running 2 iterations. For exhaustive searches, use GridSearchCV.\n",
      "  warnings.warn(\n"
     ]
    },
    {
     "name": "stdout",
     "output_type": "stream",
     "text": [
      "Fitting 2 folds for each of 2 candidates, totalling 4 fits\n"
     ]
    },
    {
     "name": "stderr",
     "output_type": "stream",
     "text": [
      "c:\\Users\\PC\\AppData\\Local\\Programs\\Python\\Python310\\lib\\site-packages\\sklearn\\model_selection\\_search.py:306: UserWarning: The total space of parameters 1 is smaller than n_iter=10. Running 1 iterations. For exhaustive searches, use GridSearchCV.\n",
      "  warnings.warn(\n"
     ]
    },
    {
     "name": "stdout",
     "output_type": "stream",
     "text": [
      "Fitting 2 folds for each of 1 candidates, totalling 2 fits\n"
     ]
    },
    {
     "name": "stderr",
     "output_type": "stream",
     "text": [
      "c:\\Users\\PC\\AppData\\Local\\Programs\\Python\\Python310\\lib\\site-packages\\sklearn\\model_selection\\_search.py:306: UserWarning: The total space of parameters 1 is smaller than n_iter=10. Running 1 iterations. For exhaustive searches, use GridSearchCV.\n",
      "  warnings.warn(\n"
     ]
    },
    {
     "name": "stdout",
     "output_type": "stream",
     "text": [
      "Fitting 2 folds for each of 1 candidates, totalling 2 fits\n",
      "                    model  best_score  \\\n",
      "0           random_forest    0.793942   \n",
      "1           decision_tree    0.745650   \n",
      "2  hist_gradient_boosting    0.805592   \n",
      "\n",
      "                                         best_params  \n",
      "0                               {'n_estimators': 10}  \n",
      "1             {'max_depth': 50, 'criterion': 'gini'}  \n",
      "2  {'max_iter': 100, 'max_depth': 50, 'learning_r...  \n"
     ]
    }
   ],
   "source": [
    "cols=[x for x in non_categorical_cols if x not in ['patient_nbr','diag_1','diag_2','diag_3']]\n",
    "dfohpb2_std_n=normalize(standardize(dataframe_onehot_plus_binary2,cols),cols)\n",
    "if run_long_tasks or final_df:\n",
    "    scores, models=randomSearch(dfohpb2_std_n, 'readmitted', search_space3, metric='f1', folds=2)\n",
    "    sc = pd.DataFrame(scores,columns=['model','best_score','best_params'])\n",
    "    print(sc)"
   ]
  },
  {
   "attachments": {},
   "cell_type": "markdown",
   "metadata": {},
   "source": [
    "Boosting"
   ]
  },
  {
   "cell_type": "code",
   "execution_count": 79,
   "metadata": {},
   "outputs": [
    {
     "name": "stdout",
     "output_type": "stream",
     "text": [
      "0.8511875932043855\n"
     ]
    }
   ],
   "source": [
    "from sklearn.ensemble import VotingClassifier\n",
    "if run_long_tasks or final_df:\n",
    "    clf = VotingClassifier(estimators=[\n",
    "        ('rf',RandomForestClassifier(n_estimators=10)),\n",
    "        ('dt',DecisionTreeClassifier(max_depth=50, criterion='gini')),\n",
    "        ('hgb',HistGradientBoostingClassifier(max_iter=100,max_depth=50,learning_rate=0.4,l2_regularization=1.5))], voting='hard')\n",
    "\n",
    "    grid = GridSearchCV(clf,{},cv=3,scoring='f1')\n",
    "    grid.fit(dfohpb2_std_n.drop(columns=['readmitted']).values, dfohpb2_std_n['readmitted'].values)\n",
    "    print(grid.best_score_)"
   ]
  },
  {
   "cell_type": "code",
   "execution_count": 80,
   "metadata": {},
   "outputs": [],
   "source": [
    "#Principal Component Analysis\n",
    "from sklearn.decomposition import PCA\n",
    "from sklearn.preprocessing import StandardScaler\n",
    "\n",
    "def principalComponentAnalysis(df,target=\"readmitted\"):\n",
    "    new_df=df.copy(deep=True)\n",
    "\n",
    "    y = new_df[target]\n",
    "    X = new_df.drop(columns=[target])\n",
    "    pca = PCA()\n",
    "    X_transformed = pca.fit_transform(X)\n",
    "    newDF=pd.DataFrame(X_transformed)\n",
    "    newDF.insert(newDF.shape[1],target,y)\n",
    "    return newDF\n",
    "\n",
    "df_pca=principalComponentAnalysis(dfohpb2_std_n)\n",
    "\n"
   ]
  },
  {
   "attachments": {},
   "cell_type": "markdown",
   "metadata": {},
   "source": [
    "PCA"
   ]
  },
  {
   "cell_type": "code",
   "execution_count": 81,
   "metadata": {},
   "outputs": [
    {
     "name": "stderr",
     "output_type": "stream",
     "text": [
      "c:\\Users\\PC\\AppData\\Local\\Programs\\Python\\Python310\\lib\\site-packages\\sklearn\\model_selection\\_search.py:306: UserWarning: The total space of parameters 2 is smaller than n_iter=10. Running 2 iterations. For exhaustive searches, use GridSearchCV.\n",
      "  warnings.warn(\n"
     ]
    },
    {
     "name": "stdout",
     "output_type": "stream",
     "text": [
      "Fitting 2 folds for each of 2 candidates, totalling 4 fits\n"
     ]
    },
    {
     "name": "stderr",
     "output_type": "stream",
     "text": [
      "c:\\Users\\PC\\AppData\\Local\\Programs\\Python\\Python310\\lib\\site-packages\\sklearn\\model_selection\\_search.py:306: UserWarning: The total space of parameters 1 is smaller than n_iter=10. Running 1 iterations. For exhaustive searches, use GridSearchCV.\n",
      "  warnings.warn(\n"
     ]
    },
    {
     "name": "stdout",
     "output_type": "stream",
     "text": [
      "Fitting 2 folds for each of 1 candidates, totalling 2 fits\n"
     ]
    },
    {
     "name": "stderr",
     "output_type": "stream",
     "text": [
      "c:\\Users\\PC\\AppData\\Local\\Programs\\Python\\Python310\\lib\\site-packages\\sklearn\\model_selection\\_search.py:306: UserWarning: The total space of parameters 1 is smaller than n_iter=10. Running 1 iterations. For exhaustive searches, use GridSearchCV.\n",
      "  warnings.warn(\n"
     ]
    },
    {
     "name": "stdout",
     "output_type": "stream",
     "text": [
      "Fitting 2 folds for each of 1 candidates, totalling 2 fits\n",
      "                    model  best_score  \\\n",
      "0           random_forest    0.869182   \n",
      "1           decision_tree    0.795086   \n",
      "2  hist_gradient_boosting    0.830790   \n",
      "\n",
      "                                         best_params  \n",
      "0                               {'n_estimators': 20}  \n",
      "1             {'max_depth': 50, 'criterion': 'gini'}  \n",
      "2  {'max_iter': 100, 'max_depth': 50, 'learning_r...  \n"
     ]
    }
   ],
   "source": [
    "if run_long_tasks or final_df:\n",
    "    scores, models=randomSearch(df_pca, 'readmitted', search_space3, metric='f1')\n",
    "    sc = pd.DataFrame(scores,columns=['model','best_score','best_params'])\n",
    "    print(sc)"
   ]
  },
  {
   "cell_type": "code",
   "execution_count": 82,
   "metadata": {},
   "outputs": [],
   "source": [
    "from sklearn.feature_selection import GenericUnivariateSelect, f_classif, mutual_info_classif\n",
    "\n",
    "def genericUnivariate(df,ratio=0.9,target=\"readmitted\"):\n",
    "    new_df=df.copy(deep=True)\n",
    "\n",
    "    y = new_df[target]\n",
    "    X = new_df.drop(columns=[target])\n",
    "    n_components=ceil(X.shape[1]*ratio)\n",
    "    transformer = GenericUnivariateSelect(mutual_info_classif, mode='k_best', param=n_components)\n",
    "    # transformer = GenericUnivariateSelect(mutual_info_classif, mode='k_best'\n",
    "    X_transformed = transformer.fit_transform(X,y)\n",
    "    newDF=pd.DataFrame(X_transformed)\n",
    "    newDF.insert(newDF.shape[1],target,y)\n",
    "    return newDF\n",
    "\n",
    "df_uni=genericUnivariate(dfohpb2_std_n)\n"
   ]
  },
  {
   "attachments": {},
   "cell_type": "markdown",
   "metadata": {},
   "source": [
    "GenericUnivariateSelect"
   ]
  },
  {
   "cell_type": "code",
   "execution_count": 83,
   "metadata": {},
   "outputs": [
    {
     "name": "stdout",
     "output_type": "stream",
     "text": [
      "(165273, 137)\n",
      "Fitting 2 folds for each of 2 candidates, totalling 4 fits\n"
     ]
    },
    {
     "name": "stderr",
     "output_type": "stream",
     "text": [
      "c:\\Users\\PC\\AppData\\Local\\Programs\\Python\\Python310\\lib\\site-packages\\sklearn\\model_selection\\_search.py:306: UserWarning: The total space of parameters 2 is smaller than n_iter=10. Running 2 iterations. For exhaustive searches, use GridSearchCV.\n",
      "  warnings.warn(\n",
      "c:\\Users\\PC\\AppData\\Local\\Programs\\Python\\Python310\\lib\\site-packages\\sklearn\\model_selection\\_search.py:306: UserWarning: The total space of parameters 1 is smaller than n_iter=10. Running 1 iterations. For exhaustive searches, use GridSearchCV.\n",
      "  warnings.warn(\n"
     ]
    },
    {
     "name": "stdout",
     "output_type": "stream",
     "text": [
      "Fitting 2 folds for each of 1 candidates, totalling 2 fits\n"
     ]
    },
    {
     "name": "stderr",
     "output_type": "stream",
     "text": [
      "c:\\Users\\PC\\AppData\\Local\\Programs\\Python\\Python310\\lib\\site-packages\\sklearn\\model_selection\\_search.py:306: UserWarning: The total space of parameters 1 is smaller than n_iter=10. Running 1 iterations. For exhaustive searches, use GridSearchCV.\n",
      "  warnings.warn(\n"
     ]
    },
    {
     "name": "stdout",
     "output_type": "stream",
     "text": [
      "Fitting 2 folds for each of 1 candidates, totalling 2 fits\n",
      "                    model  best_score  \\\n",
      "0           random_forest    0.796365   \n",
      "1           decision_tree    0.748123   \n",
      "2  hist_gradient_boosting    0.806070   \n",
      "\n",
      "                                         best_params  \n",
      "0                               {'n_estimators': 10}  \n",
      "1             {'max_depth': 50, 'criterion': 'gini'}  \n",
      "2  {'max_iter': 100, 'max_depth': 50, 'learning_r...  \n"
     ]
    }
   ],
   "source": [
    "print(df_uni.shape)\n",
    "if run_long_tasks or final_df:\n",
    "    scores, models=randomSearch(df_uni, 'readmitted', search_space3, metric='f1')\n",
    "    sc = pd.DataFrame(scores,columns=['model','best_score','best_params'])\n",
    "    print(sc)"
   ]
  },
  {
   "attachments": {},
   "cell_type": "markdown",
   "metadata": {},
   "source": [
    "SelectKBest"
   ]
  },
  {
   "cell_type": "code",
   "execution_count": 99,
   "metadata": {},
   "outputs": [
    {
     "name": "stdout",
     "output_type": "stream",
     "text": [
      "(165273, 119)\n",
      "deleted columns:\n",
      "diag_1\n",
      "diag_2\n",
      "diag_3\n",
      "max_glu_serum\n",
      "acetohexamide\n",
      "troglitazone\n",
      "glimepiride-pioglitazone\n",
      "diag_1_class(Cause)\n",
      "diag_1_class(Status)\n",
      "diag_2_class(Congenital)\n",
      "diag_3_class(Congenital)\n",
      "diag_3_class(Infectious and Parasitic)\n",
      "diag_3_class(Neoplasms)\n",
      "diag_3_class(Nervous System)\n",
      "admission_type_id(4)\n",
      "admission_type_id(7)\n",
      "admission_type_id(8)\n",
      "discharge_disposition_id(5)\n",
      "discharge_disposition_id(8)\n",
      "discharge_disposition_id(10)\n",
      "discharge_disposition_id(12)\n",
      "discharge_disposition_id(16)\n",
      "discharge_disposition_id(22)\n",
      "discharge_disposition_id(27)\n",
      "discharge_disposition_id(28)\n",
      "admission_source_id(3)\n",
      "admission_source_id(9)\n",
      "admission_source_id(10)\n",
      "admission_source_id(11)\n",
      "admission_source_id(13)\n",
      "admission_source_id(22)\n",
      "race(Asian)\n"
     ]
    },
    {
     "name": "stderr",
     "output_type": "stream",
     "text": [
      "c:\\Users\\PC\\AppData\\Local\\Programs\\Python\\Python310\\lib\\site-packages\\sklearn\\model_selection\\_search.py:306: UserWarning: The total space of parameters 2 is smaller than n_iter=10. Running 2 iterations. For exhaustive searches, use GridSearchCV.\n",
      "  warnings.warn(\n"
     ]
    },
    {
     "name": "stdout",
     "output_type": "stream",
     "text": [
      "Fitting 2 folds for each of 2 candidates, totalling 4 fits\n"
     ]
    },
    {
     "name": "stderr",
     "output_type": "stream",
     "text": [
      "c:\\Users\\PC\\AppData\\Local\\Programs\\Python\\Python310\\lib\\site-packages\\sklearn\\model_selection\\_search.py:306: UserWarning: The total space of parameters 1 is smaller than n_iter=10. Running 1 iterations. For exhaustive searches, use GridSearchCV.\n",
      "  warnings.warn(\n"
     ]
    },
    {
     "name": "stdout",
     "output_type": "stream",
     "text": [
      "Fitting 2 folds for each of 1 candidates, totalling 2 fits\n"
     ]
    },
    {
     "name": "stderr",
     "output_type": "stream",
     "text": [
      "c:\\Users\\PC\\AppData\\Local\\Programs\\Python\\Python310\\lib\\site-packages\\sklearn\\model_selection\\_search.py:306: UserWarning: The total space of parameters 1 is smaller than n_iter=10. Running 1 iterations. For exhaustive searches, use GridSearchCV.\n",
      "  warnings.warn(\n"
     ]
    },
    {
     "name": "stdout",
     "output_type": "stream",
     "text": [
      "Fitting 2 folds for each of 1 candidates, totalling 2 fits\n"
     ]
    },
    {
     "data": {
      "text/html": [
       "<div>\n",
       "<style scoped>\n",
       "    .dataframe tbody tr th:only-of-type {\n",
       "        vertical-align: middle;\n",
       "    }\n",
       "\n",
       "    .dataframe tbody tr th {\n",
       "        vertical-align: top;\n",
       "    }\n",
       "\n",
       "    .dataframe thead th {\n",
       "        text-align: right;\n",
       "    }\n",
       "</style>\n",
       "<table border=\"1\" class=\"dataframe\">\n",
       "  <thead>\n",
       "    <tr style=\"text-align: right;\">\n",
       "      <th></th>\n",
       "      <th>model</th>\n",
       "      <th>best_score</th>\n",
       "      <th>best_params</th>\n",
       "    </tr>\n",
       "  </thead>\n",
       "  <tbody>\n",
       "    <tr>\n",
       "      <th>0</th>\n",
       "      <td>random_forest</td>\n",
       "      <td>0.792107</td>\n",
       "      <td>{'n_estimators': 10}</td>\n",
       "    </tr>\n",
       "    <tr>\n",
       "      <th>1</th>\n",
       "      <td>decision_tree</td>\n",
       "      <td>0.746464</td>\n",
       "      <td>{'max_depth': 50, 'criterion': 'gini'}</td>\n",
       "    </tr>\n",
       "    <tr>\n",
       "      <th>2</th>\n",
       "      <td>hist_gradient_boosting</td>\n",
       "      <td>0.799465</td>\n",
       "      <td>{'max_iter': 100, 'max_depth': 50, 'learning_r...</td>\n",
       "    </tr>\n",
       "  </tbody>\n",
       "</table>\n",
       "</div>"
      ],
      "text/plain": [
       "                    model  best_score  \\\n",
       "0           random_forest    0.792107   \n",
       "1           decision_tree    0.746464   \n",
       "2  hist_gradient_boosting    0.799465   \n",
       "\n",
       "                                         best_params  \n",
       "0                               {'n_estimators': 10}  \n",
       "1             {'max_depth': 50, 'criterion': 'gini'}  \n",
       "2  {'max_iter': 100, 'max_depth': 50, 'learning_r...  "
      ]
     },
     "execution_count": 99,
     "metadata": {},
     "output_type": "execute_result"
    }
   ],
   "source": [
    "selected = select_best_columns(dfohpb2_std_n, \"readmitted\", 0.8)\n",
    "to_drop = set()\n",
    "print(\"deleted columns:\")\n",
    "\n",
    "for col in dfohpb2_std_n.columns:\n",
    "    if col not in selected:\n",
    "        print(col)\n",
    "        to_drop.add(col)\n",
    "if run_long_tasks or final_df:\n",
    "    scores, models=randomSearch(dfohpb2_std_n.drop(dfohpb2_std_n[list(to_drop)], axis=1), 'readmitted', search_space3, metric='f1')\n",
    "    sc = pd.DataFrame(scores,columns=['model','best_score','best_params'])\n",
    "sc"
   ]
  },
  {
   "attachments": {},
   "cell_type": "markdown",
   "metadata": {},
   "source": [
    "Low variance"
   ]
  },
  {
   "cell_type": "code",
   "execution_count": 109,
   "metadata": {},
   "outputs": [
    {
     "name": "stdout",
     "output_type": "stream",
     "text": [
      "(165273, 100)\n",
      "deleted columns:\n",
      "nateglinide\n",
      "chlorpropamide\n",
      "acetohexamide\n",
      "tolbutamide\n",
      "acarbose\n",
      "miglitol\n",
      "troglitazone\n",
      "tolazamide\n",
      "glyburide-metformin\n",
      "glipizide-metformin\n",
      "glimepiride-pioglitazone\n",
      "metformin-pioglitazone\n",
      "diag_1_class(Cause)\n",
      "diag_1_class(Congenital)\n",
      "diag_1_class(Pregnancy)\n",
      "diag_2_class(Cause)\n",
      "diag_2_class(Congenital)\n",
      "diag_2_class(Pregnancy)\n",
      "diag_3_class(Congenital)\n",
      "diag_3_class(Pregnancy)\n",
      "admission_type_id(4)\n",
      "admission_type_id(7)\n",
      "admission_type_id(8)\n",
      "discharge_disposition_id(4)\n",
      "discharge_disposition_id(7)\n",
      "discharge_disposition_id(8)\n",
      "discharge_disposition_id(9)\n",
      "discharge_disposition_id(10)\n",
      "discharge_disposition_id(12)\n",
      "discharge_disposition_id(13)\n",
      "discharge_disposition_id(14)\n",
      "discharge_disposition_id(15)\n",
      "discharge_disposition_id(16)\n",
      "discharge_disposition_id(17)\n",
      "discharge_disposition_id(19)\n",
      "discharge_disposition_id(20)\n",
      "discharge_disposition_id(23)\n",
      "discharge_disposition_id(24)\n",
      "discharge_disposition_id(27)\n",
      "discharge_disposition_id(28)\n",
      "admission_source_id(3)\n",
      "admission_source_id(8)\n",
      "admission_source_id(9)\n",
      "admission_source_id(10)\n",
      "admission_source_id(11)\n",
      "admission_source_id(13)\n",
      "admission_source_id(14)\n",
      "admission_source_id(20)\n",
      "admission_source_id(22)\n",
      "admission_source_id(25)\n",
      "race(Asian)\n",
      "Fitting 2 folds for each of 2 candidates, totalling 4 fits\n"
     ]
    },
    {
     "name": "stderr",
     "output_type": "stream",
     "text": [
      "c:\\Users\\PC\\AppData\\Local\\Programs\\Python\\Python310\\lib\\site-packages\\sklearn\\model_selection\\_search.py:306: UserWarning: The total space of parameters 2 is smaller than n_iter=10. Running 2 iterations. For exhaustive searches, use GridSearchCV.\n",
      "  warnings.warn(\n",
      "c:\\Users\\PC\\AppData\\Local\\Programs\\Python\\Python310\\lib\\site-packages\\sklearn\\model_selection\\_search.py:306: UserWarning: The total space of parameters 1 is smaller than n_iter=10. Running 1 iterations. For exhaustive searches, use GridSearchCV.\n",
      "  warnings.warn(\n"
     ]
    },
    {
     "name": "stdout",
     "output_type": "stream",
     "text": [
      "Fitting 2 folds for each of 1 candidates, totalling 2 fits\n"
     ]
    },
    {
     "name": "stderr",
     "output_type": "stream",
     "text": [
      "c:\\Users\\PC\\AppData\\Local\\Programs\\Python\\Python310\\lib\\site-packages\\sklearn\\model_selection\\_search.py:306: UserWarning: The total space of parameters 1 is smaller than n_iter=10. Running 1 iterations. For exhaustive searches, use GridSearchCV.\n",
      "  warnings.warn(\n"
     ]
    },
    {
     "name": "stdout",
     "output_type": "stream",
     "text": [
      "Fitting 2 folds for each of 1 candidates, totalling 2 fits\n"
     ]
    },
    {
     "data": {
      "text/html": [
       "<div>\n",
       "<style scoped>\n",
       "    .dataframe tbody tr th:only-of-type {\n",
       "        vertical-align: middle;\n",
       "    }\n",
       "\n",
       "    .dataframe tbody tr th {\n",
       "        vertical-align: top;\n",
       "    }\n",
       "\n",
       "    .dataframe thead th {\n",
       "        text-align: right;\n",
       "    }\n",
       "</style>\n",
       "<table border=\"1\" class=\"dataframe\">\n",
       "  <thead>\n",
       "    <tr style=\"text-align: right;\">\n",
       "      <th></th>\n",
       "      <th>model</th>\n",
       "      <th>best_score</th>\n",
       "      <th>best_params</th>\n",
       "    </tr>\n",
       "  </thead>\n",
       "  <tbody>\n",
       "    <tr>\n",
       "      <th>0</th>\n",
       "      <td>random_forest</td>\n",
       "      <td>0.789563</td>\n",
       "      <td>{'n_estimators': 10}</td>\n",
       "    </tr>\n",
       "    <tr>\n",
       "      <th>1</th>\n",
       "      <td>decision_tree</td>\n",
       "      <td>0.745976</td>\n",
       "      <td>{'max_depth': 50, 'criterion': 'gini'}</td>\n",
       "    </tr>\n",
       "    <tr>\n",
       "      <th>2</th>\n",
       "      <td>hist_gradient_boosting</td>\n",
       "      <td>0.803253</td>\n",
       "      <td>{'max_iter': 100, 'max_depth': 50, 'learning_r...</td>\n",
       "    </tr>\n",
       "  </tbody>\n",
       "</table>\n",
       "</div>"
      ],
      "text/plain": [
       "                    model  best_score  \\\n",
       "0           random_forest    0.789563   \n",
       "1           decision_tree    0.745976   \n",
       "2  hist_gradient_boosting    0.803253   \n",
       "\n",
       "                                         best_params  \n",
       "0                               {'n_estimators': 10}  \n",
       "1             {'max_depth': 50, 'criterion': 'gini'}  \n",
       "2  {'max_iter': 100, 'max_depth': 50, 'learning_r...  "
      ]
     },
     "execution_count": 109,
     "metadata": {},
     "output_type": "execute_result"
    }
   ],
   "source": [
    "selected_columns = remove_low_variance_columns(\n",
    "    dfohpb2_std_n, \"readmitted\", 0.005)\n",
    "\n",
    "to_drop = set()\n",
    "print(\"deleted columns:\")\n",
    "\n",
    "for col in dfohpb2_std_n.columns:\n",
    "    if col not in selected_columns:\n",
    "        print(col)\n",
    "        to_drop.add(col)\n",
    "\n",
    "if run_long_tasks or final_df:\n",
    "    scores, models=randomSearch(dfohpb2_std_n.drop(dfohpb2_std_n[list(to_drop)], axis=1), 'readmitted', search_space3, metric='f1')\n",
    "    sc = pd.DataFrame(scores,columns=['model','best_score','best_params'])\n",
    "sc"
   ]
  },
  {
   "cell_type": "code",
   "execution_count": 88,
   "metadata": {},
   "outputs": [],
   "source": [
    "def lassoRegularisation(df,target=\"readmitted\"):\n",
    "    new_df=df.copy(deep=True)\n",
    "\n",
    "    y = new_df[target]\n",
    "    X = new_df.drop(columns=[target])\n",
    "\n",
    "    sel_ = SelectFromModel(LogisticRegression(C=1, penalty='l1',solver='liblinear'))\n",
    "    sel_.fit(X, y)\n",
    "\n",
    "    newDF=pd.DataFrame(sel_.transform(X))\n",
    "    newDF.insert(newDF.shape[1],target,y)\n",
    "    return newDF\n",
    "\n",
    "lassoResult=lassoRegularisation(dfohpb2_std_n)"
   ]
  },
  {
   "cell_type": "code",
   "execution_count": 89,
   "metadata": {},
   "outputs": [
    {
     "name": "stdout",
     "output_type": "stream",
     "text": [
      "(165273, 152)\n",
      "(165273, 139)\n",
      "Fitting 2 folds for each of 2 candidates, totalling 4 fits\n"
     ]
    },
    {
     "name": "stderr",
     "output_type": "stream",
     "text": [
      "c:\\Users\\PC\\AppData\\Local\\Programs\\Python\\Python310\\lib\\site-packages\\sklearn\\model_selection\\_search.py:306: UserWarning: The total space of parameters 2 is smaller than n_iter=10. Running 2 iterations. For exhaustive searches, use GridSearchCV.\n",
      "  warnings.warn(\n",
      "c:\\Users\\PC\\AppData\\Local\\Programs\\Python\\Python310\\lib\\site-packages\\sklearn\\model_selection\\_search.py:306: UserWarning: The total space of parameters 1 is smaller than n_iter=10. Running 1 iterations. For exhaustive searches, use GridSearchCV.\n",
      "  warnings.warn(\n"
     ]
    },
    {
     "name": "stdout",
     "output_type": "stream",
     "text": [
      "Fitting 2 folds for each of 1 candidates, totalling 2 fits\n"
     ]
    },
    {
     "name": "stderr",
     "output_type": "stream",
     "text": [
      "c:\\Users\\PC\\AppData\\Local\\Programs\\Python\\Python310\\lib\\site-packages\\sklearn\\model_selection\\_search.py:306: UserWarning: The total space of parameters 1 is smaller than n_iter=10. Running 1 iterations. For exhaustive searches, use GridSearchCV.\n",
      "  warnings.warn(\n"
     ]
    },
    {
     "name": "stdout",
     "output_type": "stream",
     "text": [
      "Fitting 2 folds for each of 1 candidates, totalling 2 fits\n",
      "                    model  best_score  \\\n",
      "0           random_forest    0.833572   \n",
      "1           decision_tree    0.771468   \n",
      "2  hist_gradient_boosting    0.822003   \n",
      "\n",
      "                                         best_params  \n",
      "0                               {'n_estimators': 20}  \n",
      "1             {'max_depth': 50, 'criterion': 'gini'}  \n",
      "2  {'max_iter': 100, 'max_depth': 50, 'learning_r...  \n"
     ]
    }
   ],
   "source": [
    "print(dfohpb2_std_n.shape)\n",
    "print(lassoResult.shape)\n",
    "\n",
    "if run_long_tasks or final_df:\n",
    "    scores, models=randomSearch(lassoResult, 'readmitted', search_space3, metric='f1')\n",
    "    sc = pd.DataFrame(scores,columns=['model','best_score','best_params'])\n",
    "    print(sc)\n"
   ]
  },
  {
   "cell_type": "code",
   "execution_count": 90,
   "metadata": {},
   "outputs": [
    {
     "name": "stderr",
     "output_type": "stream",
     "text": [
      "c:\\Users\\PC\\AppData\\Local\\Programs\\Python\\Python310\\lib\\site-packages\\sklearn\\model_selection\\_search.py:306: UserWarning: The total space of parameters 2 is smaller than n_iter=10. Running 2 iterations. For exhaustive searches, use GridSearchCV.\n",
      "  warnings.warn(\n"
     ]
    },
    {
     "name": "stdout",
     "output_type": "stream",
     "text": [
      "Fitting 2 folds for each of 2 candidates, totalling 4 fits\n"
     ]
    },
    {
     "name": "stderr",
     "output_type": "stream",
     "text": [
      "c:\\Users\\PC\\AppData\\Local\\Programs\\Python\\Python310\\lib\\site-packages\\sklearn\\model_selection\\_search.py:306: UserWarning: The total space of parameters 1 is smaller than n_iter=10. Running 1 iterations. For exhaustive searches, use GridSearchCV.\n",
      "  warnings.warn(\n"
     ]
    },
    {
     "name": "stdout",
     "output_type": "stream",
     "text": [
      "Fitting 2 folds for each of 1 candidates, totalling 2 fits\n"
     ]
    },
    {
     "name": "stderr",
     "output_type": "stream",
     "text": [
      "c:\\Users\\PC\\AppData\\Local\\Programs\\Python\\Python310\\lib\\site-packages\\sklearn\\model_selection\\_search.py:306: UserWarning: The total space of parameters 1 is smaller than n_iter=10. Running 1 iterations. For exhaustive searches, use GridSearchCV.\n",
      "  warnings.warn(\n"
     ]
    },
    {
     "name": "stdout",
     "output_type": "stream",
     "text": [
      "Fitting 2 folds for each of 1 candidates, totalling 2 fits\n",
      "                    model  best_score  \\\n",
      "0           random_forest    0.878955   \n",
      "1           decision_tree    0.813032   \n",
      "2  hist_gradient_boosting    0.845574   \n",
      "\n",
      "                                         best_params  \n",
      "0                               {'n_estimators': 20}  \n",
      "1             {'max_depth': 50, 'criterion': 'gini'}  \n",
      "2  {'max_iter': 100, 'max_depth': 50, 'learning_r...  \n"
     ]
    }
   ],
   "source": [
    "df_pca2_lasso=principalComponentAnalysis(lassoResult)\n",
    "\n",
    "if run_long_tasks or final_df:\n",
    "    scores, models=randomSearch(df_pca2_lasso, 'readmitted', search_space3, metric='f1')\n",
    "    sc = pd.DataFrame(scores,columns=['model','best_score','best_params'])\n",
    "    print(sc)"
   ]
  },
  {
   "attachments": {},
   "cell_type": "markdown",
   "metadata": {},
   "source": [
    "PCA Hyperparameters"
   ]
  },
  {
   "cell_type": "code",
   "execution_count": 91,
   "metadata": {},
   "outputs": [],
   "source": [
    "search_space_final = {\n",
    "    \n",
    "    'logistic_regression': { \n",
    "        'model': LogisticRegression(solver='saga'),\n",
    "        'params': {\n",
    "            'penalty': ['elasticnet', 'l1', 'l2', None],\n",
    "            'C': [float(x) for x in np.linspace(start = 1, stop = 8, num =4)],\n",
    "            'max_iter': [int(x) for x in np.linspace(start = 1000, stop = 5000, num =3)], # ne konvergira na <1000\n",
    "        }\n",
    "    },\n",
    "    'knn': { \n",
    "        'model': KNeighborsClassifier(algorithm='auto'),\n",
    "        'params': {\n",
    "            'n_neighbors': [int(x) for x in np.linspace(start = 1,stop = 30,num =4,endpoint=True,dtype=int)],\n",
    "            'leaf_size': [30,20,50],\n",
    "            'p': [2,1],\n",
    "            'weights': ['uniform','distance']\n",
    "        }\n",
    "    },\n",
    "    'decision_tree': { \n",
    "        'model': DecisionTreeClassifier(),\n",
    "        'params': {\n",
    "            'criterion': ['gini','entropy'],\n",
    "            'max_depth': [int(x) for x in np.linspace(start = 10,stop = 100,endpoint=True,num =4,dtype=int)],\n",
    "            'min_samples_leaf': [int(x) for x in np.linspace(start = 1,stop = 10,endpoint=True,num =4,dtype=int)],\n",
    "            'min_samples_split': [int(x) for x in np.linspace(start = 1,stop = 30,endpoint=True,num =4,dtype=int)]\n",
    "        }\n",
    "    },\n",
    "    'hist_gradient_boosting': { \n",
    "        'model': HistGradientBoostingClassifier(),\n",
    "        'params': {\n",
    "            'max_iter': [int(x) for x in np.linspace(start = 50,stop = 2000,endpoint=True,num =4,dtype=int)],\n",
    "            'learning_rate': [int(x) for x in np.linspace(start = 0.1,stop = 1,endpoint=True,num = 4,dtype=int)],\n",
    "            'max_depth': [int(x) for x in np.linspace(start = 10,stop = 100,endpoint=True,num =4,dtype=int)],\n",
    "            'l2_regularization': [0,1.5],\n",
    "        }\n",
    "    },\n",
    "    'random_forest': { \n",
    "        'model': RandomForestClassifier(),\n",
    "        'params': {\n",
    "            'n_estimators': [int(x) for x in np.linspace(start = 10, stop = 1000, num = 4)],  # [1,5,10]\n",
    "            'max_depth': [int(x) for x in np.linspace(10, 110, num = 4)],\n",
    "            'min_samples_split': [2, 5, 10],\n",
    "            'min_samples_leaf': [1, 2, 4],\n",
    "            'bootstrap': [True, False]\n",
    "\n",
    "        }\n",
    "    },\n",
    "}"
   ]
  },
  {
   "cell_type": "code",
   "execution_count": 92,
   "metadata": {},
   "outputs": [],
   "source": [
    "# scores_final, models_final=randomSearch(df_pca2_lasso, 'readmitted', search_space_final, metric='f1', folds=2)\n",
    "# sc_final = pd.DataFrame(scores_final,columns=['model','best_score','best_params'])\n",
    "# sc_final"
   ]
  },
  {
   "cell_type": "code",
   "execution_count": 93,
   "metadata": {},
   "outputs": [],
   "source": [
    "# for i in range(0,5):\n",
    "#     print(sc_final.iloc[i]['best_params'])\n"
   ]
  },
  {
   "cell_type": "code",
   "execution_count": 94,
   "metadata": {},
   "outputs": [],
   "source": [
    "rf_search={\n",
    "    'random_forest': { \n",
    "        'model': RandomForestClassifier(),\n",
    "        'params': {\n",
    "            'n_estimators': [int(x) for x in np.linspace(start = 10, stop = 500, num = 4)],  # [1,5,10]\n",
    "            'max_depth': [int(x) for x in np.linspace(2, 50, num = 4)],\n",
    "            'min_samples_split': [5, 15, 10],\n",
    "            'min_samples_leaf': [8, 2, 4],\n",
    "            'bootstrap': [True, False]\n",
    "\n",
    "        }\n",
    "    },\n",
    "}\n",
    "# scores_rf, models_rf=gridSearch(df_pca2_lasso, 'readmitted', rf_search, metric='f1', folds=2)\n",
    "# sc_rf = pd.DataFrame(scores_rf,columns=['model','best_score','best_params'])\n",
    "# sc_rf"
   ]
  },
  {
   "cell_type": "code",
   "execution_count": 95,
   "metadata": {},
   "outputs": [],
   "source": [
    "# print(sc_rf.iloc[0]['best_params'])"
   ]
  },
  {
   "attachments": {},
   "cell_type": "markdown",
   "metadata": {},
   "source": [
    "PCA Boosting"
   ]
  },
  {
   "cell_type": "code",
   "execution_count": 96,
   "metadata": {},
   "outputs": [],
   "source": [
    "clf = VotingClassifier(estimators=[\n",
    "    ('rf',RandomForestClassifier(n_estimators=350, min_samples_split=2,min_samples_leaf=4,max_depth=10)),\n",
    "    ('dt',DecisionTreeClassifier(max_depth=10, criterion='entropy',min_samples_split=30,min_samples_leaf=4)),\n",
    "    ('lr',LogisticRegression(solver='saga',penalty='l2',max_iter=5000,C=5))], voting='hard')\n",
    "\n",
    "# grid = GridSearchCV(clf,{},cv=3,scoring='f1')\n",
    "# grid.fit(df_pca2_lasso.drop(columns=['readmitted']).values, df_pca2_lasso['readmitted'].values)\n",
    "# grid.best_score_\n",
    "#90min ~0.903"
   ]
  },
  {
   "cell_type": "code",
   "execution_count": 97,
   "metadata": {},
   "outputs": [
    {
     "data": {
      "image/png": "[encoded data removed]",
      "text/plain": [
       "<Figure size 640x480 with 1 Axes>"
      ]
     },
     "metadata": {},
     "output_type": "display_data"
    }
   ],
   "source": [
    "X=df_pca2_lasso.drop(columns=['readmitted']).values\n",
    "y=df_pca2_lasso['readmitted'].values\n",
    "X_train, X_test, y_train, y_test = train_test_split(\n",
    "    X, y, random_state=0)\n",
    "clasif = RandomForestClassifier(n_estimators=350, min_samples_split=2,min_samples_leaf=4,max_depth=10).fit(X_train,y_train)\n",
    "\n",
    "RocCurveDisplay.from_estimator(\n",
    "   clasif, X_test, y_test)\n",
    "\n",
    "plt.show()\n"
   ]
  },
  {
   "cell_type": "code",
   "execution_count": 98,
   "metadata": {},
   "outputs": [
    {
     "data": {
      "image/png": "[encoded data removed]",
      "text/plain": [
       "<Figure size 640x480 with 2 Axes>"
      ]
     },
     "metadata": {},
     "output_type": "display_data"
    }
   ],
   "source": [
    "predictions = clasif.predict(X_test)\n",
    "cm = confusion_matrix(y_test, predictions)\n",
    "disp = ConfusionMatrixDisplay(confusion_matrix=cm)\n",
    "disp.plot()\n",
    "plt.show()"
   ]
  }
 ],
 "metadata": {
  "kernelspec": {
   "display_name": "Python 3",
   "language": "python",
   "name": "python3"
  },
  "language_info": {
   "codemirror_mode": {
    "name": "ipython",
    "version": 3
   },
   "file_extension": ".py",
   "mimetype": "text/x-python",
   "name": "python",
   "nbconvert_exporter": "python",
   "pygments_lexer": "ipython3",
   "version": "3.10.4"
  },
  "orig_nbformat": 4,
  "vscode": {
   "interpreter": {
    "hash": "e593ac106456af50ce7af38f9671c411b49d6cd90f9b885e167f0f594e09038c"
   }
  }
 },
 "nbformat": 4,
 "nbformat_minor": 2
}
