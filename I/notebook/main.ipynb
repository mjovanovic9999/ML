{
 "cells": [
  {
   "cell_type": "markdown",
   "metadata": {},
   "source": [
    "# Masinsko ucenje - projekat\n",
    "\n",
    "Dataset: https://archive.ics.uci.edu/ml/datasets/Diabetes+130-US+hospitals+for+years+1999-2008\n",
    " \n",
    "Klasifikacija - Predviđanje ponovne hospitalizacije pacijenta sa dijabetesom na osnovu podataka sa inicijalne hospitalizacije\n",
    "\n",
    "1.   Priprema podataka"
   ]
  },
  {
   "cell_type": "code",
   "execution_count": null,
   "metadata": {},
   "outputs": [],
   "source": [
    "import pandas as pd\n",
    "import sklearn as scikit\n",
    "import numpy as np\n",
    "from sklearn.preprocessing import LabelBinarizer, MultiLabelBinarizer\n",
    "import copy\n",
    "import matplotlib.pyplot as plt\n",
    "import category_encoders as ce\n",
    "from sklearn.ensemble import GradientBoostingRegressor\n",
    "from sklearn.metrics import mean_squared_error\n",
    "from sklearn.model_selection import train_test_split\n",
    "from sklearn.inspection import permutation_importance\n",
    "import shap"
   ]
  },
  {
   "cell_type": "code",
   "execution_count": null,
   "metadata": {},
   "outputs": [],
   "source": [
    "path = \"../dataset/diabetic_data.csv\"\n",
    "dataframe = pd.read_csv(path, low_memory=False, na_values=[\"?\", \"Unknown/Invalid\"])\n",
    "pd.set_option(\"display.max_columns\", None)\n",
    "dataframe.head(3)"
   ]
  },
  {
   "cell_type": "code",
   "execution_count": null,
   "metadata": {},
   "outputs": [],
   "source": [
    "total_rows = dataframe.shape[0]\n",
    "dataframe.shape"
   ]
  },
  {
   "cell_type": "code",
   "execution_count": null,
   "metadata": {},
   "outputs": [],
   "source": [
    "dataframe[\"readmitted\"].value_counts()"
   ]
  },
  {
   "cell_type": "code",
   "execution_count": null,
   "metadata": {},
   "outputs": [],
   "source": [
    "missing = dataframe.isna()\n",
    "missing_count = missing.sum()\n",
    "treshold = 0.2\n",
    "to_drop = []\n",
    "for i in range(0, missing_count.count()):\n",
    "    if missing_count[i] / total_rows > treshold:\n",
    "        to_drop.append(i)\n",
    "for i in to_drop:\n",
    "    print(i, dataframe.columns[i])\n",
    "dataframe = dataframe.drop(dataframe.columns[to_drop], axis=1)\n",
    "dataframe.shape\n"
   ]
  },
  {
   "cell_type": "code",
   "execution_count": null,
   "metadata": {},
   "outputs": [],
   "source": [
    "dataframe.dropna(inplace=True)\n",
    "dataframe.drop(\n",
    "    dataframe[\n",
    "        [\n",
    "            \"encounter_id\",\n",
    "            \"patient_nbr\",\n",
    "            \"examide\",\n",
    "            \"citoglipton\",\n",
    "            \"metformin-rosiglitazone\",\n",
    "        ]\n",
    "    ],\n",
    "    axis=1,\n",
    "    inplace=True,\n",
    ")\n"
   ]
  },
  {
   "cell_type": "code",
   "execution_count": null,
   "metadata": {},
   "outputs": [],
   "source": [
    "print(\"Number Of Rows In The Original DataFrame:\", len(dataframe))\n",
    "print(\"Number Of Rows After Deduping:\", len(dataframe.drop_duplicates()))\n"
   ]
  },
  {
   "cell_type": "code",
   "execution_count": null,
   "metadata": {},
   "outputs": [],
   "source": [
    "dataframe.info()"
   ]
  },
  {
   "cell_type": "markdown",
   "metadata": {},
   "source": [
    "Diagnose mapping http://icd9cm.chrisendres.com/index.php?action=contents"
   ]
  },
  {
   "cell_type": "code",
   "execution_count": null,
   "metadata": {},
   "outputs": [],
   "source": [
    "def diag_mapper(value: str) -> int:\n",
    "    try:\n",
    "        int_value = int(float(value))\n",
    "        if int_value <= 139:\n",
    "            return 'Infectious and Parasitic'\n",
    "        elif int_value <= 239:\n",
    "            return 'Neoplasms'\n",
    "        elif int_value <= 279:\n",
    "            return 'Metabolic'\n",
    "        elif int_value <= 289:\n",
    "            return 'Blood'\n",
    "        elif int_value <= 319:\n",
    "            return 'Mental'\n",
    "        elif int_value <= 389:\n",
    "            return 'Nervous System'\n",
    "        elif int_value <= 459:\n",
    "            return 'Circulatory System'\n",
    "        elif int_value <= 519:\n",
    "            return 'Respiratory System'\n",
    "        elif int_value <= 579:\n",
    "            return 'Digestive System'\n",
    "        elif int_value <= 629:\n",
    "            return 'Genitourinary System'\n",
    "        elif int_value <= 679:\n",
    "            return 'Pregnancy'\n",
    "        elif int_value <= 709:\n",
    "            return 'Skin'\n",
    "        elif int_value <= 739:\n",
    "            return 'Musculoskeletal'\n",
    "        elif int_value <= 759:\n",
    "            return 'Congenital'\n",
    "        elif int_value <= 779:\n",
    "            return 'Perinatal Period'\n",
    "        elif int_value <= 799:\n",
    "            return 'Ill Defined'\n",
    "        else:\n",
    "            return 'Injury'\n",
    "    except ValueError:\n",
    "        if value[0] == 'V':\n",
    "            return 'Status'\n",
    "        else:  # E\n",
    "            return 'Cause'\n",
    "\n",
    "\n",
    "dataframe['diag_1_class'] = dataframe['diag_1'].apply(lambda x: diag_mapper(x))\n",
    "dataframe['diag_2_class'] = dataframe['diag_2'].apply(lambda x: diag_mapper(x))\n",
    "dataframe['diag_3_class'] = dataframe['diag_3'].apply(lambda x: diag_mapper(x))\n"
   ]
  },
  {
   "cell_type": "code",
   "execution_count": null,
   "metadata": {},
   "outputs": [],
   "source": [
    "age_scale_mapper = {\n",
    "    '[0-10)': 0,\n",
    "    '[10-20)': 1,\n",
    "    '[20-30)': 2,\n",
    "    '[30-40)': 3,\n",
    "    '[40-50)': 4,\n",
    "    '[50-60)': 5,\n",
    "    '[60-70)': 6,\n",
    "    '[70-80)': 7,\n",
    "    '[80-90)': 8,\n",
    "    '[90-100)': 9,\n",
    "}\n",
    "glu_scale_mapper = {\n",
    "    'None': 70,\n",
    "    'Norm': 70,\n",
    "    '>200': 250,\n",
    "    '>300': 350\n",
    "}\n",
    "a1_scale_mapper = {\n",
    "    'None': 4,\n",
    "    'Norm': 4,\n",
    "    '>7': 7,\n",
    "    '>8': 9,\n",
    "}\n",
    "level_scale_mapper = {\n",
    "    'No': 0,\n",
    "    'Steady': 2,\n",
    "    'Up': 3,\n",
    "    'Down': 1\n",
    "}\n",
    "class_mapper = {\n",
    "    'NO': 0,\n",
    "    '<30': 1,\n",
    "    '>30': 2\n",
    "}\n",
    "race_mapper = {\n",
    "    \"Other\": 0,\n",
    "    \"Caucasian\": 1,\n",
    "    \"AfricanAmerican\": 2,\n",
    "    \"Hispanic\": 3,\n",
    "    \"Asian\": 4,\n",
    "}\n",
    "diagnum_mapper = {\n",
    "    'Infectious and Parasitic': 0,\n",
    "    'Neoplasms': 1,\n",
    "    'Metabolic': 2,\n",
    "    'Blood': 3,\n",
    "    'Mental': 4,\n",
    "    'Nervous System': 5,\n",
    "    'Circulatory System': 6,\n",
    "    'Respiratory System': 7,\n",
    "    'Digestive System': 8,\n",
    "    'Genitourinary System': 9,\n",
    "    'Pregnancy': 10,\n",
    "    'Skin': 11,\n",
    "    'Musculoskeletal': 12,\n",
    "    'Congenital': 13,\n",
    "    'Perinatal Period': 14,\n",
    "    'Ill Defined': 15,\n",
    "    'Injury': 16,\n",
    "    'Status': 17,\n",
    "    'Cause': 18,\n",
    "}\n",
    "\n",
    "one_hot = LabelBinarizer()\n",
    "\n",
    "dataframe['admission_type_id'] = dataframe['admission_type_id'].astype(\n",
    "    'category')\n",
    "dataframe['discharge_disposition_id'] = dataframe['discharge_disposition_id'].astype(\n",
    "    'category')\n",
    "dataframe['admission_source_id'] = dataframe['admission_source_id'].astype(\n",
    "    'category')\n",
    "\n",
    "dataframe['age'] = dataframe['age'].replace(age_scale_mapper)\n",
    "dataframe['gender'] = one_hot.fit_transform(dataframe['gender'])\n",
    "dataframe['max_glu_serum'] = dataframe['max_glu_serum'].replace(\n",
    "    glu_scale_mapper)\n",
    "dataframe['A1Cresult'] = dataframe['A1Cresult'].replace(a1_scale_mapper)\n",
    "dataframe['metformin'] = dataframe['metformin'].replace(level_scale_mapper)\n",
    "dataframe['repaglinide'] = dataframe['repaglinide'].replace(level_scale_mapper)\n",
    "dataframe['nateglinide'] = dataframe['nateglinide'].replace(level_scale_mapper)\n",
    "dataframe['chlorpropamide'] = dataframe['chlorpropamide'].replace(\n",
    "    level_scale_mapper)\n",
    "dataframe['glimepiride'] = dataframe['glimepiride'].replace(level_scale_mapper)\n",
    "dataframe['acetohexamide'] = dataframe['acetohexamide'].replace(\n",
    "    level_scale_mapper)\n",
    "dataframe['glipizide'] = dataframe['glipizide'].replace(level_scale_mapper)\n",
    "dataframe['glyburide'] = dataframe['glyburide'].replace(level_scale_mapper)\n",
    "dataframe['tolbutamide'] = dataframe['tolbutamide'].replace(level_scale_mapper)\n",
    "dataframe['pioglitazone'] = dataframe['pioglitazone'].replace(\n",
    "    level_scale_mapper)\n",
    "dataframe['rosiglitazone'] = dataframe['rosiglitazone'].replace(\n",
    "    level_scale_mapper)\n",
    "dataframe['acarbose'] = dataframe['acarbose'].replace(level_scale_mapper)\n",
    "dataframe['miglitol'] = dataframe['miglitol'].replace(level_scale_mapper)\n",
    "dataframe['troglitazone'] = dataframe['troglitazone'].replace(\n",
    "    level_scale_mapper)\n",
    "dataframe['tolazamide'] = dataframe['tolazamide'].replace(level_scale_mapper)\n",
    "dataframe['insulin'] = dataframe['insulin'].replace(level_scale_mapper)\n",
    "dataframe['glyburide-metformin'] = dataframe['glyburide-metformin'].replace(\n",
    "    level_scale_mapper)\n",
    "dataframe['glipizide-metformin'] = dataframe['glipizide-metformin'].replace(\n",
    "    level_scale_mapper)\n",
    "dataframe['glimepiride-pioglitazone'] = dataframe['glimepiride-pioglitazone'].replace(\n",
    "    level_scale_mapper)\n",
    "dataframe['metformin-pioglitazone'] = dataframe['metformin-pioglitazone'].replace(\n",
    "    level_scale_mapper)\n",
    "dataframe['change'] = one_hot.fit_transform(dataframe['change'])\n",
    "dataframe['diabetesMed'] = one_hot.fit_transform(dataframe['diabetesMed'])\n",
    "dataframe['readmitted'] = dataframe['readmitted'].replace(class_mapper)\n"
   ]
  },
  {
   "cell_type": "code",
   "execution_count": null,
   "metadata": {},
   "outputs": [],
   "source": [
    "dataframe_onehot = dataframe.copy(deep=True)\n",
    "dataframe.info()"
   ]
  },
  {
   "cell_type": "code",
   "execution_count": null,
   "metadata": {},
   "outputs": [],
   "source": [
    "def df_one_hot(df,columns):\n",
    "    tmp=pd.DataFrame()\n",
    "    for col in columns:\n",
    "        res=one_hot.fit_transform(df[col])\n",
    "        for val in range(0,len(res[0])):\n",
    "            new_col = res[:,val]\n",
    "            tmp_col = pd.DataFrame({col +'('+ str(one_hot.classes_[val])+')' : new_col})\n",
    "            tmp = pd.concat((tmp,tmp_col),axis=1)\n",
    "    return pd.concat((df.reset_index(drop=True),tmp.reset_index(drop=True)),axis=1, join='inner')\n",
    "\n",
    "dataframe_onehot=df_one_hot(dataframe_onehot,['diag_1_class','diag_2_class','diag_3_class','admission_type_id','discharge_disposition_id','admission_source_id','race'])\n",
    "dataframe_onehot.drop(['diag_1_class','diag_2_class','diag_3_class','admission_type_id','discharge_disposition_id','admission_source_id','race'], axis=1, inplace=True)\n",
    "dataframe_onehot.shape"
   ]
  },
  {
   "cell_type": "code",
   "execution_count": null,
   "metadata": {},
   "outputs": [],
   "source": [
    "dataframe['diag_1_class'] = dataframe['diag_1'].replace(diagnum_mapper)\n",
    "dataframe['diag_2_class'] = dataframe['diag_2'].replace(diagnum_mapper)\n",
    "dataframe['diag_3_class'] = dataframe['diag_3'].replace(diagnum_mapper)\n",
    "dataframe['race'] = dataframe['race'].replace(race_mapper)"
   ]
  },
  {
   "cell_type": "code",
   "execution_count": null,
   "metadata": {},
   "outputs": [],
   "source": [
    "print(dataframe.shape)\n",
    "dataframe.head()"
   ]
  },
  {
   "cell_type": "code",
   "execution_count": null,
   "metadata": {},
   "outputs": [],
   "source": [
    "print(dataframe_onehot.shape)\n",
    "dataframe_onehot.head()"
   ]
  },
  {
   "cell_type": "markdown",
   "metadata": {},
   "source": [
    "2.   Deskriptivna analiza"
   ]
  },
  {
   "cell_type": "code",
   "execution_count": null,
   "metadata": {},
   "outputs": [],
   "source": [
    "# names for categories\n",
    "x = dataframe['readmitted'].unique()\n",
    "# quantities for each category\n",
    "y = dataframe['readmitted'].value_counts()\n",
    "# create bar chart\n",
    "plt.bar(x, y)\n",
    "# show line plot\n",
    "plt.show()\n"
   ]
  },
  {
   "cell_type": "code",
   "execution_count": null,
   "metadata": {},
   "outputs": [],
   "source": [
    "def feature_importance(df):\n",
    "    target = 'readmitted'\n",
    "    y = df[target]\n",
    "    X = df.drop(columns=[target])\n",
    "    X_train, X_test, y_train, y_test = train_test_split(X, y, test_size=.2, random_state=1066)\n",
    "    encoder = ce.LeaveOneOutEncoder(return_df=True)\n",
    "    X_train_loo = encoder.fit_transform(X_train, y_train)\n",
    "    X_test_loo = encoder.transform(X_test)\n",
    "    model = GradientBoostingRegressor(learning_rate=0.05, max_depth=5, n_estimators=500, min_samples_split=5, n_iter_no_change=10)\n",
    "    model.fit(X_train_loo, y_train)\n",
    "\n",
    "    rmse = np.sqrt(mean_squared_error(y_test, model.predict(X_test_loo)))\n",
    "    feature_importance = model.feature_importances_\n",
    "    sorted_idx = np.argsort(feature_importance)\n",
    "    fig = plt.figure(figsize=(20,30))\n",
    "    plt.barh(range(len(sorted_idx)), feature_importance[sorted_idx], align='center')\n",
    "    plt.yticks(range(len(sorted_idx)), np.array(X_test.columns)[sorted_idx])\n",
    "    plt.title('Feature Importance')\n",
    "\n",
    "    perm_importance = permutation_importance(model, X_test_loo, y_test, n_repeats=10, random_state=1066)\n",
    "    sorted_idx = perm_importance.importances_mean.argsort()\n",
    "    fig = plt.figure(figsize=(20,30))\n",
    "    plt.barh(range(len(sorted_idx)), perm_importance.importances_mean[sorted_idx], align='center')\n",
    "    plt.yticks(range(len(sorted_idx)), np.array(X_test.columns)[sorted_idx])\n",
    "    plt.title('Permutation Importance')\n",
    "\n",
    "    explainer = shap.Explainer(model)\n",
    "    shap_values = explainer(X_test_loo)\n",
    "    shap_importance = shap_values.abs.mean(0).values\n",
    "    sorted_idx = shap_importance.argsort()\n",
    "    fig = plt.figure(figsize=(20,30))\n",
    "    plt.barh(range(len(sorted_idx)), shap_importance[sorted_idx], align='center')\n",
    "    plt.yticks(range(len(sorted_idx)), np.array(X_test.columns)[sorted_idx])\n",
    "    plt.title('SHAP Importance')\n",
    "\n",
    "feature_importance(dataframe_onehot)"
   ]
  }
 ],
 "metadata": {
  "kernelspec": {
   "display_name": "Python 3.10.4 64-bit",
   "language": "python",
   "name": "python3"
  },
  "language_info": {
   "codemirror_mode": {
    "name": "ipython",
    "version": 3
   },
   "file_extension": ".py",
   "mimetype": "text/x-python",
   "name": "python",
   "nbconvert_exporter": "python",
   "pygments_lexer": "ipython3",
   "version": "3.10.4"
  },
  "orig_nbformat": 4,
  "vscode": {
   "interpreter": {
    "hash": "e593ac106456af50ce7af38f9671c411b49d6cd90f9b885e167f0f594e09038c"
   }
  }
 },
 "nbformat": 4,
 "nbformat_minor": 2
}
